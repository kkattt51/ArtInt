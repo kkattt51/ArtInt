{
  "nbformat": 4,
  "nbformat_minor": 0,
  "metadata": {
    "kernelspec": {
      "display_name": "Python 3",
      "language": "python",
      "name": "python3"
    },
    "language_info": {
      "codemirror_mode": {
        "name": "ipython",
        "version": 3
      },
      "file_extension": ".py",
      "mimetype": "text/x-python",
      "name": "python",
      "nbconvert_exporter": "python",
      "pygments_lexer": "ipython3",
      "version": "3.7.5"
    },
    "colab": {
      "name": "1.3 \"Лекция 02-python.ipynb\"",
      "provenance": [],
      "collapsed_sections": [],
      "include_colab_link": true
    }
  },
  "cells": [
    {
      "cell_type": "markdown",
      "metadata": {
        "id": "view-in-github",
        "colab_type": "text"
      },
      "source": [
        "<a href=\"https://colab.research.google.com/github/kkattt51/ArtInt/blob/main/1_3_%22%D0%9B%D0%B5%D0%BA%D1%86%D0%B8%D1%8F_02_python_ipynb%22.ipynb\" target=\"_parent\"><img src=\"https://colab.research.google.com/assets/colab-badge.svg\" alt=\"Open In Colab\"/></a>"
      ]
    },
    {
      "cell_type": "markdown",
      "metadata": {
        "id": "Ca4NtlkCC555"
      },
      "source": [
        "# Базовые типы данных"
      ]
    },
    {
      "cell_type": "code",
      "metadata": {
        "colab": {
          "base_uri": "https://localhost:8080/"
        },
        "id": "SlxqpUYDC557",
        "outputId": "371a94a4-5612-4f99-f3b0-009cd812e725"
      },
      "source": [
        "# int\n",
        "a = 10\n",
        "print(a, type(a))"
      ],
      "execution_count": null,
      "outputs": [
        {
          "output_type": "stream",
          "text": [
            "10 <class 'int'>\n"
          ],
          "name": "stdout"
        }
      ]
    },
    {
      "cell_type": "code",
      "metadata": {
        "colab": {
          "base_uri": "https://localhost:8080/"
        },
        "id": "_WWGbf-6C559",
        "outputId": "680c13d5-7b8d-4727-c9d5-d8d4b83f00a5"
      },
      "source": [
        "print(0b10, type(0b10))\n",
        "print(0x10, type(0x10))\n",
        "print(0o10, type(0o10))"
      ],
      "execution_count": null,
      "outputs": [
        {
          "output_type": "stream",
          "text": [
            "2 <class 'int'>\n",
            "16 <class 'int'>\n",
            "8 <class 'int'>\n"
          ],
          "name": "stdout"
        }
      ]
    },
    {
      "cell_type": "code",
      "metadata": {
        "colab": {
          "base_uri": "https://localhost:8080/"
        },
        "id": "xqpufZBEC55-",
        "outputId": "e4f7d54a-68ea-4b94-8b7d-a91416bd0969"
      },
      "source": [
        "# float\n",
        "b = 10.1\n",
        "print(b, type(b))\n",
        "b = 9\n",
        "print(b, type(b))"
      ],
      "execution_count": null,
      "outputs": [
        {
          "output_type": "stream",
          "text": [
            "10.1 <class 'float'>\n",
            "9 <class 'int'>\n"
          ],
          "name": "stdout"
        }
      ]
    },
    {
      "cell_type": "code",
      "metadata": {
        "colab": {
          "base_uri": "https://localhost:8080/"
        },
        "id": "Qtnmg4L4C55_",
        "outputId": "d7c2514c-8402-4d7c-f874-0c8b5e61eeb0"
      },
      "source": [
        "# boolean\n",
        "c = True # False # 1\n",
        "c = False        # 0 \n",
        "print(c, type(c))"
      ],
      "execution_count": null,
      "outputs": [
        {
          "output_type": "stream",
          "text": [
            "False <class 'bool'>\n"
          ],
          "name": "stdout"
        }
      ]
    },
    {
      "cell_type": "code",
      "metadata": {
        "colab": {
          "base_uri": "https://localhost:8080/"
        },
        "id": "avidq4hFC55_",
        "outputId": "afb3ffaf-05ed-495d-d3d1-a5d0d8705798"
      },
      "source": [
        "# string\n",
        "s = \"Hello, \\\"abc\\\", world\"\n",
        "print(s, type(s))"
      ],
      "execution_count": null,
      "outputs": [
        {
          "output_type": "stream",
          "text": [
            "Hello, \"abc\", world <class 'str'>\n"
          ],
          "name": "stdout"
        }
      ]
    },
    {
      "cell_type": "markdown",
      "metadata": {
        "id": "2EBJ9e5YC56A"
      },
      "source": [
        "# Экранирование"
      ]
    },
    {
      "cell_type": "code",
      "metadata": {
        "colab": {
          "base_uri": "https://localhost:8080/"
        },
        "id": "bVEDKd4BC56A",
        "outputId": "731cbc9b-7c46-41d9-afda-28695c0e9db4"
      },
      "source": [
        "s = \"Какая-то\\t строка\\nНовая линия\\nодна черта: \\\\\"\n",
        "print(s)"
      ],
      "execution_count": null,
      "outputs": [
        {
          "output_type": "stream",
          "text": [
            "Какая-то\t строка\\ nНовая линия\n",
            "одна черта: \\\n"
          ],
          "name": "stdout"
        }
      ]
    },
    {
      "cell_type": "code",
      "metadata": {
        "colab": {
          "base_uri": "https://localhost:8080/",
          "height": 35
        },
        "id": "OL12OSP7fYvl",
        "outputId": "3b209d92-75e1-4a2c-de1b-36b2b14abf46"
      },
      "source": [
        "s"
      ],
      "execution_count": null,
      "outputs": [
        {
          "output_type": "execute_result",
          "data": {
            "application/vnd.google.colaboratory.intrinsic+json": {
              "type": "string"
            },
            "text/plain": [
              "'Какая-то\\t строка\\nНовая линия\\nодна черта: \\\\'"
            ]
          },
          "metadata": {
            "tags": []
          },
          "execution_count": 15
        }
      ]
    },
    {
      "cell_type": "code",
      "metadata": {
        "colab": {
          "base_uri": "https://localhost:8080/"
        },
        "id": "luJZvLYJC56B",
        "outputId": "9ff68871-fd6a-4489-dd07-6d5f1077e008"
      },
      "source": [
        "s = \"\"\"multiline\n",
        "line 2\n",
        "line 3 \\\\\n",
        "\"\"\"\n",
        "print(s)"
      ],
      "execution_count": null,
      "outputs": [
        {
          "output_type": "stream",
          "text": [
            "multiline\n",
            "line 2\n",
            "line 3 \\\n",
            "\n"
          ],
          "name": "stdout"
        }
      ]
    },
    {
      "cell_type": "code",
      "metadata": {
        "colab": {
          "base_uri": "https://localhost:8080/",
          "height": 35
        },
        "id": "YJwPfP78fqbG",
        "outputId": "267db108-f66f-4cb4-cb37-1326862eda77"
      },
      "source": [
        "s"
      ],
      "execution_count": null,
      "outputs": [
        {
          "output_type": "execute_result",
          "data": {
            "application/vnd.google.colaboratory.intrinsic+json": {
              "type": "string"
            },
            "text/plain": [
              "'multiline\\nline 2\\nline 3 \\\\\\n'"
            ]
          },
          "metadata": {
            "tags": []
          },
          "execution_count": 18
        }
      ]
    },
    {
      "cell_type": "markdown",
      "metadata": {
        "id": "xriRVUsiC56B"
      },
      "source": [
        "# Перечисляемые типы данных"
      ]
    },
    {
      "cell_type": "code",
      "metadata": {
        "colab": {
          "base_uri": "https://localhost:8080/"
        },
        "id": "FpZQnH7sC56B",
        "outputId": "d2dc408e-d3e9-4338-9185-f8d6ef813da7"
      },
      "source": [
        "# list\n",
        "a = [1,2,3, 'string', 5.7]\n",
        "print(a, type(a))"
      ],
      "execution_count": null,
      "outputs": [
        {
          "output_type": "stream",
          "text": [
            "[1, 2, 3, 'string', 5.7] <class 'list'>\n"
          ],
          "name": "stdout"
        }
      ]
    },
    {
      "cell_type": "code",
      "metadata": {
        "id": "ficmx-62f6BE"
      },
      "source": [
        "a[0] = 10"
      ],
      "execution_count": null,
      "outputs": []
    },
    {
      "cell_type": "code",
      "metadata": {
        "colab": {
          "base_uri": "https://localhost:8080/"
        },
        "id": "8NjK9XcZLTQR",
        "outputId": "cfe91663-c026-4b27-b3bc-ac37d403b858"
      },
      "source": [
        "a"
      ],
      "execution_count": null,
      "outputs": [
        {
          "output_type": "execute_result",
          "data": {
            "text/plain": [
              "[10, 2, 3, 'string', 5.7]"
            ]
          },
          "metadata": {
            "tags": []
          },
          "execution_count": 31
        }
      ]
    },
    {
      "cell_type": "code",
      "metadata": {
        "colab": {
          "base_uri": "https://localhost:8080/"
        },
        "id": "lpds1vgugK1H",
        "outputId": "82d1c8b7-59e9-4359-8cb3-1e0fc2035db9"
      },
      "source": [
        "a[-5]"
      ],
      "execution_count": null,
      "outputs": [
        {
          "output_type": "execute_result",
          "data": {
            "text/plain": [
              "1"
            ]
          },
          "metadata": {
            "tags": []
          },
          "execution_count": 29
        }
      ]
    },
    {
      "cell_type": "code",
      "metadata": {
        "colab": {
          "base_uri": "https://localhost:8080/"
        },
        "id": "rIL3d5ScC56C",
        "outputId": "72041a02-163b-4e5a-d359-c4dba49b8ddf"
      },
      "source": [
        "# tuple\n",
        "# immutable!\n",
        "a = (1,2,3, 'string', 5.7)\n",
        "print(a, type(a))"
      ],
      "execution_count": null,
      "outputs": [
        {
          "output_type": "stream",
          "text": [
            "(1, 2, 3, 'string', 5.7) <class 'tuple'>\n"
          ],
          "name": "stdout"
        }
      ]
    },
    {
      "cell_type": "code",
      "metadata": {
        "colab": {
          "base_uri": "https://localhost:8080/"
        },
        "id": "dk9H2l5rC56C",
        "outputId": "0080647f-4fe0-4733-a3bc-761aa3947b19"
      },
      "source": [
        "# dict\n",
        "a = {\n",
        "    'string1': 'some string',\n",
        "    1: ['a', 'b', 'c'],\n",
        "    'integers': {\n",
        "        'int1':1,\n",
        "        'integers':2\n",
        "        }\n",
        "}\n",
        "print(a, type(a))"
      ],
      "execution_count": null,
      "outputs": [
        {
          "output_type": "stream",
          "text": [
            "{'string1': 'some string', 1: ['a', 'b', 'c'], 'integers': {'int1': 1, 'integers': 2}} <class 'dict'>\n"
          ],
          "name": "stdout"
        }
      ]
    },
    {
      "cell_type": "code",
      "metadata": {
        "colab": {
          "base_uri": "https://localhost:8080/"
        },
        "id": "9LUOAXd0MaMD",
        "outputId": "24a26f52-04c7-4302-def3-53a15793aa4c"
      },
      "source": [
        "a['integers']['integers']"
      ],
      "execution_count": null,
      "outputs": [
        {
          "output_type": "execute_result",
          "data": {
            "text/plain": [
              "2"
            ]
          },
          "metadata": {
            "tags": []
          },
          "execution_count": 43
        }
      ]
    },
    {
      "cell_type": "markdown",
      "metadata": {
        "id": "jSNoBQWzC56C"
      },
      "source": [
        "# Встроенные функции\n",
        "https://docs.python.org/3.7/library/functions.html\n",
        "* id\n",
        "* dir\n",
        "* hash\n",
        "* chr/ord\n",
        "* input()\n",
        "* zip\n",
        "* map\n",
        "* help\n",
        "* range"
      ]
    },
    {
      "cell_type": "code",
      "metadata": {
        "colab": {
          "base_uri": "https://localhost:8080/"
        },
        "id": "DlgB-X_6hJSc",
        "outputId": "b2369483-f8b3-4c94-97f2-86bbed48a05d"
      },
      "source": [
        "a"
      ],
      "execution_count": null,
      "outputs": [
        {
          "output_type": "execute_result",
          "data": {
            "text/plain": [
              "{1: ['a', 'b', 'c'],\n",
              " 'integers': {'int1': 1, 'integers': 2},\n",
              " 'string1': 'some string'}"
            ]
          },
          "metadata": {
            "tags": []
          },
          "execution_count": 44
        }
      ]
    },
    {
      "cell_type": "code",
      "metadata": {
        "colab": {
          "base_uri": "https://localhost:8080/"
        },
        "id": "lwI9zU0XhEjg",
        "outputId": "6c23addc-4673-427d-8151-74d7893ef999"
      },
      "source": [
        "id(a)"
      ],
      "execution_count": null,
      "outputs": [
        {
          "output_type": "execute_result",
          "data": {
            "text/plain": [
              "140529937907376"
            ]
          },
          "metadata": {
            "tags": []
          },
          "execution_count": 45
        }
      ]
    },
    {
      "cell_type": "code",
      "metadata": {
        "id": "e71-HL53hGbV"
      },
      "source": [
        "b = a"
      ],
      "execution_count": null,
      "outputs": []
    },
    {
      "cell_type": "code",
      "metadata": {
        "colab": {
          "base_uri": "https://localhost:8080/"
        },
        "id": "2syNXgy2hHyc",
        "outputId": "f2b85751-37c3-4d4b-cdb7-d71f2245e346"
      },
      "source": [
        "id(b)"
      ],
      "execution_count": null,
      "outputs": [
        {
          "output_type": "execute_result",
          "data": {
            "text/plain": [
              "140529937907376"
            ]
          },
          "metadata": {
            "tags": []
          },
          "execution_count": 47
        }
      ]
    },
    {
      "cell_type": "code",
      "metadata": {
        "colab": {
          "base_uri": "https://localhost:8080/"
        },
        "id": "UJjlYSPYhNm8",
        "outputId": "57289991-98d7-4b85-99e6-bc2a2db1e47b"
      },
      "source": [
        "id(a) == id(b)"
      ],
      "execution_count": null,
      "outputs": [
        {
          "output_type": "execute_result",
          "data": {
            "text/plain": [
              "True"
            ]
          },
          "metadata": {
            "tags": []
          },
          "execution_count": 48
        }
      ]
    },
    {
      "cell_type": "code",
      "metadata": {
        "id": "Kp1aDbSAhP5l"
      },
      "source": [
        "b = {'dfdf':'5656'}"
      ],
      "execution_count": null,
      "outputs": []
    },
    {
      "cell_type": "code",
      "metadata": {
        "id": "_7-Kz3_FhTB0"
      },
      "source": [
        "a"
      ],
      "execution_count": null,
      "outputs": []
    },
    {
      "cell_type": "code",
      "metadata": {
        "colab": {
          "base_uri": "https://localhost:8080/"
        },
        "id": "lJYg9awZhVSr",
        "outputId": "8c8e8e37-1a80-4ce5-b6ce-f32409abdb59"
      },
      "source": [
        "id(a)==id(b)"
      ],
      "execution_count": null,
      "outputs": [
        {
          "output_type": "execute_result",
          "data": {
            "text/plain": [
              "False"
            ]
          },
          "metadata": {
            "tags": []
          },
          "execution_count": 50
        }
      ]
    },
    {
      "cell_type": "code",
      "metadata": {
        "colab": {
          "base_uri": "https://localhost:8080/"
        },
        "id": "2Md9tnbbC56D",
        "outputId": "1d08d649-6893-4e0f-93c3-043542078d2a"
      },
      "source": [
        "help(dir)"
      ],
      "execution_count": null,
      "outputs": [
        {
          "output_type": "stream",
          "text": [
            "Help on built-in function dir in module builtins:\n",
            "\n",
            "dir(...)\n",
            "    dir([object]) -> list of strings\n",
            "    \n",
            "    If called without an argument, return the names in the current scope.\n",
            "    Else, return an alphabetized list of names comprising (some of) the attributes\n",
            "    of the given object, and of attributes reachable from it.\n",
            "    If the object supplies a method named __dir__, it will be used; otherwise\n",
            "    the default dir() logic is used and returns:\n",
            "      for a module object: the module's attributes.\n",
            "      for a class object:  its attributes, and recursively the attributes\n",
            "        of its bases.\n",
            "      for any other object: its attributes, its class's attributes, and\n",
            "        recursively the attributes of its class's base classes.\n",
            "\n"
          ],
          "name": "stdout"
        }
      ]
    },
    {
      "cell_type": "markdown",
      "metadata": {
        "id": "Iawx3lcxC56D"
      },
      "source": [
        "* shift+tab в jupyter выводит help"
      ]
    },
    {
      "cell_type": "code",
      "metadata": {
        "scrolled": true,
        "colab": {
          "base_uri": "https://localhost:8080/"
        },
        "id": "ca1RdvyLC56D",
        "outputId": "91f7e961-7825-458e-f504-a3ef90c8920a"
      },
      "source": [
        "dir()"
      ],
      "execution_count": null,
      "outputs": [
        {
          "output_type": "execute_result",
          "data": {
            "text/plain": [
              "['In',\n",
              " 'Out',\n",
              " '_',\n",
              " '_15',\n",
              " '_18',\n",
              " '_20',\n",
              " '_21',\n",
              " '_22',\n",
              " '_24',\n",
              " '_25',\n",
              " '_26',\n",
              " '_28',\n",
              " '_29',\n",
              " '_31',\n",
              " '_35',\n",
              " '_37',\n",
              " '_40',\n",
              " '_41',\n",
              " '_43',\n",
              " '_44',\n",
              " '_45',\n",
              " '_47',\n",
              " '_48',\n",
              " '_50',\n",
              " '__',\n",
              " '___',\n",
              " '__builtin__',\n",
              " '__builtins__',\n",
              " '__doc__',\n",
              " '__loader__',\n",
              " '__name__',\n",
              " '__package__',\n",
              " '__spec__',\n",
              " '_dh',\n",
              " '_i',\n",
              " '_i1',\n",
              " '_i10',\n",
              " '_i11',\n",
              " '_i12',\n",
              " '_i13',\n",
              " '_i14',\n",
              " '_i15',\n",
              " '_i16',\n",
              " '_i17',\n",
              " '_i18',\n",
              " '_i19',\n",
              " '_i2',\n",
              " '_i20',\n",
              " '_i21',\n",
              " '_i22',\n",
              " '_i23',\n",
              " '_i24',\n",
              " '_i25',\n",
              " '_i26',\n",
              " '_i27',\n",
              " '_i28',\n",
              " '_i29',\n",
              " '_i3',\n",
              " '_i30',\n",
              " '_i31',\n",
              " '_i32',\n",
              " '_i33',\n",
              " '_i34',\n",
              " '_i35',\n",
              " '_i36',\n",
              " '_i37',\n",
              " '_i38',\n",
              " '_i39',\n",
              " '_i4',\n",
              " '_i40',\n",
              " '_i41',\n",
              " '_i42',\n",
              " '_i43',\n",
              " '_i44',\n",
              " '_i45',\n",
              " '_i46',\n",
              " '_i47',\n",
              " '_i48',\n",
              " '_i49',\n",
              " '_i5',\n",
              " '_i50',\n",
              " '_i51',\n",
              " '_i52',\n",
              " '_i6',\n",
              " '_i7',\n",
              " '_i8',\n",
              " '_i9',\n",
              " '_ih',\n",
              " '_ii',\n",
              " '_iii',\n",
              " '_oh',\n",
              " '_sh',\n",
              " 'a',\n",
              " 'b',\n",
              " 'c',\n",
              " 'exit',\n",
              " 'get_ipython',\n",
              " 'quit',\n",
              " 's']"
            ]
          },
          "metadata": {
            "tags": []
          },
          "execution_count": 52
        }
      ]
    },
    {
      "cell_type": "code",
      "metadata": {
        "id": "O4Wz8fk_hte9"
      },
      "source": [
        "a.pop('integers')"
      ],
      "execution_count": null,
      "outputs": []
    },
    {
      "cell_type": "code",
      "metadata": {
        "id": "58XIaJ16hryU"
      },
      "source": [
        "dir(a)"
      ],
      "execution_count": null,
      "outputs": []
    },
    {
      "cell_type": "code",
      "metadata": {
        "id": "-j1DOe_Nh9La"
      },
      "source": [
        "a = 1000"
      ],
      "execution_count": null,
      "outputs": []
    },
    {
      "cell_type": "code",
      "metadata": {
        "id": "Zqa53FQuiDx_"
      },
      "source": [
        "a.bit_length()"
      ],
      "execution_count": null,
      "outputs": []
    },
    {
      "cell_type": "code",
      "metadata": {
        "id": "GiY39Qbph-gY"
      },
      "source": [
        "dir(a)"
      ],
      "execution_count": null,
      "outputs": []
    },
    {
      "cell_type": "code",
      "metadata": {
        "id": "3KwrccY7C56D"
      },
      "source": [
        "help(id)"
      ],
      "execution_count": null,
      "outputs": []
    },
    {
      "cell_type": "markdown",
      "metadata": {
        "id": "24w22nUSC56E"
      },
      "source": [
        "# последовательность исполнения\n",
        "* if/elif/else\n",
        "    * OR\n",
        "    * AND\n",
        "    * NOT\n",
        "* отсутствует case\n",
        "* for\n",
        "* while"
      ]
    },
    {
      "cell_type": "code",
      "metadata": {
        "colab": {
          "base_uri": "https://localhost:8080/"
        },
        "id": "xcx7Q_cQC56E",
        "outputId": "fe5cd1b3-0346-4bf3-a2be-4d99ceef5ed6"
      },
      "source": [
        "print(True or False)\n",
        "print(True and False)\n",
        "print(not False)\n",
        "print(not True)"
      ],
      "execution_count": null,
      "outputs": [
        {
          "output_type": "stream",
          "text": [
            "True\n",
            "False\n",
            "True\n",
            "False\n"
          ],
          "name": "stdout"
        }
      ]
    },
    {
      "cell_type": "markdown",
      "metadata": {
        "id": "CMn0vWmWC56E"
      },
      "source": [
        "###### Есть так же bitwise логические операции\n",
        "https://docs.python.org/3/library/operator.html#mapping-operators-to-functions"
      ]
    },
    {
      "cell_type": "code",
      "metadata": {
        "id": "rm14zD70C56F"
      },
      "source": [
        "year = int(input())\n",
        "if ((year % 4 == 0) and (year % 100 != 0)) or (year % 400 == 0):\n",
        "    print('YES')\n",
        "else:\n",
        "    print('NO')"
      ],
      "execution_count": null,
      "outputs": []
    },
    {
      "cell_type": "code",
      "metadata": {
        "colab": {
          "base_uri": "https://localhost:8080/"
        },
        "id": "IELqZJfpC56F",
        "outputId": "a879ce64-bddb-4ae6-c66c-bb00c980a8be"
      },
      "source": [
        "year = int(input())\n",
        "if year % 400 == 0:\n",
        "    print('YES')\n",
        "elif year % 100 == 0:\n",
        "    print('NO')\n",
        "elif year % 4 == 0:\n",
        "    print('YES')\n",
        "else:\n",
        "    print('NO')"
      ],
      "execution_count": null,
      "outputs": [
        {
          "output_type": "stream",
          "text": [
            "2021\n",
            "NO\n"
          ],
          "name": "stdout"
        }
      ]
    },
    {
      "cell_type": "code",
      "metadata": {
        "colab": {
          "base_uri": "https://localhost:8080/"
        },
        "id": "xKd9OuB1QhLB",
        "outputId": "ce4cab3b-e4c5-4128-df43-3d9d17e575ec"
      },
      "source": [
        "print(1)\n",
        "print(2)\n",
        "print(3)\n",
        "print(4)"
      ],
      "execution_count": null,
      "outputs": [
        {
          "output_type": "stream",
          "text": [
            "1\n",
            "2\n",
            "3\n",
            "4\n"
          ],
          "name": "stdout"
        }
      ]
    },
    {
      "cell_type": "code",
      "metadata": {
        "colab": {
          "base_uri": "https://localhost:8080/"
        },
        "id": "ieWdq8o5Qu7s",
        "outputId": "36151cc0-8416-4cb4-f5c7-82f772dd7b74"
      },
      "source": [
        "range(1,10)"
      ],
      "execution_count": null,
      "outputs": [
        {
          "output_type": "execute_result",
          "data": {
            "text/plain": [
              "range(1, 10)"
            ]
          },
          "metadata": {
            "tags": []
          },
          "execution_count": 60
        }
      ]
    },
    {
      "cell_type": "code",
      "metadata": {
        "colab": {
          "base_uri": "https://localhost:8080/"
        },
        "id": "b60dI1F1C56F",
        "outputId": "8d52f6cb-a0e1-45fc-e204-2440ac48e1f4"
      },
      "source": [
        "for i in range(1,10):\n",
        "    print(i, i**2)"
      ],
      "execution_count": null,
      "outputs": [
        {
          "output_type": "stream",
          "text": [
            "1 1\n",
            "2 4\n",
            "3 9\n",
            "4 16\n",
            "5 25\n",
            "6 36\n",
            "7 49\n",
            "8 64\n",
            "9 81\n"
          ],
          "name": "stdout"
        }
      ]
    },
    {
      "cell_type": "code",
      "metadata": {
        "colab": {
          "base_uri": "https://localhost:8080/"
        },
        "id": "BJ6a3TR_jdI7",
        "outputId": "dc8c3616-96bd-4d1f-fadb-bf13e75ba8ce"
      },
      "source": [
        "for i in [1,2,7,8,9]:\n",
        "    print(i, i**i)"
      ],
      "execution_count": null,
      "outputs": [
        {
          "output_type": "stream",
          "text": [
            "1 1\n",
            "2 4\n",
            "7 823543\n",
            "8 16777216\n",
            "9 387420489\n"
          ],
          "name": "stdout"
        }
      ]
    },
    {
      "cell_type": "code",
      "metadata": {
        "id": "yNIb49C1joiL"
      },
      "source": [
        "help(ord)"
      ],
      "execution_count": null,
      "outputs": []
    },
    {
      "cell_type": "code",
      "metadata": {
        "colab": {
          "base_uri": "https://localhost:8080/"
        },
        "id": "ribWS5ewRVSu",
        "outputId": "fe79e255-7ef3-4255-e7bf-f46f4c09ebf6"
      },
      "source": [
        "ord(\"Я\")"
      ],
      "execution_count": null,
      "outputs": [
        {
          "output_type": "execute_result",
          "data": {
            "text/plain": [
              "1071"
            ]
          },
          "metadata": {
            "tags": []
          },
          "execution_count": 69
        }
      ]
    },
    {
      "cell_type": "code",
      "metadata": {
        "colab": {
          "base_uri": "https://localhost:8080/"
        },
        "id": "YSje8zZfC56G",
        "outputId": "063b3ee9-74e7-49cc-e762-5f79bef2c0aa"
      },
      "source": [
        "for c in \"Hello world\":\n",
        "    print(c, ord(c))"
      ],
      "execution_count": null,
      "outputs": [
        {
          "output_type": "stream",
          "text": [
            "H 72\n",
            "e 101\n",
            "l 108\n",
            "l 108\n",
            "o 111\n",
            "  32\n",
            "w 119\n",
            "o 111\n",
            "r 114\n",
            "l 108\n",
            "d 100\n"
          ],
          "name": "stdout"
        }
      ]
    },
    {
      "cell_type": "code",
      "metadata": {
        "id": "DQufujH5jxXM"
      },
      "source": [
        "for c in \"Привет, мир\":\n",
        "    print(c, ord(c))"
      ],
      "execution_count": null,
      "outputs": []
    },
    {
      "cell_type": "code",
      "metadata": {
        "colab": {
          "base_uri": "https://localhost:8080/"
        },
        "id": "b-HeLYYQC56G",
        "outputId": "2c0a4985-51ef-4d91-9a5f-43b772d4173b"
      },
      "source": [
        "counter = 0\n",
        "while True:\n",
        "    counter+=1\n",
        "    if counter==1000:\n",
        "        break\n",
        "counter"
      ],
      "execution_count": null,
      "outputs": [
        {
          "output_type": "execute_result",
          "data": {
            "text/plain": [
              "1000"
            ]
          },
          "metadata": {
            "tags": []
          },
          "execution_count": 71
        }
      ]
    },
    {
      "cell_type": "code",
      "metadata": {
        "colab": {
          "base_uri": "https://localhost:8080/"
        },
        "id": "uPfz4ZB7kAd4",
        "outputId": "343d2b38-fcde-4484-b1be-e21b61161701"
      },
      "source": [
        "counter = 0\n",
        "while counter<1000:\n",
        "    counter+=1\n",
        "counter"
      ],
      "execution_count": null,
      "outputs": [
        {
          "output_type": "execute_result",
          "data": {
            "text/plain": [
              "1000"
            ]
          },
          "metadata": {
            "tags": []
          },
          "execution_count": 72
        }
      ]
    },
    {
      "cell_type": "markdown",
      "metadata": {
        "id": "4Q0-P9N4C56G"
      },
      "source": [
        "# I/O\n",
        "режимы:\n",
        "* w\n",
        "* wb\n",
        "* r\n",
        "* rb\n",
        "* r+"
      ]
    },
    {
      "cell_type": "code",
      "metadata": {
        "id": "dEQBc5LCC56G"
      },
      "source": [
        "with open('somefile.txt', 'w') as a:\n",
        "    a.write('Hello world')"
      ],
      "execution_count": null,
      "outputs": []
    },
    {
      "cell_type": "code",
      "metadata": {
        "id": "u1lycAzHlFSF"
      },
      "source": [
        "a = open('smefile.txt', 'w')\n",
        "a.write('Hello world')\n",
        "a.close()"
      ],
      "execution_count": null,
      "outputs": []
    },
    {
      "cell_type": "code",
      "metadata": {
        "id": "uUlVX7X6C56H"
      },
      "source": [
        "with open('somefile.txt', 'r') as b:\n",
        "    print(b.read())"
      ],
      "execution_count": null,
      "outputs": []
    },
    {
      "cell_type": "markdown",
      "metadata": {
        "id": "U8HqmI9NC56H"
      },
      "source": [
        "# Функции"
      ]
    },
    {
      "cell_type": "code",
      "metadata": {
        "id": "WcIBja05C56H"
      },
      "source": [
        "def get_square(a, b=2, c=10):\n",
        "    print(a)\n",
        "    print(b)\n",
        "    print(c)\n",
        "    return a**b+c"
      ],
      "execution_count": null,
      "outputs": []
    },
    {
      "cell_type": "code",
      "metadata": {
        "colab": {
          "base_uri": "https://localhost:8080/"
        },
        "id": "EW4ogCeSlm9t",
        "outputId": "e2bb59e9-d9e3-454e-8592-b93debbc8301"
      },
      "source": [
        "get_square(99)"
      ],
      "execution_count": null,
      "outputs": [
        {
          "output_type": "stream",
          "text": [
            "99\n",
            "2\n",
            "10\n"
          ],
          "name": "stdout"
        }
      ]
    },
    {
      "cell_type": "code",
      "metadata": {
        "colab": {
          "base_uri": "https://localhost:8080/"
        },
        "id": "Ce2jppGvC56H",
        "outputId": "77d662dc-32b5-47ca-b791-a8b0d35cdbf4"
      },
      "source": [
        "get_square(99, b=3)"
      ],
      "execution_count": null,
      "outputs": [
        {
          "output_type": "stream",
          "text": [
            "99\n",
            "3\n",
            "10\n"
          ],
          "name": "stdout"
        },
        {
          "output_type": "execute_result",
          "data": {
            "text/plain": [
              "970309"
            ]
          },
          "metadata": {
            "tags": []
          },
          "execution_count": 80
        }
      ]
    },
    {
      "cell_type": "markdown",
      "metadata": {
        "id": "Ylg6ZnHJC56I"
      },
      "source": [
        "# Классы"
      ]
    },
    {
      "cell_type": "markdown",
      "metadata": {
        "id": "xUsyiCJmlQC6"
      },
      "source": [
        "![232.gif](data:image/gif;base64,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)"
      ]
    },
    {
      "cell_type": "code",
      "metadata": {
        "id": "GIbzl2rQC56I"
      },
      "source": [
        "import math\n",
        "\n",
        "class Point3d:\n",
        "    def __init__(self, x, y, z):\n",
        "        self.x = x\n",
        "        self.y = y\n",
        "        self.z = z\n",
        "    def __repr__(self):\n",
        "        return f'Point3d object ({self.x} {self.y} {self.z})'\n",
        "    def dist(self, other_point):\n",
        "        delta_x = self.x - other_point.x\n",
        "        delta_y = self.y - other_point.y\n",
        "        delta_z = self.z - other_point.z\n",
        "        return math.sqrt(delta_x**2+delta_y**2+delta_z**2)"
      ],
      "execution_count": null,
      "outputs": []
    },
    {
      "cell_type": "code",
      "metadata": {
        "id": "KXem-XNiC56I"
      },
      "source": [
        "a = Point3d(0,0,0)\n",
        "b = Point3d(1,0,0)\n",
        "c = Point3d(1,1,0)\n",
        "d = Point3d(1,1,1)\n",
        "print(a.dist(b))\n",
        "print(a.dist(c))\n",
        "print(a.dist(d))"
      ],
      "execution_count": null,
      "outputs": []
    },
    {
      "cell_type": "code",
      "metadata": {
        "id": "WWQavANNm09d"
      },
      "source": [
        "a.__repr__()"
      ],
      "execution_count": null,
      "outputs": []
    },
    {
      "cell_type": "code",
      "metadata": {
        "id": "mKxkbsndmw_1"
      },
      "source": [
        "print(a)"
      ],
      "execution_count": null,
      "outputs": []
    },
    {
      "cell_type": "markdown",
      "metadata": {
        "id": "Lge4x9baC56I"
      },
      "source": [
        "# модули"
      ]
    },
    {
      "cell_type": "code",
      "metadata": {
        "id": "u65w7YZfC56J"
      },
      "source": [
        "!pip3 install numpy"
      ],
      "execution_count": null,
      "outputs": []
    },
    {
      "cell_type": "code",
      "metadata": {
        "id": "SuF8LCL-C56J"
      },
      "source": [
        "import numpy as np"
      ],
      "execution_count": null,
      "outputs": []
    },
    {
      "cell_type": "code",
      "metadata": {
        "id": "p-Y_VL94F-Dr"
      },
      "source": [
        "np.__version__"
      ],
      "execution_count": null,
      "outputs": []
    },
    {
      "cell_type": "code",
      "metadata": {
        "id": "xK52dpBqC56J"
      },
      "source": [
        "arr = np.array([1,2,3])\n",
        "print(arr, type(arr))"
      ],
      "execution_count": null,
      "outputs": []
    },
    {
      "cell_type": "code",
      "metadata": {
        "id": "mD06SyZanv9l"
      },
      "source": [
        "arr+arr"
      ],
      "execution_count": null,
      "outputs": []
    },
    {
      "cell_type": "markdown",
      "metadata": {
        "id": "d-glK_-hVKB5"
      },
      "source": [
        "# ДЛЯ ДЗ"
      ]
    },
    {
      "cell_type": "code",
      "metadata": {
        "id": "ADvD6SEaVI38"
      },
      "source": [
        "from math import sqrt"
      ],
      "execution_count": null,
      "outputs": []
    },
    {
      "cell_type": "code",
      "metadata": {
        "id": "z3aXjj_IVLu2"
      },
      "source": [
        ""
      ],
      "execution_count": null,
      "outputs": []
    }
  ]
}