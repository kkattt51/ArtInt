{
  "nbformat": 4,
  "nbformat_minor": 0,
  "metadata": {
    "colab": {
      "name": "6. HomeTask.ipynb",
      "provenance": [],
      "collapsed_sections": [],
      "include_colab_link": true
    },
    "kernelspec": {
      "name": "python3",
      "display_name": "Python 3"
    },
    "language_info": {
      "name": "python"
    }
  },
  "cells": [
    {
      "cell_type": "markdown",
      "metadata": {
        "id": "view-in-github",
        "colab_type": "text"
      },
      "source": [
        "<a href=\"https://colab.research.google.com/github/kkattt51/ArtInt/blob/main/6_HomeTask.ipynb\" target=\"_parent\"><img src=\"https://colab.research.google.com/assets/colab-badge.svg\" alt=\"Open In Colab\"/></a>"
      ]
    },
    {
      "cell_type": "markdown",
      "metadata": {
        "id": "X2Mhe-AueOVW"
      },
      "source": [
        "### Шаблон домашнего задания №1 (простое)"
      ]
    },
    {
      "cell_type": "markdown",
      "metadata": {
        "id": "JOWI6wLQhN4b"
      },
      "source": [
        "<font size=2 color=grey> Вдохновлено семинарами по NLP Максима Рябина из BigData Team https://bigdatateam.org/ru"
      ]
    },
    {
      "cell_type": "markdown",
      "metadata": {
        "id": "EmFA8OwieTue"
      },
      "source": [
        "В данном ноутбуке вам предстоит реализовать модель классификации твитов с помошью логистической регрессии на признаках [Tf-Idf](https://ru.wikipedia.org/wiki/TF-IDF), затем померить качество предсказания на тестовой выборке и сравнить его с нейросетевой моделью, построенной на лекциях"
      ]
    },
    {
      "cell_type": "code",
      "metadata": {
        "id": "Drql_ZxKemFX"
      },
      "source": [
        "import numpy as np\n",
        "import pandas as pd\n",
        "\n",
        "from sklearn.feature_extraction.text import TfidfVectorizer\n",
        "from sklearn.model_selection import train_test_split\n",
        "from nltk.tokenize import TweetTokenizer\n",
        "\n",
        "from sklearn.metrics import roc_auc_score, roc_curve, accuracy_score\n",
        "\n",
        "from sklearn.linear_model import LogisticRegression\n",
        "\n",
        "import matplotlib.pyplot as plt\n",
        "from IPython import display\n",
        "%matplotlib inline\n",
        "\n",
        "import warnings\n",
        "warnings.filterwarnings(\"ignore\")"
      ],
      "execution_count": null,
      "outputs": []
    },
    {
      "cell_type": "markdown",
      "metadata": {
        "id": "RMOcCkMzeTzg"
      },
      "source": [
        "### <font color=green> Импортирование данных"
      ]
    },
    {
      "cell_type": "markdown",
      "metadata": {
        "id": "Pjz804eke0nv"
      },
      "source": [
        "Качаем общедоступные данные для задачи классификации токсичных твитов. Они те же самые, что были на лекции. Выборка представляет собой набор текстов на английском языке и метки классов для различных задач. Нас интересует задача по классификации текстов на \"токсичный\" или \"нет\", поэтому будем использовать метку `toxic`."
      ]
    },
    {
      "cell_type": "code",
      "metadata": {
        "id": "YJC9oc_GeLj-"
      },
      "source": [
        "!wget -q -nc https://raw.githubusercontent.com/tianqwang/Toxic-Comment-Classification-Challenge/master/data/train.csv"
      ],
      "execution_count": null,
      "outputs": []
    },
    {
      "cell_type": "code",
      "metadata": {
        "id": "zhA54KpSeb3A"
      },
      "source": [
        "kaggle_data = pd.read_csv(\"train.csv\")"
      ],
      "execution_count": null,
      "outputs": []
    },
    {
      "cell_type": "code",
      "metadata": {
        "id": "plnamxGEf4ZP",
        "colab": {
          "base_uri": "https://localhost:8080/",
          "height": 107
        },
        "outputId": "40ff6ad4-6675-40c3-a98b-59954d237f77"
      },
      "source": [
        "kaggle_data.head(2)"
      ],
      "execution_count": null,
      "outputs": [
        {
          "output_type": "execute_result",
          "data": {
            "text/html": [
              "<div>\n",
              "<style scoped>\n",
              "    .dataframe tbody tr th:only-of-type {\n",
              "        vertical-align: middle;\n",
              "    }\n",
              "\n",
              "    .dataframe tbody tr th {\n",
              "        vertical-align: top;\n",
              "    }\n",
              "\n",
              "    .dataframe thead th {\n",
              "        text-align: right;\n",
              "    }\n",
              "</style>\n",
              "<table border=\"1\" class=\"dataframe\">\n",
              "  <thead>\n",
              "    <tr style=\"text-align: right;\">\n",
              "      <th></th>\n",
              "      <th>id</th>\n",
              "      <th>comment_text</th>\n",
              "      <th>toxic</th>\n",
              "      <th>severe_toxic</th>\n",
              "      <th>obscene</th>\n",
              "      <th>threat</th>\n",
              "      <th>insult</th>\n",
              "      <th>identity_hate</th>\n",
              "    </tr>\n",
              "  </thead>\n",
              "  <tbody>\n",
              "    <tr>\n",
              "      <th>0</th>\n",
              "      <td>0000997932d777bf</td>\n",
              "      <td>Explanation\\nWhy the edits made under my usern...</td>\n",
              "      <td>0</td>\n",
              "      <td>0</td>\n",
              "      <td>0</td>\n",
              "      <td>0</td>\n",
              "      <td>0</td>\n",
              "      <td>0</td>\n",
              "    </tr>\n",
              "    <tr>\n",
              "      <th>1</th>\n",
              "      <td>000103f0d9cfb60f</td>\n",
              "      <td>D'aww! He matches this background colour I'm s...</td>\n",
              "      <td>0</td>\n",
              "      <td>0</td>\n",
              "      <td>0</td>\n",
              "      <td>0</td>\n",
              "      <td>0</td>\n",
              "      <td>0</td>\n",
              "    </tr>\n",
              "  </tbody>\n",
              "</table>\n",
              "</div>"
            ],
            "text/plain": [
              "                 id  ... identity_hate\n",
              "0  0000997932d777bf  ...             0\n",
              "1  000103f0d9cfb60f  ...             0\n",
              "\n",
              "[2 rows x 8 columns]"
            ]
          },
          "metadata": {
            "tags": []
          },
          "execution_count": 4
        }
      ]
    },
    {
      "cell_type": "markdown",
      "metadata": {
        "id": "ngfWUrs1f15o"
      },
      "source": [
        "### <font color=green> Токенизация текстов"
      ]
    },
    {
      "cell_type": "markdown",
      "metadata": {
        "id": "gAuIE7wLgMta"
      },
      "source": [
        "Составлять словарь и кодировать последовательности токенов числами уже не требуется, т.к будем считать значения Tf-Idf `nltk.tokenize.TweetTokenizer`,  сопостовляя каждому тексту вектор из признаков Tf-Idf"
      ]
    },
    {
      "cell_type": "code",
      "metadata": {
        "id": "xDVRolPRgpVD",
        "colab": {
          "base_uri": "https://localhost:8080/"
        },
        "outputId": "af842eb7-ca65-4322-e8a1-220e1286a757"
      },
      "source": [
        "tokenizer = TweetTokenizer()\n",
        "preprocess = lambda text: ' '.join(tokenizer.tokenize(text.lower()))\n",
        "\n",
        "text = \"It's a lecture for Russian Programming School!\"\n",
        "print(\"Пример до токенизации:\", text,)\n",
        "print(\"После токенизации:\", preprocess(text))"
      ],
      "execution_count": null,
      "outputs": [
        {
          "output_type": "stream",
          "text": [
            "Пример до токенизации: It's a lecture for Russian Programming School!\n",
            "После токенизации: it's a lecture for russian programming school !\n"
          ],
          "name": "stdout"
        }
      ]
    },
    {
      "cell_type": "markdown",
      "metadata": {
        "id": "i6YP9_RmiEnj"
      },
      "source": [
        "Отделяем целевую метку классов от текстов и формируем списки текстов и их меток после токенизации"
      ]
    },
    {
      "cell_type": "code",
      "metadata": {
        "id": "Ajw7QMBpzkh9",
        "colab": {
          "base_uri": "https://localhost:8080/"
        },
        "outputId": "c34b5743-9265-4494-ce43-5931af03236a"
      },
      "source": [
        "%%time\n",
        "texts = kaggle_data['comment_text']\n",
        "target = kaggle_data['toxic']\n",
        "\n",
        "texts_train, texts_test, y_train, y_test = train_test_split(texts, target, test_size=1000, random_state=42)"
      ],
      "execution_count": null,
      "outputs": [
        {
          "output_type": "stream",
          "text": [
            "CPU times: user 25.7 ms, sys: 1.08 ms, total: 26.8 ms\n",
            "Wall time: 31.1 ms\n"
          ],
          "name": "stdout"
        }
      ]
    },
    {
      "cell_type": "code",
      "metadata": {
        "id": "fo97ME60h9qT",
        "colab": {
          "base_uri": "https://localhost:8080/"
        },
        "outputId": "737ed3fc-e504-4591-ed21-3391a8f2ccf5"
      },
      "source": [
        "%%time\n",
        "# используя функцию preprocess, определенную выше ,\n",
        "# уложите тексты и их метки в списки, подобно тому, как это делалось на лекции\n",
        "texts_train = [preprocess(text) for text in texts_train.to_list()]# ваш код!\n",
        "texts_test = [preprocess(text) for text in texts_test.to_list()]# ваш код!"
      ],
      "execution_count": null,
      "outputs": [
        {
          "output_type": "stream",
          "text": [
            "CPU times: user 27.9 s, sys: 77.9 ms, total: 28 s\n",
            "Wall time: 28 s\n"
          ],
          "name": "stdout"
        }
      ]
    },
    {
      "cell_type": "markdown",
      "metadata": {
        "id": "70g8brtlitps"
      },
      "source": [
        "### <font color=green> Подсчет признаков Tf-Idf"
      ]
    },
    {
      "cell_type": "markdown",
      "metadata": {
        "id": "oG-ydkEZi1w8"
      },
      "source": [
        "Прочитайте про то, что из себя представляет Tf-Idf в [Википедии](https://ru.wikipedia.org/wiki/TF-IDF) и воспользуйтесь инструментом `sklearn.feature_extraction.text.TfidfVectorizer`, чтобы сформировать для каждого текста вектор Tf-Idf-признаков"
      ]
    },
    {
      "cell_type": "code",
      "metadata": {
        "id": "VoPjlZNOkCjd",
        "colab": {
          "base_uri": "https://localhost:8080/"
        },
        "outputId": "9aaf63d9-5d30-4748-ca46-60da65084485"
      },
      "source": [
        "%%time\n",
        "tfidf=TfidfVectorizer()\n",
        "# C помощью инструмента `sklearn.feature_extraction.text.TfidfVectorizer` сформируйте для каждого текста вектор Tf-Idf-признаков\n",
        "X_train_tfidf=tfidf.fit(texts_train)\n",
        "\n",
        "X_train_tfidf = tfidf.transform(texts_train) # ваш код здесь\n",
        "X_test_tfidf =  tfidf.transform(texts_test)# ваш код здесь"
      ],
      "execution_count": null,
      "outputs": [
        {
          "output_type": "stream",
          "text": [
            "CPU times: user 19.4 s, sys: 160 ms, total: 19.6 s\n",
            "Wall time: 19.6 s\n"
          ],
          "name": "stdout"
        }
      ]
    },
    {
      "cell_type": "markdown",
      "metadata": {
        "id": "kfzw0_vlmf9Q"
      },
      "source": [
        "### <font color=green> Задание модели и обучение"
      ]
    },
    {
      "cell_type": "markdown",
      "metadata": {
        "id": "a8EJ1X6KmqNY"
      },
      "source": [
        "Мы подготовили данные, теперь самое время задать модель, функцию потерь, и провести обучение, оптимизируя функцию потерь... Однако, в этот раз не потребуется описывать все компоненты: воспользуемся готовым решение логистической регрессии от scikit-learn [sklearn.linear_model.LogisticRegression](https://scikit-learn.org/stable/modules/generated/sklearn.linear_model.LogisticRegression.html), которую можно обучить \"из коробки\", применив метод `fit`, не задавая при этом ни функции потерь, ни оптимизатора, ни цикла изменения параметров модели.\n",
        "\n",
        "Эта модель в отличие от рассмотренной нами на лекции нейронной сети, не содержит рекурентых блоков, а фактически представляет собой \"сеть\" всего из одного слоя, выход которого преобразуется сигмоидой (см. про функцию активации в ноутбуке с нейронной сетью). Модель по прежнему должна предсказывать вероятность близкую к нулю для хороших твитов и близкую к единице для плохих"
      ]
    },
    {
      "cell_type": "code",
      "metadata": {
        "id": "0kAhhB3_7OAY",
        "colab": {
          "base_uri": "https://localhost:8080/"
        },
        "outputId": "345e5118-a6e4-4514-c995-41f797fa75cb"
      },
      "source": [
        "tfidf_model = LogisticRegression()\n",
        "\n",
        "# напишите строчку кода, которая будет обучать указанную выше модель линейной регрессии на наборе (X_train_tfidf, y_train)\n",
        "\n",
        "# ваш код ниже\n",
        "tfidf_model.fit(X_train_tfidf, y_train)"
      ],
      "execution_count": null,
      "outputs": [
        {
          "output_type": "execute_result",
          "data": {
            "text/plain": [
              "LogisticRegression(C=1.0, class_weight=None, dual=False, fit_intercept=True,\n",
              "                   intercept_scaling=1, l1_ratio=None, max_iter=100,\n",
              "                   multi_class='auto', n_jobs=None, penalty='l2',\n",
              "                   random_state=None, solver='lbfgs', tol=0.0001, verbose=0,\n",
              "                   warm_start=False)"
            ]
          },
          "metadata": {
            "tags": []
          },
          "execution_count": 10
        }
      ]
    },
    {
      "cell_type": "markdown",
      "metadata": {
        "id": "yZIXUP6d7Rpg"
      },
      "source": [
        "### <font color=green> Тестирование"
      ]
    },
    {
      "cell_type": "markdown",
      "metadata": {
        "id": "9IkrL_U_7_d6"
      },
      "source": [
        "Запустите код из ячейки ниже и сравните полученные метрики Accuracy и ROC AUC с метриками, полученными на лекции при обучении нейронной сети"
      ]
    },
    {
      "cell_type": "markdown",
      "metadata": {
        "id": "_gs-8sHE8wx7"
      },
      "source": [
        "<font color=red size=6> ! </font> <font color=red> Напомню, что метрика Accuracy позволяет оценить какой процент объектов классифицируется моделью верно, а метрика ROC AUC позволяет оценить ранжирующую способность модели (способность модели назначать низкие вероятность, близкие к нулю, хорошим твитам и высокую вероятность, близкую к одному, для токсичных твитов)"
      ]
    },
    {
      "cell_type": "code",
      "metadata": {
        "id": "ObCT7CHImL13",
        "colab": {
          "base_uri": "https://localhost:8080/",
          "height": 298
        },
        "outputId": "35717226-303d-4f5e-89b3-34d946651619"
      },
      "source": [
        "for name, X, y, model in [\n",
        "    ('train', X_train_tfidf, y_train, tfidf_model),\n",
        "    ('test ', X_test_tfidf, y_test, tfidf_model)\n",
        "]:\n",
        "    proba = model.predict_proba(X)[:, 1]\n",
        "    auc = roc_auc_score(y, proba)\n",
        "    accuracy = accuracy_score(y, [1 if x>0.5 else 0 for x in proba])\n",
        "    print('Accuracy на ', name, accuracy)\n",
        "    plt.plot(*roc_curve(y, proba)[:2], label='%s AUC=%.4f' % (name, auc))\n",
        "\n",
        "plt.plot([0, 1], [0, 1], '--', color='black',)\n",
        "plt.legend(fontsize='large')\n",
        "plt.grid()"
      ],
      "execution_count": null,
      "outputs": [
        {
          "output_type": "stream",
          "text": [
            "Accuracy на  train 0.962426925478177\n",
            "Accuracy на  test  0.95\n"
          ],
          "name": "stdout"
        },
        {
          "output_type": "display_data",
          "data": {
            "image/png": "[encoded data removed]",
            "text/plain": [
              "<Figure size 432x288 with 1 Axes>"
            ]
          },
          "metadata": {
            "tags": [],
            "needs_background": "light"
          }
        }
      ]
    },
    {
      "cell_type": "markdown",
      "metadata": {
        "id": "CHU5H_-KxdHM"
      },
      "source": [
        "### <font color = green> Напишите вывод: </font>\n",
        "\n",
        "1) Сопоставимо ли качество моделей с точки зрения процента верно-классифицированных твитов на тестовой выборке?\n",
        "Первая модель. Правильность этой модели для обучающего набора составляет около\n",
        "0.96. Правильность этой модели для тестового набора составляет около\n",
        "0.95. Это хорошее кач-во модели(т.к. R^2 -> 1). \n",
        "Вторая модель. При сравнении правильности на обучающем и тестовом наборах выясняется, что мы очень точно предсказываем на обучающем и тестовом наборах(0,98 и 0,97 соответственно), это хорошее кач-во модели(т.к. R^2 -> 1). \n",
        "...\n",
        "\n",
        "2) Какая из моделей, на ваш взгляд, потребовала больше усилий для обучения?\n",
        "... Вторая\n",
        "\n",
        "3) Какая модель переобучилась или переобучились обе?\n",
        " \n",
        "...Переобучились обе, но не сильно, возможно, это указывает на\n",
        "недообучение, а не переобучение. Переобучение происходит, когда\n",
        "модель слишком точно подстраивается под особенности обучающего\n",
        "набора.\n",
        "\n",
        "4) У какой модели лучше ранжирующая способность?\n",
        "Вторая\n",
        "..."
      ]
    },
    {
      "cell_type": "code",
      "metadata": {
        "id": "o5BMPu6OmL4D"
      },
      "source": [
        ""
      ],
      "execution_count": null,
      "outputs": []
    }
  ]
}