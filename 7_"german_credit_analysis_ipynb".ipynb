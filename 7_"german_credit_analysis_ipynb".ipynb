{
  "nbformat": 4,
  "nbformat_minor": 0,
  "metadata": {
    "colab": {
      "name": "7. \"german-credit-analysis.ipynb\"",
      "provenance": [],
      "collapsed_sections": [],
      "include_colab_link": true
    },
    "kernelspec": {
      "name": "python3",
      "display_name": "Python 3"
    }
  },
  "cells": [
    {
      "cell_type": "markdown",
      "metadata": {
        "id": "view-in-github",
        "colab_type": "text"
      },
      "source": [
        "<a href=\"https://colab.research.google.com/github/kkattt51/ArtInt/blob/main/7_%22german_credit_analysis_ipynb%22.ipynb\" target=\"_parent\"><img src=\"https://colab.research.google.com/assets/colab-badge.svg\" alt=\"Open In Colab\"/></a>"
      ]
    },
    {
      "cell_type": "markdown",
      "metadata": {
        "id": "InoAdlWmUkzl"
      },
      "source": [
        "# Анализ данных на Python с Глебом Михайловым Мастер-Класс"
      ]
    },
    {
      "cell_type": "markdown",
      "metadata": {
        "id": "0UmTccDLUtyi"
      },
      "source": [
        "Мой канал в Телеграм: https://t.me/mikhaylovgleb  \n",
        "Мой канал на Ютюб: https://www.youtube.com/c/GlebMikhaylov  \n",
        "Мой сайт: https://glebmikhaylov.com/"
      ]
    },
    {
      "cell_type": "markdown",
      "metadata": {
        "id": "8Pfg2Y8WGdhE"
      },
      "source": [
        "# Заливка данных"
      ]
    },
    {
      "cell_type": "code",
      "metadata": {
        "id": "95cRsRYV4HQb"
      },
      "source": [
        "import pandas as pd\n",
        "import numpy as np"
      ],
      "execution_count": null,
      "outputs": []
    },
    {
      "cell_type": "markdown",
      "metadata": {
        "id": "7vZBZd0Y4J40"
      },
      "source": [
        "Это ссылка на файл: https://drive.google.com/file/d/1pmGSMI2LuvsiBaBG5v7N8xfPedZbF020/view?usp=sharing"
      ]
    },
    {
      "cell_type": "code",
      "metadata": {
        "colab": {
          "base_uri": "https://localhost:8080/"
        },
        "id": "PWh7Mi3U4Us3",
        "outputId": "77db9c53-1487-459b-8098-af3dfa4a18a2"
      },
      "source": [
        "!gdown --id 1pmGSMI2LuvsiBaBG5v7N8xfPedZbF020"
      ],
      "execution_count": null,
      "outputs": [
        {
          "output_type": "stream",
          "text": [
            "Downloading...\n",
            "From: https://drive.google.com/uc?id=1pmGSMI2LuvsiBaBG5v7N8xfPedZbF020\n",
            "To: /content/german-credit.csv\n",
            "\r  0% 0.00/50.5k [00:00<?, ?B/s]\r100% 50.5k/50.5k [00:00<00:00, 39.5MB/s]\n"
          ],
          "name": "stdout"
        }
      ]
    },
    {
      "cell_type": "code",
      "metadata": {
        "id": "LzZFPPIU44RQ"
      },
      "source": [
        "df = pd.read_csv('/content/german-credit.csv')"
      ],
      "execution_count": null,
      "outputs": []
    },
    {
      "cell_type": "code",
      "metadata": {
        "colab": {
          "base_uri": "https://localhost:8080/",
          "height": 212
        },
        "id": "ItvTx3kH47Ds",
        "outputId": "b410c80a-6047-402c-cd4f-69659fd5af9f"
      },
      "source": [
        "df.head()"
      ],
      "execution_count": null,
      "outputs": [
        {
          "output_type": "execute_result",
          "data": {
            "text/html": [
              "<div>\n",
              "<style scoped>\n",
              "    .dataframe tbody tr th:only-of-type {\n",
              "        vertical-align: middle;\n",
              "    }\n",
              "\n",
              "    .dataframe tbody tr th {\n",
              "        vertical-align: top;\n",
              "    }\n",
              "\n",
              "    .dataframe thead th {\n",
              "        text-align: right;\n",
              "    }\n",
              "</style>\n",
              "<table border=\"1\" class=\"dataframe\">\n",
              "  <thead>\n",
              "    <tr style=\"text-align: right;\">\n",
              "      <th></th>\n",
              "      <th>Unnamed: 0</th>\n",
              "      <th>Age</th>\n",
              "      <th>Sex</th>\n",
              "      <th>Job</th>\n",
              "      <th>Housing</th>\n",
              "      <th>Saving accounts</th>\n",
              "      <th>Checking account</th>\n",
              "      <th>Credit amount</th>\n",
              "      <th>Duration</th>\n",
              "      <th>Purpose</th>\n",
              "      <th>default</th>\n",
              "    </tr>\n",
              "  </thead>\n",
              "  <tbody>\n",
              "    <tr>\n",
              "      <th>0</th>\n",
              "      <td>0</td>\n",
              "      <td>67</td>\n",
              "      <td>male</td>\n",
              "      <td>2</td>\n",
              "      <td>own</td>\n",
              "      <td>NaN</td>\n",
              "      <td>little</td>\n",
              "      <td>1169</td>\n",
              "      <td>6</td>\n",
              "      <td>radio/TV</td>\n",
              "      <td>0</td>\n",
              "    </tr>\n",
              "    <tr>\n",
              "      <th>1</th>\n",
              "      <td>1</td>\n",
              "      <td>22</td>\n",
              "      <td>female</td>\n",
              "      <td>2</td>\n",
              "      <td>own</td>\n",
              "      <td>little</td>\n",
              "      <td>moderate</td>\n",
              "      <td>5951</td>\n",
              "      <td>48</td>\n",
              "      <td>radio/TV</td>\n",
              "      <td>1</td>\n",
              "    </tr>\n",
              "    <tr>\n",
              "      <th>2</th>\n",
              "      <td>2</td>\n",
              "      <td>49</td>\n",
              "      <td>male</td>\n",
              "      <td>1</td>\n",
              "      <td>own</td>\n",
              "      <td>little</td>\n",
              "      <td>NaN</td>\n",
              "      <td>2096</td>\n",
              "      <td>12</td>\n",
              "      <td>education</td>\n",
              "      <td>0</td>\n",
              "    </tr>\n",
              "    <tr>\n",
              "      <th>3</th>\n",
              "      <td>3</td>\n",
              "      <td>45</td>\n",
              "      <td>male</td>\n",
              "      <td>2</td>\n",
              "      <td>free</td>\n",
              "      <td>little</td>\n",
              "      <td>little</td>\n",
              "      <td>7882</td>\n",
              "      <td>42</td>\n",
              "      <td>furniture/equipment</td>\n",
              "      <td>0</td>\n",
              "    </tr>\n",
              "    <tr>\n",
              "      <th>4</th>\n",
              "      <td>4</td>\n",
              "      <td>53</td>\n",
              "      <td>male</td>\n",
              "      <td>2</td>\n",
              "      <td>free</td>\n",
              "      <td>little</td>\n",
              "      <td>little</td>\n",
              "      <td>4870</td>\n",
              "      <td>24</td>\n",
              "      <td>car</td>\n",
              "      <td>1</td>\n",
              "    </tr>\n",
              "  </tbody>\n",
              "</table>\n",
              "</div>"
            ],
            "text/plain": [
              "   Unnamed: 0  Age     Sex  ...  Duration              Purpose default\n",
              "0           0   67    male  ...         6             radio/TV       0\n",
              "1           1   22  female  ...        48             radio/TV       1\n",
              "2           2   49    male  ...        12            education       0\n",
              "3           3   45    male  ...        42  furniture/equipment       0\n",
              "4           4   53    male  ...        24                  car       1\n",
              "\n",
              "[5 rows x 11 columns]"
            ]
          },
          "metadata": {
            "tags": []
          },
          "execution_count": 4
        }
      ]
    },
    {
      "cell_type": "markdown",
      "metadata": {
        "id": "GM2z1-6sGtMQ"
      },
      "source": [
        "# Предобработка"
      ]
    },
    {
      "cell_type": "markdown",
      "metadata": {
        "id": "gYzErQGuHCED"
      },
      "source": [
        "## Удаление столбца"
      ]
    },
    {
      "cell_type": "code",
      "metadata": {
        "id": "lQeUOv-x6Rcb"
      },
      "source": [
        "df.drop('Unnamed: 0',axis=1,inplace=True)"
      ],
      "execution_count": null,
      "outputs": []
    },
    {
      "cell_type": "code",
      "metadata": {
        "colab": {
          "base_uri": "https://localhost:8080/",
          "height": 212
        },
        "id": "Z4bvqweN7C0D",
        "outputId": "959a8cdb-21c4-4b75-cc9a-2997812531b6"
      },
      "source": [
        "df.head()"
      ],
      "execution_count": null,
      "outputs": [
        {
          "output_type": "execute_result",
          "data": {
            "text/html": [
              "<div>\n",
              "<style scoped>\n",
              "    .dataframe tbody tr th:only-of-type {\n",
              "        vertical-align: middle;\n",
              "    }\n",
              "\n",
              "    .dataframe tbody tr th {\n",
              "        vertical-align: top;\n",
              "    }\n",
              "\n",
              "    .dataframe thead th {\n",
              "        text-align: right;\n",
              "    }\n",
              "</style>\n",
              "<table border=\"1\" class=\"dataframe\">\n",
              "  <thead>\n",
              "    <tr style=\"text-align: right;\">\n",
              "      <th></th>\n",
              "      <th>Age</th>\n",
              "      <th>Sex</th>\n",
              "      <th>Job</th>\n",
              "      <th>Housing</th>\n",
              "      <th>Saving accounts</th>\n",
              "      <th>Checking account</th>\n",
              "      <th>Credit amount</th>\n",
              "      <th>Duration</th>\n",
              "      <th>Purpose</th>\n",
              "      <th>default</th>\n",
              "    </tr>\n",
              "  </thead>\n",
              "  <tbody>\n",
              "    <tr>\n",
              "      <th>0</th>\n",
              "      <td>67</td>\n",
              "      <td>male</td>\n",
              "      <td>2</td>\n",
              "      <td>own</td>\n",
              "      <td>NaN</td>\n",
              "      <td>little</td>\n",
              "      <td>1169</td>\n",
              "      <td>6</td>\n",
              "      <td>radio/TV</td>\n",
              "      <td>0</td>\n",
              "    </tr>\n",
              "    <tr>\n",
              "      <th>1</th>\n",
              "      <td>22</td>\n",
              "      <td>female</td>\n",
              "      <td>2</td>\n",
              "      <td>own</td>\n",
              "      <td>little</td>\n",
              "      <td>moderate</td>\n",
              "      <td>5951</td>\n",
              "      <td>48</td>\n",
              "      <td>radio/TV</td>\n",
              "      <td>1</td>\n",
              "    </tr>\n",
              "    <tr>\n",
              "      <th>2</th>\n",
              "      <td>49</td>\n",
              "      <td>male</td>\n",
              "      <td>1</td>\n",
              "      <td>own</td>\n",
              "      <td>little</td>\n",
              "      <td>NaN</td>\n",
              "      <td>2096</td>\n",
              "      <td>12</td>\n",
              "      <td>education</td>\n",
              "      <td>0</td>\n",
              "    </tr>\n",
              "    <tr>\n",
              "      <th>3</th>\n",
              "      <td>45</td>\n",
              "      <td>male</td>\n",
              "      <td>2</td>\n",
              "      <td>free</td>\n",
              "      <td>little</td>\n",
              "      <td>little</td>\n",
              "      <td>7882</td>\n",
              "      <td>42</td>\n",
              "      <td>furniture/equipment</td>\n",
              "      <td>0</td>\n",
              "    </tr>\n",
              "    <tr>\n",
              "      <th>4</th>\n",
              "      <td>53</td>\n",
              "      <td>male</td>\n",
              "      <td>2</td>\n",
              "      <td>free</td>\n",
              "      <td>little</td>\n",
              "      <td>little</td>\n",
              "      <td>4870</td>\n",
              "      <td>24</td>\n",
              "      <td>car</td>\n",
              "      <td>1</td>\n",
              "    </tr>\n",
              "  </tbody>\n",
              "</table>\n",
              "</div>"
            ],
            "text/plain": [
              "   Age     Sex  Job  ... Duration              Purpose default\n",
              "0   67    male    2  ...        6             radio/TV       0\n",
              "1   22  female    2  ...       48             radio/TV       1\n",
              "2   49    male    1  ...       12            education       0\n",
              "3   45    male    2  ...       42  furniture/equipment       0\n",
              "4   53    male    2  ...       24                  car       1\n",
              "\n",
              "[5 rows x 10 columns]"
            ]
          },
          "metadata": {
            "tags": []
          },
          "execution_count": 6
        }
      ]
    },
    {
      "cell_type": "markdown",
      "metadata": {
        "id": "QJjApcegHHDl"
      },
      "source": [
        "## Переименование столбцов"
      ]
    },
    {
      "cell_type": "code",
      "metadata": {
        "colab": {
          "base_uri": "https://localhost:8080/"
        },
        "id": "cb2kWgKG7DmI",
        "outputId": "a02ca60d-5ff8-4edf-b3b4-d5391e83fea5"
      },
      "source": [
        "df.columns"
      ],
      "execution_count": null,
      "outputs": [
        {
          "output_type": "execute_result",
          "data": {
            "text/plain": [
              "Index(['Age', 'Sex', 'Job', 'Housing', 'Saving accounts', 'Checking account',\n",
              "       'Credit amount', 'Duration', 'Purpose', 'default'],\n",
              "      dtype='object')"
            ]
          },
          "metadata": {
            "tags": []
          },
          "execution_count": 7
        }
      ]
    },
    {
      "cell_type": "code",
      "metadata": {
        "id": "paK4l32H7cum"
      },
      "source": [
        "df.columns = ['age', 'sex', 'job', 'housing', 'saving_accounts', 'checking_account',\n",
        "       'credit_amount', 'duration', 'purpose', 'default']"
      ],
      "execution_count": null,
      "outputs": []
    },
    {
      "cell_type": "code",
      "metadata": {
        "id": "sM00YciF8Nnq"
      },
      "source": [
        "df.columns = df.columns.str.replace(' ','_').str.lower()"
      ],
      "execution_count": null,
      "outputs": []
    },
    {
      "cell_type": "markdown",
      "metadata": {
        "id": "xUfjmOPFHKpY"
      },
      "source": [
        "## Пропуски"
      ]
    },
    {
      "cell_type": "code",
      "metadata": {
        "colab": {
          "base_uri": "https://localhost:8080/"
        },
        "id": "E7DiK8Vj8X2C",
        "outputId": "ad1a7aa7-05f2-4de2-ead0-f97e2be75301"
      },
      "source": [
        "df.isna().mean()"
      ],
      "execution_count": null,
      "outputs": [
        {
          "output_type": "execute_result",
          "data": {
            "text/plain": [
              "age                 0.000\n",
              "sex                 0.000\n",
              "job                 0.000\n",
              "housing             0.000\n",
              "saving_accounts     0.183\n",
              "checking_account    0.394\n",
              "credit_amount       0.000\n",
              "duration            0.000\n",
              "purpose             0.000\n",
              "default             0.000\n",
              "dtype: float64"
            ]
          },
          "metadata": {
            "tags": []
          },
          "execution_count": 10
        }
      ]
    },
    {
      "cell_type": "markdown",
      "metadata": {
        "id": "4YpngkIiG-zh"
      },
      "source": [
        "# Сводная таблица"
      ]
    },
    {
      "cell_type": "markdown",
      "metadata": {
        "id": "g7ev-a4AWkmy"
      },
      "source": [
        "## groupby"
      ]
    },
    {
      "cell_type": "code",
      "metadata": {
        "colab": {
          "base_uri": "https://localhost:8080/",
          "height": 215
        },
        "id": "5cVVWVmX059G",
        "outputId": "69da0787-5893-4fbf-dbef-4e06d969a275"
      },
      "source": [
        "df.head()"
      ],
      "execution_count": null,
      "outputs": [
        {
          "output_type": "execute_result",
          "data": {
            "text/html": [
              "<div>\n",
              "<style scoped>\n",
              "    .dataframe tbody tr th:only-of-type {\n",
              "        vertical-align: middle;\n",
              "    }\n",
              "\n",
              "    .dataframe tbody tr th {\n",
              "        vertical-align: top;\n",
              "    }\n",
              "\n",
              "    .dataframe thead th {\n",
              "        text-align: right;\n",
              "    }\n",
              "</style>\n",
              "<table border=\"1\" class=\"dataframe\">\n",
              "  <thead>\n",
              "    <tr style=\"text-align: right;\">\n",
              "      <th></th>\n",
              "      <th>age</th>\n",
              "      <th>sex</th>\n",
              "      <th>job</th>\n",
              "      <th>housing</th>\n",
              "      <th>saving_accounts</th>\n",
              "      <th>checking_account</th>\n",
              "      <th>credit_amount</th>\n",
              "      <th>duration</th>\n",
              "      <th>purpose</th>\n",
              "      <th>default</th>\n",
              "    </tr>\n",
              "  </thead>\n",
              "  <tbody>\n",
              "    <tr>\n",
              "      <th>0</th>\n",
              "      <td>67</td>\n",
              "      <td>male</td>\n",
              "      <td>2</td>\n",
              "      <td>own</td>\n",
              "      <td>NaN</td>\n",
              "      <td>little</td>\n",
              "      <td>1169</td>\n",
              "      <td>6</td>\n",
              "      <td>radio/TV</td>\n",
              "      <td>0</td>\n",
              "    </tr>\n",
              "    <tr>\n",
              "      <th>1</th>\n",
              "      <td>22</td>\n",
              "      <td>female</td>\n",
              "      <td>2</td>\n",
              "      <td>own</td>\n",
              "      <td>little</td>\n",
              "      <td>moderate</td>\n",
              "      <td>5951</td>\n",
              "      <td>48</td>\n",
              "      <td>radio/TV</td>\n",
              "      <td>1</td>\n",
              "    </tr>\n",
              "    <tr>\n",
              "      <th>2</th>\n",
              "      <td>49</td>\n",
              "      <td>male</td>\n",
              "      <td>1</td>\n",
              "      <td>own</td>\n",
              "      <td>little</td>\n",
              "      <td>NaN</td>\n",
              "      <td>2096</td>\n",
              "      <td>12</td>\n",
              "      <td>education</td>\n",
              "      <td>0</td>\n",
              "    </tr>\n",
              "    <tr>\n",
              "      <th>3</th>\n",
              "      <td>45</td>\n",
              "      <td>male</td>\n",
              "      <td>2</td>\n",
              "      <td>free</td>\n",
              "      <td>little</td>\n",
              "      <td>little</td>\n",
              "      <td>7882</td>\n",
              "      <td>42</td>\n",
              "      <td>furniture/equipment</td>\n",
              "      <td>0</td>\n",
              "    </tr>\n",
              "    <tr>\n",
              "      <th>4</th>\n",
              "      <td>53</td>\n",
              "      <td>male</td>\n",
              "      <td>2</td>\n",
              "      <td>free</td>\n",
              "      <td>little</td>\n",
              "      <td>little</td>\n",
              "      <td>4870</td>\n",
              "      <td>24</td>\n",
              "      <td>car</td>\n",
              "      <td>1</td>\n",
              "    </tr>\n",
              "  </tbody>\n",
              "</table>\n",
              "</div>"
            ],
            "text/plain": [
              "   age     sex  job  ... duration              purpose default\n",
              "0   67    male    2  ...        6             radio/TV       0\n",
              "1   22  female    2  ...       48             radio/TV       1\n",
              "2   49    male    1  ...       12            education       0\n",
              "3   45    male    2  ...       42  furniture/equipment       0\n",
              "4   53    male    2  ...       24                  car       1\n",
              "\n",
              "[5 rows x 10 columns]"
            ]
          },
          "metadata": {
            "tags": []
          },
          "execution_count": 11
        }
      ]
    },
    {
      "cell_type": "code",
      "metadata": {
        "colab": {
          "base_uri": "https://localhost:8080/"
        },
        "id": "zz0578zv1Jtj",
        "outputId": "67eb31ba-2810-4543-ef83-7f0c37ef601f"
      },
      "source": [
        "len(df)"
      ],
      "execution_count": null,
      "outputs": [
        {
          "output_type": "execute_result",
          "data": {
            "text/plain": [
              "1000"
            ]
          },
          "metadata": {
            "tags": []
          },
          "execution_count": 12
        }
      ]
    },
    {
      "cell_type": "code",
      "metadata": {
        "id": "abBkZHLt1i3b"
      },
      "source": [
        "df['checking_account'] = df['checking_account'].fillna('no_info')"
      ],
      "execution_count": null,
      "outputs": []
    },
    {
      "cell_type": "code",
      "metadata": {
        "colab": {
          "base_uri": "https://localhost:8080/",
          "height": 343
        },
        "id": "oA8owV-D0l4C",
        "outputId": "3d8187b7-a646-4ac9-ba6c-c4e9abfff7ae"
      },
      "source": [
        "(df.groupby(['checking_account','sex'])\n",
        "[['default','credit_amount']]\n",
        " .agg({'default':['count','mean'],\n",
        "       'credit_amount':['mean','median']}))"
      ],
      "execution_count": null,
      "outputs": [
        {
          "output_type": "execute_result",
          "data": {
            "text/html": [
              "<div>\n",
              "<style scoped>\n",
              "    .dataframe tbody tr th:only-of-type {\n",
              "        vertical-align: middle;\n",
              "    }\n",
              "\n",
              "    .dataframe tbody tr th {\n",
              "        vertical-align: top;\n",
              "    }\n",
              "\n",
              "    .dataframe thead tr th {\n",
              "        text-align: left;\n",
              "    }\n",
              "\n",
              "    .dataframe thead tr:last-of-type th {\n",
              "        text-align: right;\n",
              "    }\n",
              "</style>\n",
              "<table border=\"1\" class=\"dataframe\">\n",
              "  <thead>\n",
              "    <tr>\n",
              "      <th></th>\n",
              "      <th></th>\n",
              "      <th colspan=\"2\" halign=\"left\">default</th>\n",
              "      <th colspan=\"2\" halign=\"left\">credit_amount</th>\n",
              "    </tr>\n",
              "    <tr>\n",
              "      <th></th>\n",
              "      <th></th>\n",
              "      <th>count</th>\n",
              "      <th>mean</th>\n",
              "      <th>mean</th>\n",
              "      <th>median</th>\n",
              "    </tr>\n",
              "    <tr>\n",
              "      <th>checking_account</th>\n",
              "      <th>sex</th>\n",
              "      <th></th>\n",
              "      <th></th>\n",
              "      <th></th>\n",
              "      <th></th>\n",
              "    </tr>\n",
              "  </thead>\n",
              "  <tbody>\n",
              "    <tr>\n",
              "      <th rowspan=\"2\" valign=\"top\">little</th>\n",
              "      <th>female</th>\n",
              "      <td>88</td>\n",
              "      <td>0.522727</td>\n",
              "      <td>2564.215909</td>\n",
              "      <td>1838.5</td>\n",
              "    </tr>\n",
              "    <tr>\n",
              "      <th>male</th>\n",
              "      <td>186</td>\n",
              "      <td>0.478495</td>\n",
              "      <td>3464.295699</td>\n",
              "      <td>2589.5</td>\n",
              "    </tr>\n",
              "    <tr>\n",
              "      <th rowspan=\"2\" valign=\"top\">moderate</th>\n",
              "      <th>female</th>\n",
              "      <td>86</td>\n",
              "      <td>0.476744</td>\n",
              "      <td>3720.034884</td>\n",
              "      <td>2651.0</td>\n",
              "    </tr>\n",
              "    <tr>\n",
              "      <th>male</th>\n",
              "      <td>183</td>\n",
              "      <td>0.349727</td>\n",
              "      <td>3878.092896</td>\n",
              "      <td>2520.0</td>\n",
              "    </tr>\n",
              "    <tr>\n",
              "      <th rowspan=\"2\" valign=\"top\">no_info</th>\n",
              "      <th>female</th>\n",
              "      <td>116</td>\n",
              "      <td>0.155172</td>\n",
              "      <td>2708.750000</td>\n",
              "      <td>1935.0</td>\n",
              "    </tr>\n",
              "    <tr>\n",
              "      <th>male</th>\n",
              "      <td>278</td>\n",
              "      <td>0.100719</td>\n",
              "      <td>3310.169065</td>\n",
              "      <td>2393.5</td>\n",
              "    </tr>\n",
              "    <tr>\n",
              "      <th rowspan=\"2\" valign=\"top\">rich</th>\n",
              "      <th>female</th>\n",
              "      <td>20</td>\n",
              "      <td>0.200000</td>\n",
              "      <td>1616.050000</td>\n",
              "      <td>1400.5</td>\n",
              "    </tr>\n",
              "    <tr>\n",
              "      <th>male</th>\n",
              "      <td>43</td>\n",
              "      <td>0.232558</td>\n",
              "      <td>2438.860465</td>\n",
              "      <td>1925.0</td>\n",
              "    </tr>\n",
              "  </tbody>\n",
              "</table>\n",
              "</div>"
            ],
            "text/plain": [
              "                        default           credit_amount        \n",
              "                          count      mean          mean  median\n",
              "checking_account sex                                           \n",
              "little           female      88  0.522727   2564.215909  1838.5\n",
              "                 male       186  0.478495   3464.295699  2589.5\n",
              "moderate         female      86  0.476744   3720.034884  2651.0\n",
              "                 male       183  0.349727   3878.092896  2520.0\n",
              "no_info          female     116  0.155172   2708.750000  1935.0\n",
              "                 male       278  0.100719   3310.169065  2393.5\n",
              "rich             female      20  0.200000   1616.050000  1400.5\n",
              "                 male        43  0.232558   2438.860465  1925.0"
            ]
          },
          "metadata": {
            "tags": []
          },
          "execution_count": 14
        }
      ]
    },
    {
      "cell_type": "markdown",
      "metadata": {
        "id": "67K-nqWVWol1"
      },
      "source": [
        "## pivot_table"
      ]
    },
    {
      "cell_type": "code",
      "metadata": {
        "colab": {
          "base_uri": "https://localhost:8080/",
          "height": 215
        },
        "id": "coIdc-J5PfDd",
        "outputId": "eaf75796-5e61-4399-f4b7-463d03c70f36"
      },
      "source": [
        "df.head()"
      ],
      "execution_count": null,
      "outputs": [
        {
          "output_type": "execute_result",
          "data": {
            "text/html": [
              "<div>\n",
              "<style scoped>\n",
              "    .dataframe tbody tr th:only-of-type {\n",
              "        vertical-align: middle;\n",
              "    }\n",
              "\n",
              "    .dataframe tbody tr th {\n",
              "        vertical-align: top;\n",
              "    }\n",
              "\n",
              "    .dataframe thead th {\n",
              "        text-align: right;\n",
              "    }\n",
              "</style>\n",
              "<table border=\"1\" class=\"dataframe\">\n",
              "  <thead>\n",
              "    <tr style=\"text-align: right;\">\n",
              "      <th></th>\n",
              "      <th>age</th>\n",
              "      <th>sex</th>\n",
              "      <th>job</th>\n",
              "      <th>housing</th>\n",
              "      <th>saving_accounts</th>\n",
              "      <th>checking_account</th>\n",
              "      <th>credit_amount</th>\n",
              "      <th>duration</th>\n",
              "      <th>purpose</th>\n",
              "      <th>default</th>\n",
              "    </tr>\n",
              "  </thead>\n",
              "  <tbody>\n",
              "    <tr>\n",
              "      <th>0</th>\n",
              "      <td>67</td>\n",
              "      <td>male</td>\n",
              "      <td>2</td>\n",
              "      <td>own</td>\n",
              "      <td>NaN</td>\n",
              "      <td>little</td>\n",
              "      <td>1169</td>\n",
              "      <td>6</td>\n",
              "      <td>radio/TV</td>\n",
              "      <td>0</td>\n",
              "    </tr>\n",
              "    <tr>\n",
              "      <th>1</th>\n",
              "      <td>22</td>\n",
              "      <td>female</td>\n",
              "      <td>2</td>\n",
              "      <td>own</td>\n",
              "      <td>little</td>\n",
              "      <td>moderate</td>\n",
              "      <td>5951</td>\n",
              "      <td>48</td>\n",
              "      <td>radio/TV</td>\n",
              "      <td>1</td>\n",
              "    </tr>\n",
              "    <tr>\n",
              "      <th>2</th>\n",
              "      <td>49</td>\n",
              "      <td>male</td>\n",
              "      <td>1</td>\n",
              "      <td>own</td>\n",
              "      <td>little</td>\n",
              "      <td>no_info</td>\n",
              "      <td>2096</td>\n",
              "      <td>12</td>\n",
              "      <td>education</td>\n",
              "      <td>0</td>\n",
              "    </tr>\n",
              "    <tr>\n",
              "      <th>3</th>\n",
              "      <td>45</td>\n",
              "      <td>male</td>\n",
              "      <td>2</td>\n",
              "      <td>free</td>\n",
              "      <td>little</td>\n",
              "      <td>little</td>\n",
              "      <td>7882</td>\n",
              "      <td>42</td>\n",
              "      <td>furniture/equipment</td>\n",
              "      <td>0</td>\n",
              "    </tr>\n",
              "    <tr>\n",
              "      <th>4</th>\n",
              "      <td>53</td>\n",
              "      <td>male</td>\n",
              "      <td>2</td>\n",
              "      <td>free</td>\n",
              "      <td>little</td>\n",
              "      <td>little</td>\n",
              "      <td>4870</td>\n",
              "      <td>24</td>\n",
              "      <td>car</td>\n",
              "      <td>1</td>\n",
              "    </tr>\n",
              "  </tbody>\n",
              "</table>\n",
              "</div>"
            ],
            "text/plain": [
              "   age     sex  job  ... duration              purpose default\n",
              "0   67    male    2  ...        6             radio/TV       0\n",
              "1   22  female    2  ...       48             radio/TV       1\n",
              "2   49    male    1  ...       12            education       0\n",
              "3   45    male    2  ...       42  furniture/equipment       0\n",
              "4   53    male    2  ...       24                  car       1\n",
              "\n",
              "[5 rows x 10 columns]"
            ]
          },
          "metadata": {
            "tags": []
          },
          "execution_count": 15
        }
      ]
    },
    {
      "cell_type": "code",
      "metadata": {
        "colab": {
          "base_uri": "https://localhost:8080/",
          "height": 304
        },
        "id": "J3kwG5TgPkJr",
        "outputId": "88128699-f027-4903-c0b9-0977807357be"
      },
      "source": [
        "df.pivot_table(index='checking_account',\n",
        "               columns='sex',\n",
        "               values=['default','credit_amount'],\n",
        "               aggfunc=['count','mean'],\n",
        "       margins=True)"
      ],
      "execution_count": null,
      "outputs": [
        {
          "output_type": "execute_result",
          "data": {
            "text/html": [
              "<div>\n",
              "<style scoped>\n",
              "    .dataframe tbody tr th:only-of-type {\n",
              "        vertical-align: middle;\n",
              "    }\n",
              "\n",
              "    .dataframe tbody tr th {\n",
              "        vertical-align: top;\n",
              "    }\n",
              "\n",
              "    .dataframe thead tr th {\n",
              "        text-align: left;\n",
              "    }\n",
              "\n",
              "    .dataframe thead tr:last-of-type th {\n",
              "        text-align: right;\n",
              "    }\n",
              "</style>\n",
              "<table border=\"1\" class=\"dataframe\">\n",
              "  <thead>\n",
              "    <tr>\n",
              "      <th></th>\n",
              "      <th colspan=\"6\" halign=\"left\">count</th>\n",
              "      <th colspan=\"6\" halign=\"left\">mean</th>\n",
              "    </tr>\n",
              "    <tr>\n",
              "      <th></th>\n",
              "      <th colspan=\"3\" halign=\"left\">credit_amount</th>\n",
              "      <th colspan=\"3\" halign=\"left\">default</th>\n",
              "      <th colspan=\"3\" halign=\"left\">credit_amount</th>\n",
              "      <th colspan=\"3\" halign=\"left\">default</th>\n",
              "    </tr>\n",
              "    <tr>\n",
              "      <th>sex</th>\n",
              "      <th>female</th>\n",
              "      <th>male</th>\n",
              "      <th>All</th>\n",
              "      <th>female</th>\n",
              "      <th>male</th>\n",
              "      <th>All</th>\n",
              "      <th>female</th>\n",
              "      <th>male</th>\n",
              "      <th>All</th>\n",
              "      <th>female</th>\n",
              "      <th>male</th>\n",
              "      <th>All</th>\n",
              "    </tr>\n",
              "    <tr>\n",
              "      <th>checking_account</th>\n",
              "      <th></th>\n",
              "      <th></th>\n",
              "      <th></th>\n",
              "      <th></th>\n",
              "      <th></th>\n",
              "      <th></th>\n",
              "      <th></th>\n",
              "      <th></th>\n",
              "      <th></th>\n",
              "      <th></th>\n",
              "      <th></th>\n",
              "      <th></th>\n",
              "    </tr>\n",
              "  </thead>\n",
              "  <tbody>\n",
              "    <tr>\n",
              "      <th>little</th>\n",
              "      <td>88</td>\n",
              "      <td>186</td>\n",
              "      <td>274</td>\n",
              "      <td>88</td>\n",
              "      <td>186</td>\n",
              "      <td>274</td>\n",
              "      <td>2564.215909</td>\n",
              "      <td>3464.295699</td>\n",
              "      <td>3175.218978</td>\n",
              "      <td>0.522727</td>\n",
              "      <td>0.478495</td>\n",
              "      <td>0.492701</td>\n",
              "    </tr>\n",
              "    <tr>\n",
              "      <th>moderate</th>\n",
              "      <td>86</td>\n",
              "      <td>183</td>\n",
              "      <td>269</td>\n",
              "      <td>86</td>\n",
              "      <td>183</td>\n",
              "      <td>269</td>\n",
              "      <td>3720.034884</td>\n",
              "      <td>3878.092896</td>\n",
              "      <td>3827.561338</td>\n",
              "      <td>0.476744</td>\n",
              "      <td>0.349727</td>\n",
              "      <td>0.390335</td>\n",
              "    </tr>\n",
              "    <tr>\n",
              "      <th>no_info</th>\n",
              "      <td>116</td>\n",
              "      <td>278</td>\n",
              "      <td>394</td>\n",
              "      <td>116</td>\n",
              "      <td>278</td>\n",
              "      <td>394</td>\n",
              "      <td>2708.750000</td>\n",
              "      <td>3310.169065</td>\n",
              "      <td>3133.101523</td>\n",
              "      <td>0.155172</td>\n",
              "      <td>0.100719</td>\n",
              "      <td>0.116751</td>\n",
              "    </tr>\n",
              "    <tr>\n",
              "      <th>rich</th>\n",
              "      <td>20</td>\n",
              "      <td>43</td>\n",
              "      <td>63</td>\n",
              "      <td>20</td>\n",
              "      <td>43</td>\n",
              "      <td>63</td>\n",
              "      <td>1616.050000</td>\n",
              "      <td>2438.860465</td>\n",
              "      <td>2177.650794</td>\n",
              "      <td>0.200000</td>\n",
              "      <td>0.232558</td>\n",
              "      <td>0.222222</td>\n",
              "    </tr>\n",
              "    <tr>\n",
              "      <th>All</th>\n",
              "      <td>310</td>\n",
              "      <td>690</td>\n",
              "      <td>1000</td>\n",
              "      <td>310</td>\n",
              "      <td>690</td>\n",
              "      <td>1000</td>\n",
              "      <td>2877.774194</td>\n",
              "      <td>3448.040580</td>\n",
              "      <td>3271.258000</td>\n",
              "      <td>0.351613</td>\n",
              "      <td>0.276812</td>\n",
              "      <td>0.300000</td>\n",
              "    </tr>\n",
              "  </tbody>\n",
              "</table>\n",
              "</div>"
            ],
            "text/plain": [
              "                         count             ...      mean                    \n",
              "                 credit_amount             ...   default                    \n",
              "sex                     female male   All  ...    female      male       All\n",
              "checking_account                           ...                              \n",
              "little                      88  186   274  ...  0.522727  0.478495  0.492701\n",
              "moderate                    86  183   269  ...  0.476744  0.349727  0.390335\n",
              "no_info                    116  278   394  ...  0.155172  0.100719  0.116751\n",
              "rich                        20   43    63  ...  0.200000  0.232558  0.222222\n",
              "All                        310  690  1000  ...  0.351613  0.276812  0.300000\n",
              "\n",
              "[5 rows x 12 columns]"
            ]
          },
          "metadata": {
            "tags": []
          },
          "execution_count": 16
        }
      ]
    },
    {
      "cell_type": "code",
      "metadata": {
        "colab": {
          "base_uri": "https://localhost:8080/",
          "height": 225
        },
        "id": "z2sIahB7QJt7",
        "outputId": "1c866d68-0e0b-4945-a76d-a11af641ad80"
      },
      "source": [
        "(df.groupby(['checking_account'])\n",
        "[['default']]\n",
        " .agg(['count','mean']))"
      ],
      "execution_count": null,
      "outputs": [
        {
          "output_type": "execute_result",
          "data": {
            "text/html": [
              "<div>\n",
              "<style scoped>\n",
              "    .dataframe tbody tr th:only-of-type {\n",
              "        vertical-align: middle;\n",
              "    }\n",
              "\n",
              "    .dataframe tbody tr th {\n",
              "        vertical-align: top;\n",
              "    }\n",
              "\n",
              "    .dataframe thead tr th {\n",
              "        text-align: left;\n",
              "    }\n",
              "\n",
              "    .dataframe thead tr:last-of-type th {\n",
              "        text-align: right;\n",
              "    }\n",
              "</style>\n",
              "<table border=\"1\" class=\"dataframe\">\n",
              "  <thead>\n",
              "    <tr>\n",
              "      <th></th>\n",
              "      <th colspan=\"2\" halign=\"left\">default</th>\n",
              "    </tr>\n",
              "    <tr>\n",
              "      <th></th>\n",
              "      <th>count</th>\n",
              "      <th>mean</th>\n",
              "    </tr>\n",
              "    <tr>\n",
              "      <th>checking_account</th>\n",
              "      <th></th>\n",
              "      <th></th>\n",
              "    </tr>\n",
              "  </thead>\n",
              "  <tbody>\n",
              "    <tr>\n",
              "      <th>little</th>\n",
              "      <td>274</td>\n",
              "      <td>0.492701</td>\n",
              "    </tr>\n",
              "    <tr>\n",
              "      <th>moderate</th>\n",
              "      <td>269</td>\n",
              "      <td>0.390335</td>\n",
              "    </tr>\n",
              "    <tr>\n",
              "      <th>no_info</th>\n",
              "      <td>394</td>\n",
              "      <td>0.116751</td>\n",
              "    </tr>\n",
              "    <tr>\n",
              "      <th>rich</th>\n",
              "      <td>63</td>\n",
              "      <td>0.222222</td>\n",
              "    </tr>\n",
              "  </tbody>\n",
              "</table>\n",
              "</div>"
            ],
            "text/plain": [
              "                 default          \n",
              "                   count      mean\n",
              "checking_account                  \n",
              "little               274  0.492701\n",
              "moderate             269  0.390335\n",
              "no_info              394  0.116751\n",
              "rich                  63  0.222222"
            ]
          },
          "metadata": {
            "tags": []
          },
          "execution_count": 17
        }
      ]
    },
    {
      "cell_type": "code",
      "metadata": {
        "colab": {
          "base_uri": "https://localhost:8080/",
          "height": 225
        },
        "id": "HN1vR4U2QchZ",
        "outputId": "ce9a6050-5d64-4003-fc14-5471be5e3326"
      },
      "source": [
        "(df.groupby(['checking_account'])\n",
        "[['credit_amount']]\n",
        " .agg(['count','mean','median']))"
      ],
      "execution_count": null,
      "outputs": [
        {
          "output_type": "execute_result",
          "data": {
            "text/html": [
              "<div>\n",
              "<style scoped>\n",
              "    .dataframe tbody tr th:only-of-type {\n",
              "        vertical-align: middle;\n",
              "    }\n",
              "\n",
              "    .dataframe tbody tr th {\n",
              "        vertical-align: top;\n",
              "    }\n",
              "\n",
              "    .dataframe thead tr th {\n",
              "        text-align: left;\n",
              "    }\n",
              "\n",
              "    .dataframe thead tr:last-of-type th {\n",
              "        text-align: right;\n",
              "    }\n",
              "</style>\n",
              "<table border=\"1\" class=\"dataframe\">\n",
              "  <thead>\n",
              "    <tr>\n",
              "      <th></th>\n",
              "      <th colspan=\"3\" halign=\"left\">credit_amount</th>\n",
              "    </tr>\n",
              "    <tr>\n",
              "      <th></th>\n",
              "      <th>count</th>\n",
              "      <th>mean</th>\n",
              "      <th>median</th>\n",
              "    </tr>\n",
              "    <tr>\n",
              "      <th>checking_account</th>\n",
              "      <th></th>\n",
              "      <th></th>\n",
              "      <th></th>\n",
              "    </tr>\n",
              "  </thead>\n",
              "  <tbody>\n",
              "    <tr>\n",
              "      <th>little</th>\n",
              "      <td>274</td>\n",
              "      <td>3175.218978</td>\n",
              "      <td>2353.5</td>\n",
              "    </tr>\n",
              "    <tr>\n",
              "      <th>moderate</th>\n",
              "      <td>269</td>\n",
              "      <td>3827.561338</td>\n",
              "      <td>2622.0</td>\n",
              "    </tr>\n",
              "    <tr>\n",
              "      <th>no_info</th>\n",
              "      <td>394</td>\n",
              "      <td>3133.101523</td>\n",
              "      <td>2248.0</td>\n",
              "    </tr>\n",
              "    <tr>\n",
              "      <th>rich</th>\n",
              "      <td>63</td>\n",
              "      <td>2177.650794</td>\n",
              "      <td>1881.0</td>\n",
              "    </tr>\n",
              "  </tbody>\n",
              "</table>\n",
              "</div>"
            ],
            "text/plain": [
              "                 credit_amount                     \n",
              "                         count         mean  median\n",
              "checking_account                                   \n",
              "little                     274  3175.218978  2353.5\n",
              "moderate                   269  3827.561338  2622.0\n",
              "no_info                    394  3133.101523  2248.0\n",
              "rich                        63  2177.650794  1881.0"
            ]
          },
          "metadata": {
            "tags": []
          },
          "execution_count": 18
        }
      ]
    },
    {
      "cell_type": "markdown",
      "metadata": {
        "id": "s_U45UNqWvT2"
      },
      "source": [
        "## Форматирование"
      ]
    },
    {
      "cell_type": "code",
      "metadata": {
        "colab": {
          "base_uri": "https://localhost:8080/",
          "height": 225
        },
        "id": "bqeBKcXmUCV3",
        "outputId": "04c649f8-638e-47b7-ad72-eaf038368457"
      },
      "source": [
        "(df.groupby(['checking_account'])\n",
        "[['default']]\n",
        " .agg(['count','mean']))"
      ],
      "execution_count": null,
      "outputs": [
        {
          "output_type": "execute_result",
          "data": {
            "text/html": [
              "<div>\n",
              "<style scoped>\n",
              "    .dataframe tbody tr th:only-of-type {\n",
              "        vertical-align: middle;\n",
              "    }\n",
              "\n",
              "    .dataframe tbody tr th {\n",
              "        vertical-align: top;\n",
              "    }\n",
              "\n",
              "    .dataframe thead tr th {\n",
              "        text-align: left;\n",
              "    }\n",
              "\n",
              "    .dataframe thead tr:last-of-type th {\n",
              "        text-align: right;\n",
              "    }\n",
              "</style>\n",
              "<table border=\"1\" class=\"dataframe\">\n",
              "  <thead>\n",
              "    <tr>\n",
              "      <th></th>\n",
              "      <th colspan=\"2\" halign=\"left\">default</th>\n",
              "    </tr>\n",
              "    <tr>\n",
              "      <th></th>\n",
              "      <th>count</th>\n",
              "      <th>mean</th>\n",
              "    </tr>\n",
              "    <tr>\n",
              "      <th>checking_account</th>\n",
              "      <th></th>\n",
              "      <th></th>\n",
              "    </tr>\n",
              "  </thead>\n",
              "  <tbody>\n",
              "    <tr>\n",
              "      <th>little</th>\n",
              "      <td>274</td>\n",
              "      <td>0.492701</td>\n",
              "    </tr>\n",
              "    <tr>\n",
              "      <th>moderate</th>\n",
              "      <td>269</td>\n",
              "      <td>0.390335</td>\n",
              "    </tr>\n",
              "    <tr>\n",
              "      <th>no_info</th>\n",
              "      <td>394</td>\n",
              "      <td>0.116751</td>\n",
              "    </tr>\n",
              "    <tr>\n",
              "      <th>rich</th>\n",
              "      <td>63</td>\n",
              "      <td>0.222222</td>\n",
              "    </tr>\n",
              "  </tbody>\n",
              "</table>\n",
              "</div>"
            ],
            "text/plain": [
              "                 default          \n",
              "                   count      mean\n",
              "checking_account                  \n",
              "little               274  0.492701\n",
              "moderate             269  0.390335\n",
              "no_info              394  0.116751\n",
              "rich                  63  0.222222"
            ]
          },
          "metadata": {
            "tags": []
          },
          "execution_count": 19
        }
      ]
    },
    {
      "cell_type": "code",
      "metadata": {
        "colab": {
          "base_uri": "https://localhost:8080/",
          "height": 195
        },
        "id": "DWU5wM6fUXTh",
        "outputId": "45df8fc1-5ce9-4bd3-e92d-365c2abd685e"
      },
      "source": [
        "(df.groupby('checking_account')\n",
        "['default']\n",
        " .agg(['count','mean']))"
      ],
      "execution_count": null,
      "outputs": [
        {
          "output_type": "execute_result",
          "data": {
            "text/html": [
              "<div>\n",
              "<style scoped>\n",
              "    .dataframe tbody tr th:only-of-type {\n",
              "        vertical-align: middle;\n",
              "    }\n",
              "\n",
              "    .dataframe tbody tr th {\n",
              "        vertical-align: top;\n",
              "    }\n",
              "\n",
              "    .dataframe thead th {\n",
              "        text-align: right;\n",
              "    }\n",
              "</style>\n",
              "<table border=\"1\" class=\"dataframe\">\n",
              "  <thead>\n",
              "    <tr style=\"text-align: right;\">\n",
              "      <th></th>\n",
              "      <th>count</th>\n",
              "      <th>mean</th>\n",
              "    </tr>\n",
              "    <tr>\n",
              "      <th>checking_account</th>\n",
              "      <th></th>\n",
              "      <th></th>\n",
              "    </tr>\n",
              "  </thead>\n",
              "  <tbody>\n",
              "    <tr>\n",
              "      <th>little</th>\n",
              "      <td>274</td>\n",
              "      <td>0.492701</td>\n",
              "    </tr>\n",
              "    <tr>\n",
              "      <th>moderate</th>\n",
              "      <td>269</td>\n",
              "      <td>0.390335</td>\n",
              "    </tr>\n",
              "    <tr>\n",
              "      <th>no_info</th>\n",
              "      <td>394</td>\n",
              "      <td>0.116751</td>\n",
              "    </tr>\n",
              "    <tr>\n",
              "      <th>rich</th>\n",
              "      <td>63</td>\n",
              "      <td>0.222222</td>\n",
              "    </tr>\n",
              "  </tbody>\n",
              "</table>\n",
              "</div>"
            ],
            "text/plain": [
              "                  count      mean\n",
              "checking_account                 \n",
              "little              274  0.492701\n",
              "moderate            269  0.390335\n",
              "no_info             394  0.116751\n",
              "rich                 63  0.222222"
            ]
          },
          "metadata": {
            "tags": []
          },
          "execution_count": 20
        }
      ]
    },
    {
      "cell_type": "code",
      "metadata": {
        "colab": {
          "base_uri": "https://localhost:8080/",
          "height": 138
        },
        "id": "uhltQzVPUZQu",
        "outputId": "e46a0b19-1b12-4048-ae4a-25a50628edb4"
      },
      "source": [
        "(df.groupby(['checking_account'])['default']\n",
        ".agg(['count', 'mean'])\n",
        ".sort_values('count',ascending=False)\n",
        ".style\n",
        ".format({\n",
        "    'mean': '{:,.1%}'.format,\n",
        "})\n",
        ".applymap(\n",
        "     lambda x: 'background-color : green' if x>0.3 else '', \n",
        "     subset=['mean']))"
      ],
      "execution_count": null,
      "outputs": [
        {
          "output_type": "execute_result",
          "data": {
            "text/html": [
              "<style  type=\"text/css\" >\n",
              "#T_d1a304f0_8339_11eb_8183_0242ac1c0002row1_col1,#T_d1a304f0_8339_11eb_8183_0242ac1c0002row2_col1{\n",
              "            background-color :  green;\n",
              "        }</style><table id=\"T_d1a304f0_8339_11eb_8183_0242ac1c0002\" ><thead>    <tr>        <th class=\"blank level0\" ></th>        <th class=\"col_heading level0 col0\" >count</th>        <th class=\"col_heading level0 col1\" >mean</th>    </tr>    <tr>        <th class=\"index_name level0\" >checking_account</th>        <th class=\"blank\" ></th>        <th class=\"blank\" ></th>    </tr></thead><tbody>\n",
              "                <tr>\n",
              "                        <th id=\"T_d1a304f0_8339_11eb_8183_0242ac1c0002level0_row0\" class=\"row_heading level0 row0\" >no_info</th>\n",
              "                        <td id=\"T_d1a304f0_8339_11eb_8183_0242ac1c0002row0_col0\" class=\"data row0 col0\" >394</td>\n",
              "                        <td id=\"T_d1a304f0_8339_11eb_8183_0242ac1c0002row0_col1\" class=\"data row0 col1\" >11.7%</td>\n",
              "            </tr>\n",
              "            <tr>\n",
              "                        <th id=\"T_d1a304f0_8339_11eb_8183_0242ac1c0002level0_row1\" class=\"row_heading level0 row1\" >little</th>\n",
              "                        <td id=\"T_d1a304f0_8339_11eb_8183_0242ac1c0002row1_col0\" class=\"data row1 col0\" >274</td>\n",
              "                        <td id=\"T_d1a304f0_8339_11eb_8183_0242ac1c0002row1_col1\" class=\"data row1 col1\" >49.3%</td>\n",
              "            </tr>\n",
              "            <tr>\n",
              "                        <th id=\"T_d1a304f0_8339_11eb_8183_0242ac1c0002level0_row2\" class=\"row_heading level0 row2\" >moderate</th>\n",
              "                        <td id=\"T_d1a304f0_8339_11eb_8183_0242ac1c0002row2_col0\" class=\"data row2 col0\" >269</td>\n",
              "                        <td id=\"T_d1a304f0_8339_11eb_8183_0242ac1c0002row2_col1\" class=\"data row2 col1\" >39.0%</td>\n",
              "            </tr>\n",
              "            <tr>\n",
              "                        <th id=\"T_d1a304f0_8339_11eb_8183_0242ac1c0002level0_row3\" class=\"row_heading level0 row3\" >rich</th>\n",
              "                        <td id=\"T_d1a304f0_8339_11eb_8183_0242ac1c0002row3_col0\" class=\"data row3 col0\" >63</td>\n",
              "                        <td id=\"T_d1a304f0_8339_11eb_8183_0242ac1c0002row3_col1\" class=\"data row3 col1\" >22.2%</td>\n",
              "            </tr>\n",
              "    </tbody></table>"
            ],
            "text/plain": [
              "<pandas.io.formats.style.Styler at 0x7f3a932b0550>"
            ]
          },
          "metadata": {
            "tags": []
          },
          "execution_count": 21
        }
      ]
    },
    {
      "cell_type": "code",
      "metadata": {
        "colab": {
          "base_uri": "https://localhost:8080/",
          "height": 195
        },
        "id": "PAPBVA2rUiwo",
        "outputId": "b6369ac5-a2e4-4037-e3a6-b7cbcf444ffe"
      },
      "source": [
        "df.groupby('checking_account')['default'].agg(['count','mean'])"
      ],
      "execution_count": null,
      "outputs": [
        {
          "output_type": "execute_result",
          "data": {
            "text/html": [
              "<div>\n",
              "<style scoped>\n",
              "    .dataframe tbody tr th:only-of-type {\n",
              "        vertical-align: middle;\n",
              "    }\n",
              "\n",
              "    .dataframe tbody tr th {\n",
              "        vertical-align: top;\n",
              "    }\n",
              "\n",
              "    .dataframe thead th {\n",
              "        text-align: right;\n",
              "    }\n",
              "</style>\n",
              "<table border=\"1\" class=\"dataframe\">\n",
              "  <thead>\n",
              "    <tr style=\"text-align: right;\">\n",
              "      <th></th>\n",
              "      <th>count</th>\n",
              "      <th>mean</th>\n",
              "    </tr>\n",
              "    <tr>\n",
              "      <th>checking_account</th>\n",
              "      <th></th>\n",
              "      <th></th>\n",
              "    </tr>\n",
              "  </thead>\n",
              "  <tbody>\n",
              "    <tr>\n",
              "      <th>little</th>\n",
              "      <td>274</td>\n",
              "      <td>0.492701</td>\n",
              "    </tr>\n",
              "    <tr>\n",
              "      <th>moderate</th>\n",
              "      <td>269</td>\n",
              "      <td>0.390335</td>\n",
              "    </tr>\n",
              "    <tr>\n",
              "      <th>no_info</th>\n",
              "      <td>394</td>\n",
              "      <td>0.116751</td>\n",
              "    </tr>\n",
              "    <tr>\n",
              "      <th>rich</th>\n",
              "      <td>63</td>\n",
              "      <td>0.222222</td>\n",
              "    </tr>\n",
              "  </tbody>\n",
              "</table>\n",
              "</div>"
            ],
            "text/plain": [
              "                  count      mean\n",
              "checking_account                 \n",
              "little              274  0.492701\n",
              "moderate            269  0.390335\n",
              "no_info             394  0.116751\n",
              "rich                 63  0.222222"
            ]
          },
          "metadata": {
            "tags": []
          },
          "execution_count": 22
        }
      ]
    },
    {
      "cell_type": "code",
      "metadata": {
        "id": "ZukdK8PLU2Yf"
      },
      "source": [
        "t = df.pivot_table(index='checking_account',\n",
        "               columns='sex',\n",
        "               values=['default','credit_amount'],\n",
        "               aggfunc=['count','mean'],\n",
        "       margins=True)"
      ],
      "execution_count": null,
      "outputs": []
    },
    {
      "cell_type": "code",
      "metadata": {
        "colab": {
          "base_uri": "https://localhost:8080/",
          "height": 304
        },
        "id": "JC9BXlRGU97R",
        "outputId": "2c1175bf-bb5c-412c-ef02-1670ff9e446b"
      },
      "source": [
        "t"
      ],
      "execution_count": null,
      "outputs": [
        {
          "output_type": "execute_result",
          "data": {
            "text/html": [
              "<div>\n",
              "<style scoped>\n",
              "    .dataframe tbody tr th:only-of-type {\n",
              "        vertical-align: middle;\n",
              "    }\n",
              "\n",
              "    .dataframe tbody tr th {\n",
              "        vertical-align: top;\n",
              "    }\n",
              "\n",
              "    .dataframe thead tr th {\n",
              "        text-align: left;\n",
              "    }\n",
              "\n",
              "    .dataframe thead tr:last-of-type th {\n",
              "        text-align: right;\n",
              "    }\n",
              "</style>\n",
              "<table border=\"1\" class=\"dataframe\">\n",
              "  <thead>\n",
              "    <tr>\n",
              "      <th></th>\n",
              "      <th colspan=\"6\" halign=\"left\">count</th>\n",
              "      <th colspan=\"6\" halign=\"left\">mean</th>\n",
              "    </tr>\n",
              "    <tr>\n",
              "      <th></th>\n",
              "      <th colspan=\"3\" halign=\"left\">credit_amount</th>\n",
              "      <th colspan=\"3\" halign=\"left\">default</th>\n",
              "      <th colspan=\"3\" halign=\"left\">credit_amount</th>\n",
              "      <th colspan=\"3\" halign=\"left\">default</th>\n",
              "    </tr>\n",
              "    <tr>\n",
              "      <th>sex</th>\n",
              "      <th>female</th>\n",
              "      <th>male</th>\n",
              "      <th>All</th>\n",
              "      <th>female</th>\n",
              "      <th>male</th>\n",
              "      <th>All</th>\n",
              "      <th>female</th>\n",
              "      <th>male</th>\n",
              "      <th>All</th>\n",
              "      <th>female</th>\n",
              "      <th>male</th>\n",
              "      <th>All</th>\n",
              "    </tr>\n",
              "    <tr>\n",
              "      <th>checking_account</th>\n",
              "      <th></th>\n",
              "      <th></th>\n",
              "      <th></th>\n",
              "      <th></th>\n",
              "      <th></th>\n",
              "      <th></th>\n",
              "      <th></th>\n",
              "      <th></th>\n",
              "      <th></th>\n",
              "      <th></th>\n",
              "      <th></th>\n",
              "      <th></th>\n",
              "    </tr>\n",
              "  </thead>\n",
              "  <tbody>\n",
              "    <tr>\n",
              "      <th>little</th>\n",
              "      <td>88</td>\n",
              "      <td>186</td>\n",
              "      <td>274</td>\n",
              "      <td>88</td>\n",
              "      <td>186</td>\n",
              "      <td>274</td>\n",
              "      <td>2564.215909</td>\n",
              "      <td>3464.295699</td>\n",
              "      <td>3175.218978</td>\n",
              "      <td>0.522727</td>\n",
              "      <td>0.478495</td>\n",
              "      <td>0.492701</td>\n",
              "    </tr>\n",
              "    <tr>\n",
              "      <th>moderate</th>\n",
              "      <td>86</td>\n",
              "      <td>183</td>\n",
              "      <td>269</td>\n",
              "      <td>86</td>\n",
              "      <td>183</td>\n",
              "      <td>269</td>\n",
              "      <td>3720.034884</td>\n",
              "      <td>3878.092896</td>\n",
              "      <td>3827.561338</td>\n",
              "      <td>0.476744</td>\n",
              "      <td>0.349727</td>\n",
              "      <td>0.390335</td>\n",
              "    </tr>\n",
              "    <tr>\n",
              "      <th>no_info</th>\n",
              "      <td>116</td>\n",
              "      <td>278</td>\n",
              "      <td>394</td>\n",
              "      <td>116</td>\n",
              "      <td>278</td>\n",
              "      <td>394</td>\n",
              "      <td>2708.750000</td>\n",
              "      <td>3310.169065</td>\n",
              "      <td>3133.101523</td>\n",
              "      <td>0.155172</td>\n",
              "      <td>0.100719</td>\n",
              "      <td>0.116751</td>\n",
              "    </tr>\n",
              "    <tr>\n",
              "      <th>rich</th>\n",
              "      <td>20</td>\n",
              "      <td>43</td>\n",
              "      <td>63</td>\n",
              "      <td>20</td>\n",
              "      <td>43</td>\n",
              "      <td>63</td>\n",
              "      <td>1616.050000</td>\n",
              "      <td>2438.860465</td>\n",
              "      <td>2177.650794</td>\n",
              "      <td>0.200000</td>\n",
              "      <td>0.232558</td>\n",
              "      <td>0.222222</td>\n",
              "    </tr>\n",
              "    <tr>\n",
              "      <th>All</th>\n",
              "      <td>310</td>\n",
              "      <td>690</td>\n",
              "      <td>1000</td>\n",
              "      <td>310</td>\n",
              "      <td>690</td>\n",
              "      <td>1000</td>\n",
              "      <td>2877.774194</td>\n",
              "      <td>3448.040580</td>\n",
              "      <td>3271.258000</td>\n",
              "      <td>0.351613</td>\n",
              "      <td>0.276812</td>\n",
              "      <td>0.300000</td>\n",
              "    </tr>\n",
              "  </tbody>\n",
              "</table>\n",
              "</div>"
            ],
            "text/plain": [
              "                         count             ...      mean                    \n",
              "                 credit_amount             ...   default                    \n",
              "sex                     female male   All  ...    female      male       All\n",
              "checking_account                           ...                              \n",
              "little                      88  186   274  ...  0.522727  0.478495  0.492701\n",
              "moderate                    86  183   269  ...  0.476744  0.349727  0.390335\n",
              "no_info                    116  278   394  ...  0.155172  0.100719  0.116751\n",
              "rich                        20   43    63  ...  0.200000  0.232558  0.222222\n",
              "All                        310  690  1000  ...  0.351613  0.276812  0.300000\n",
              "\n",
              "[5 rows x 12 columns]"
            ]
          },
          "metadata": {
            "tags": []
          },
          "execution_count": 24
        }
      ]
    },
    {
      "cell_type": "code",
      "metadata": {
        "colab": {
          "base_uri": "https://localhost:8080/"
        },
        "id": "_DAu_2NuVQo6",
        "outputId": "7e518af3-30c1-4ae3-f4bb-3de30ae0c96b"
      },
      "source": [
        "t.columns"
      ],
      "execution_count": null,
      "outputs": [
        {
          "output_type": "execute_result",
          "data": {
            "text/plain": [
              "MultiIndex([('count', 'credit_amount', 'female'),\n",
              "            ('count', 'credit_amount',   'male'),\n",
              "            ('count', 'credit_amount',    'All'),\n",
              "            ('count',       'default', 'female'),\n",
              "            ('count',       'default',   'male'),\n",
              "            ('count',       'default',    'All'),\n",
              "            ( 'mean', 'credit_amount', 'female'),\n",
              "            ( 'mean', 'credit_amount',   'male'),\n",
              "            ( 'mean', 'credit_amount',    'All'),\n",
              "            ( 'mean',       'default', 'female'),\n",
              "            ( 'mean',       'default',   'male'),\n",
              "            ( 'mean',       'default',    'All')],\n",
              "           names=[None, None, 'sex'])"
            ]
          },
          "metadata": {
            "tags": []
          },
          "execution_count": 25
        }
      ]
    },
    {
      "cell_type": "code",
      "metadata": {
        "id": "gHLyHueMU_8p"
      },
      "source": [
        "t.columns = ['_'.join(col).strip() for col in t.columns.values]"
      ],
      "execution_count": null,
      "outputs": []
    },
    {
      "cell_type": "code",
      "metadata": {
        "colab": {
          "base_uri": "https://localhost:8080/",
          "height": 245
        },
        "id": "9AlXpfbHVMFL",
        "outputId": "5796a133-b6a8-4c07-a704-66d42e761e4f"
      },
      "source": [
        "t"
      ],
      "execution_count": null,
      "outputs": [
        {
          "output_type": "execute_result",
          "data": {
            "text/html": [
              "<div>\n",
              "<style scoped>\n",
              "    .dataframe tbody tr th:only-of-type {\n",
              "        vertical-align: middle;\n",
              "    }\n",
              "\n",
              "    .dataframe tbody tr th {\n",
              "        vertical-align: top;\n",
              "    }\n",
              "\n",
              "    .dataframe thead th {\n",
              "        text-align: right;\n",
              "    }\n",
              "</style>\n",
              "<table border=\"1\" class=\"dataframe\">\n",
              "  <thead>\n",
              "    <tr style=\"text-align: right;\">\n",
              "      <th></th>\n",
              "      <th>count_credit_amount_female</th>\n",
              "      <th>count_credit_amount_male</th>\n",
              "      <th>count_credit_amount_All</th>\n",
              "      <th>count_default_female</th>\n",
              "      <th>count_default_male</th>\n",
              "      <th>count_default_All</th>\n",
              "      <th>mean_credit_amount_female</th>\n",
              "      <th>mean_credit_amount_male</th>\n",
              "      <th>mean_credit_amount_All</th>\n",
              "      <th>mean_default_female</th>\n",
              "      <th>mean_default_male</th>\n",
              "      <th>mean_default_All</th>\n",
              "    </tr>\n",
              "    <tr>\n",
              "      <th>checking_account</th>\n",
              "      <th></th>\n",
              "      <th></th>\n",
              "      <th></th>\n",
              "      <th></th>\n",
              "      <th></th>\n",
              "      <th></th>\n",
              "      <th></th>\n",
              "      <th></th>\n",
              "      <th></th>\n",
              "      <th></th>\n",
              "      <th></th>\n",
              "      <th></th>\n",
              "    </tr>\n",
              "  </thead>\n",
              "  <tbody>\n",
              "    <tr>\n",
              "      <th>little</th>\n",
              "      <td>88</td>\n",
              "      <td>186</td>\n",
              "      <td>274</td>\n",
              "      <td>88</td>\n",
              "      <td>186</td>\n",
              "      <td>274</td>\n",
              "      <td>2564.215909</td>\n",
              "      <td>3464.295699</td>\n",
              "      <td>3175.218978</td>\n",
              "      <td>0.522727</td>\n",
              "      <td>0.478495</td>\n",
              "      <td>0.492701</td>\n",
              "    </tr>\n",
              "    <tr>\n",
              "      <th>moderate</th>\n",
              "      <td>86</td>\n",
              "      <td>183</td>\n",
              "      <td>269</td>\n",
              "      <td>86</td>\n",
              "      <td>183</td>\n",
              "      <td>269</td>\n",
              "      <td>3720.034884</td>\n",
              "      <td>3878.092896</td>\n",
              "      <td>3827.561338</td>\n",
              "      <td>0.476744</td>\n",
              "      <td>0.349727</td>\n",
              "      <td>0.390335</td>\n",
              "    </tr>\n",
              "    <tr>\n",
              "      <th>no_info</th>\n",
              "      <td>116</td>\n",
              "      <td>278</td>\n",
              "      <td>394</td>\n",
              "      <td>116</td>\n",
              "      <td>278</td>\n",
              "      <td>394</td>\n",
              "      <td>2708.750000</td>\n",
              "      <td>3310.169065</td>\n",
              "      <td>3133.101523</td>\n",
              "      <td>0.155172</td>\n",
              "      <td>0.100719</td>\n",
              "      <td>0.116751</td>\n",
              "    </tr>\n",
              "    <tr>\n",
              "      <th>rich</th>\n",
              "      <td>20</td>\n",
              "      <td>43</td>\n",
              "      <td>63</td>\n",
              "      <td>20</td>\n",
              "      <td>43</td>\n",
              "      <td>63</td>\n",
              "      <td>1616.050000</td>\n",
              "      <td>2438.860465</td>\n",
              "      <td>2177.650794</td>\n",
              "      <td>0.200000</td>\n",
              "      <td>0.232558</td>\n",
              "      <td>0.222222</td>\n",
              "    </tr>\n",
              "    <tr>\n",
              "      <th>All</th>\n",
              "      <td>310</td>\n",
              "      <td>690</td>\n",
              "      <td>1000</td>\n",
              "      <td>310</td>\n",
              "      <td>690</td>\n",
              "      <td>1000</td>\n",
              "      <td>2877.774194</td>\n",
              "      <td>3448.040580</td>\n",
              "      <td>3271.258000</td>\n",
              "      <td>0.351613</td>\n",
              "      <td>0.276812</td>\n",
              "      <td>0.300000</td>\n",
              "    </tr>\n",
              "  </tbody>\n",
              "</table>\n",
              "</div>"
            ],
            "text/plain": [
              "                  count_credit_amount_female  ...  mean_default_All\n",
              "checking_account                              ...                  \n",
              "little                                    88  ...          0.492701\n",
              "moderate                                  86  ...          0.390335\n",
              "no_info                                  116  ...          0.116751\n",
              "rich                                      20  ...          0.222222\n",
              "All                                      310  ...          0.300000\n",
              "\n",
              "[5 rows x 12 columns]"
            ]
          },
          "metadata": {
            "tags": []
          },
          "execution_count": 27
        }
      ]
    },
    {
      "cell_type": "code",
      "metadata": {
        "colab": {
          "base_uri": "https://localhost:8080/"
        },
        "id": "m8F71KloVMqB",
        "outputId": "d6150296-eb0e-4979-eaac-69214eb89ee3"
      },
      "source": [
        "t.columns"
      ],
      "execution_count": null,
      "outputs": [
        {
          "output_type": "execute_result",
          "data": {
            "text/plain": [
              "Index(['count_credit_amount_female', 'count_credit_amount_male',\n",
              "       'count_credit_amount_All', 'count_default_female', 'count_default_male',\n",
              "       'count_default_All', 'mean_credit_amount_female',\n",
              "       'mean_credit_amount_male', 'mean_credit_amount_All',\n",
              "       'mean_default_female', 'mean_default_male', 'mean_default_All'],\n",
              "      dtype='object')"
            ]
          },
          "metadata": {
            "tags": []
          },
          "execution_count": 28
        }
      ]
    },
    {
      "cell_type": "markdown",
      "metadata": {
        "id": "MCQsyTK7ZIF_"
      },
      "source": [
        "## Пример анализа"
      ]
    },
    {
      "cell_type": "code",
      "metadata": {
        "colab": {
          "base_uri": "https://localhost:8080/",
          "height": 195
        },
        "id": "6SyKcw44VVya",
        "outputId": "ce53161b-4a05-4cf7-d87f-2a86b5dc41b1"
      },
      "source": [
        "df.groupby('checking_account')['default'].agg(['count','mean'])"
      ],
      "execution_count": null,
      "outputs": [
        {
          "output_type": "execute_result",
          "data": {
            "text/html": [
              "<div>\n",
              "<style scoped>\n",
              "    .dataframe tbody tr th:only-of-type {\n",
              "        vertical-align: middle;\n",
              "    }\n",
              "\n",
              "    .dataframe tbody tr th {\n",
              "        vertical-align: top;\n",
              "    }\n",
              "\n",
              "    .dataframe thead th {\n",
              "        text-align: right;\n",
              "    }\n",
              "</style>\n",
              "<table border=\"1\" class=\"dataframe\">\n",
              "  <thead>\n",
              "    <tr style=\"text-align: right;\">\n",
              "      <th></th>\n",
              "      <th>count</th>\n",
              "      <th>mean</th>\n",
              "    </tr>\n",
              "    <tr>\n",
              "      <th>checking_account</th>\n",
              "      <th></th>\n",
              "      <th></th>\n",
              "    </tr>\n",
              "  </thead>\n",
              "  <tbody>\n",
              "    <tr>\n",
              "      <th>little</th>\n",
              "      <td>274</td>\n",
              "      <td>0.492701</td>\n",
              "    </tr>\n",
              "    <tr>\n",
              "      <th>moderate</th>\n",
              "      <td>269</td>\n",
              "      <td>0.390335</td>\n",
              "    </tr>\n",
              "    <tr>\n",
              "      <th>no_info</th>\n",
              "      <td>394</td>\n",
              "      <td>0.116751</td>\n",
              "    </tr>\n",
              "    <tr>\n",
              "      <th>rich</th>\n",
              "      <td>63</td>\n",
              "      <td>0.222222</td>\n",
              "    </tr>\n",
              "  </tbody>\n",
              "</table>\n",
              "</div>"
            ],
            "text/plain": [
              "                  count      mean\n",
              "checking_account                 \n",
              "little              274  0.492701\n",
              "moderate            269  0.390335\n",
              "no_info             394  0.116751\n",
              "rich                 63  0.222222"
            ]
          },
          "metadata": {
            "tags": []
          },
          "execution_count": 29
        }
      ]
    },
    {
      "cell_type": "markdown",
      "metadata": {
        "id": "2xL6FYMsXVLE"
      },
      "source": [
        "Самый низкий процент должников в категории no_info"
      ]
    },
    {
      "cell_type": "code",
      "metadata": {
        "colab": {
          "base_uri": "https://localhost:8080/",
          "height": 215
        },
        "id": "6M7T1RjFXlNT",
        "outputId": "5c9c6a70-fe82-458b-caaf-97d7b0f45504"
      },
      "source": [
        "df.head()"
      ],
      "execution_count": null,
      "outputs": [
        {
          "output_type": "execute_result",
          "data": {
            "text/html": [
              "<div>\n",
              "<style scoped>\n",
              "    .dataframe tbody tr th:only-of-type {\n",
              "        vertical-align: middle;\n",
              "    }\n",
              "\n",
              "    .dataframe tbody tr th {\n",
              "        vertical-align: top;\n",
              "    }\n",
              "\n",
              "    .dataframe thead th {\n",
              "        text-align: right;\n",
              "    }\n",
              "</style>\n",
              "<table border=\"1\" class=\"dataframe\">\n",
              "  <thead>\n",
              "    <tr style=\"text-align: right;\">\n",
              "      <th></th>\n",
              "      <th>age</th>\n",
              "      <th>sex</th>\n",
              "      <th>job</th>\n",
              "      <th>housing</th>\n",
              "      <th>saving_accounts</th>\n",
              "      <th>checking_account</th>\n",
              "      <th>credit_amount</th>\n",
              "      <th>duration</th>\n",
              "      <th>purpose</th>\n",
              "      <th>default</th>\n",
              "    </tr>\n",
              "  </thead>\n",
              "  <tbody>\n",
              "    <tr>\n",
              "      <th>0</th>\n",
              "      <td>67</td>\n",
              "      <td>male</td>\n",
              "      <td>2</td>\n",
              "      <td>own</td>\n",
              "      <td>NaN</td>\n",
              "      <td>little</td>\n",
              "      <td>1169</td>\n",
              "      <td>6</td>\n",
              "      <td>radio/TV</td>\n",
              "      <td>0</td>\n",
              "    </tr>\n",
              "    <tr>\n",
              "      <th>1</th>\n",
              "      <td>22</td>\n",
              "      <td>female</td>\n",
              "      <td>2</td>\n",
              "      <td>own</td>\n",
              "      <td>little</td>\n",
              "      <td>moderate</td>\n",
              "      <td>5951</td>\n",
              "      <td>48</td>\n",
              "      <td>radio/TV</td>\n",
              "      <td>1</td>\n",
              "    </tr>\n",
              "    <tr>\n",
              "      <th>2</th>\n",
              "      <td>49</td>\n",
              "      <td>male</td>\n",
              "      <td>1</td>\n",
              "      <td>own</td>\n",
              "      <td>little</td>\n",
              "      <td>no_info</td>\n",
              "      <td>2096</td>\n",
              "      <td>12</td>\n",
              "      <td>education</td>\n",
              "      <td>0</td>\n",
              "    </tr>\n",
              "    <tr>\n",
              "      <th>3</th>\n",
              "      <td>45</td>\n",
              "      <td>male</td>\n",
              "      <td>2</td>\n",
              "      <td>free</td>\n",
              "      <td>little</td>\n",
              "      <td>little</td>\n",
              "      <td>7882</td>\n",
              "      <td>42</td>\n",
              "      <td>furniture/equipment</td>\n",
              "      <td>0</td>\n",
              "    </tr>\n",
              "    <tr>\n",
              "      <th>4</th>\n",
              "      <td>53</td>\n",
              "      <td>male</td>\n",
              "      <td>2</td>\n",
              "      <td>free</td>\n",
              "      <td>little</td>\n",
              "      <td>little</td>\n",
              "      <td>4870</td>\n",
              "      <td>24</td>\n",
              "      <td>car</td>\n",
              "      <td>1</td>\n",
              "    </tr>\n",
              "  </tbody>\n",
              "</table>\n",
              "</div>"
            ],
            "text/plain": [
              "   age     sex  job  ... duration              purpose default\n",
              "0   67    male    2  ...        6             radio/TV       0\n",
              "1   22  female    2  ...       48             radio/TV       1\n",
              "2   49    male    1  ...       12            education       0\n",
              "3   45    male    2  ...       42  furniture/equipment       0\n",
              "4   53    male    2  ...       24                  car       1\n",
              "\n",
              "[5 rows x 10 columns]"
            ]
          },
          "metadata": {
            "tags": []
          },
          "execution_count": 30
        }
      ]
    },
    {
      "cell_type": "code",
      "metadata": {
        "colab": {
          "base_uri": "https://localhost:8080/",
          "height": 166
        },
        "id": "mlwONigyYBmQ",
        "outputId": "bf981bee-18a4-48ac-8b00-1146e6cc9732"
      },
      "source": [
        "df.groupby('housing')['default'].agg(['count','mean'])"
      ],
      "execution_count": null,
      "outputs": [
        {
          "output_type": "execute_result",
          "data": {
            "text/html": [
              "<div>\n",
              "<style scoped>\n",
              "    .dataframe tbody tr th:only-of-type {\n",
              "        vertical-align: middle;\n",
              "    }\n",
              "\n",
              "    .dataframe tbody tr th {\n",
              "        vertical-align: top;\n",
              "    }\n",
              "\n",
              "    .dataframe thead th {\n",
              "        text-align: right;\n",
              "    }\n",
              "</style>\n",
              "<table border=\"1\" class=\"dataframe\">\n",
              "  <thead>\n",
              "    <tr style=\"text-align: right;\">\n",
              "      <th></th>\n",
              "      <th>count</th>\n",
              "      <th>mean</th>\n",
              "    </tr>\n",
              "    <tr>\n",
              "      <th>housing</th>\n",
              "      <th></th>\n",
              "      <th></th>\n",
              "    </tr>\n",
              "  </thead>\n",
              "  <tbody>\n",
              "    <tr>\n",
              "      <th>free</th>\n",
              "      <td>108</td>\n",
              "      <td>0.407407</td>\n",
              "    </tr>\n",
              "    <tr>\n",
              "      <th>own</th>\n",
              "      <td>713</td>\n",
              "      <td>0.260870</td>\n",
              "    </tr>\n",
              "    <tr>\n",
              "      <th>rent</th>\n",
              "      <td>179</td>\n",
              "      <td>0.391061</td>\n",
              "    </tr>\n",
              "  </tbody>\n",
              "</table>\n",
              "</div>"
            ],
            "text/plain": [
              "         count      mean\n",
              "housing                 \n",
              "free       108  0.407407\n",
              "own        713  0.260870\n",
              "rent       179  0.391061"
            ]
          },
          "metadata": {
            "tags": []
          },
          "execution_count": 31
        }
      ]
    },
    {
      "cell_type": "markdown",
      "metadata": {
        "id": "EECP6KeVYZRZ"
      },
      "source": [
        "Вывод"
      ]
    },
    {
      "cell_type": "code",
      "metadata": {
        "colab": {
          "base_uri": "https://localhost:8080/",
          "height": 166
        },
        "id": "GwJ-iAlqYbek",
        "outputId": "e47ba954-a368-4c8f-bf43-5df1b2cce832"
      },
      "source": [
        "df.groupby('housing')['credit_amount'].agg(['count','mean','median'])"
      ],
      "execution_count": null,
      "outputs": [
        {
          "output_type": "execute_result",
          "data": {
            "text/html": [
              "<div>\n",
              "<style scoped>\n",
              "    .dataframe tbody tr th:only-of-type {\n",
              "        vertical-align: middle;\n",
              "    }\n",
              "\n",
              "    .dataframe tbody tr th {\n",
              "        vertical-align: top;\n",
              "    }\n",
              "\n",
              "    .dataframe thead th {\n",
              "        text-align: right;\n",
              "    }\n",
              "</style>\n",
              "<table border=\"1\" class=\"dataframe\">\n",
              "  <thead>\n",
              "    <tr style=\"text-align: right;\">\n",
              "      <th></th>\n",
              "      <th>count</th>\n",
              "      <th>mean</th>\n",
              "      <th>median</th>\n",
              "    </tr>\n",
              "    <tr>\n",
              "      <th>housing</th>\n",
              "      <th></th>\n",
              "      <th></th>\n",
              "      <th></th>\n",
              "    </tr>\n",
              "  </thead>\n",
              "  <tbody>\n",
              "    <tr>\n",
              "      <th>free</th>\n",
              "      <td>108</td>\n",
              "      <td>4906.212963</td>\n",
              "      <td>3800.5</td>\n",
              "    </tr>\n",
              "    <tr>\n",
              "      <th>own</th>\n",
              "      <td>713</td>\n",
              "      <td>3060.939691</td>\n",
              "      <td>2238.0</td>\n",
              "    </tr>\n",
              "    <tr>\n",
              "      <th>rent</th>\n",
              "      <td>179</td>\n",
              "      <td>3122.553073</td>\n",
              "      <td>2301.0</td>\n",
              "    </tr>\n",
              "  </tbody>\n",
              "</table>\n",
              "</div>"
            ],
            "text/plain": [
              "         count         mean  median\n",
              "housing                            \n",
              "free       108  4906.212963  3800.5\n",
              "own        713  3060.939691  2238.0\n",
              "rent       179  3122.553073  2301.0"
            ]
          },
          "metadata": {
            "tags": []
          },
          "execution_count": 32
        }
      ]
    },
    {
      "cell_type": "markdown",
      "metadata": {
        "id": "VKCoIieQYfio"
      },
      "source": [
        "Вывод"
      ]
    },
    {
      "cell_type": "code",
      "metadata": {
        "colab": {
          "base_uri": "https://localhost:8080/",
          "height": 215
        },
        "id": "rRe93Vf0bSxf",
        "outputId": "0f038909-cd91-49f9-e43c-dc3d3696e140"
      },
      "source": [
        "df.head()"
      ],
      "execution_count": null,
      "outputs": [
        {
          "output_type": "execute_result",
          "data": {
            "text/html": [
              "<div>\n",
              "<style scoped>\n",
              "    .dataframe tbody tr th:only-of-type {\n",
              "        vertical-align: middle;\n",
              "    }\n",
              "\n",
              "    .dataframe tbody tr th {\n",
              "        vertical-align: top;\n",
              "    }\n",
              "\n",
              "    .dataframe thead th {\n",
              "        text-align: right;\n",
              "    }\n",
              "</style>\n",
              "<table border=\"1\" class=\"dataframe\">\n",
              "  <thead>\n",
              "    <tr style=\"text-align: right;\">\n",
              "      <th></th>\n",
              "      <th>age</th>\n",
              "      <th>sex</th>\n",
              "      <th>job</th>\n",
              "      <th>housing</th>\n",
              "      <th>saving_accounts</th>\n",
              "      <th>checking_account</th>\n",
              "      <th>credit_amount</th>\n",
              "      <th>duration</th>\n",
              "      <th>purpose</th>\n",
              "      <th>default</th>\n",
              "    </tr>\n",
              "  </thead>\n",
              "  <tbody>\n",
              "    <tr>\n",
              "      <th>0</th>\n",
              "      <td>67</td>\n",
              "      <td>male</td>\n",
              "      <td>2</td>\n",
              "      <td>own</td>\n",
              "      <td>NaN</td>\n",
              "      <td>little</td>\n",
              "      <td>1169</td>\n",
              "      <td>6</td>\n",
              "      <td>radio/TV</td>\n",
              "      <td>0</td>\n",
              "    </tr>\n",
              "    <tr>\n",
              "      <th>1</th>\n",
              "      <td>22</td>\n",
              "      <td>female</td>\n",
              "      <td>2</td>\n",
              "      <td>own</td>\n",
              "      <td>little</td>\n",
              "      <td>moderate</td>\n",
              "      <td>5951</td>\n",
              "      <td>48</td>\n",
              "      <td>radio/TV</td>\n",
              "      <td>1</td>\n",
              "    </tr>\n",
              "    <tr>\n",
              "      <th>2</th>\n",
              "      <td>49</td>\n",
              "      <td>male</td>\n",
              "      <td>1</td>\n",
              "      <td>own</td>\n",
              "      <td>little</td>\n",
              "      <td>no_info</td>\n",
              "      <td>2096</td>\n",
              "      <td>12</td>\n",
              "      <td>education</td>\n",
              "      <td>0</td>\n",
              "    </tr>\n",
              "    <tr>\n",
              "      <th>3</th>\n",
              "      <td>45</td>\n",
              "      <td>male</td>\n",
              "      <td>2</td>\n",
              "      <td>free</td>\n",
              "      <td>little</td>\n",
              "      <td>little</td>\n",
              "      <td>7882</td>\n",
              "      <td>42</td>\n",
              "      <td>furniture/equipment</td>\n",
              "      <td>0</td>\n",
              "    </tr>\n",
              "    <tr>\n",
              "      <th>4</th>\n",
              "      <td>53</td>\n",
              "      <td>male</td>\n",
              "      <td>2</td>\n",
              "      <td>free</td>\n",
              "      <td>little</td>\n",
              "      <td>little</td>\n",
              "      <td>4870</td>\n",
              "      <td>24</td>\n",
              "      <td>car</td>\n",
              "      <td>1</td>\n",
              "    </tr>\n",
              "  </tbody>\n",
              "</table>\n",
              "</div>"
            ],
            "text/plain": [
              "   age     sex  job  ... duration              purpose default\n",
              "0   67    male    2  ...        6             radio/TV       0\n",
              "1   22  female    2  ...       48             radio/TV       1\n",
              "2   49    male    1  ...       12            education       0\n",
              "3   45    male    2  ...       42  furniture/equipment       0\n",
              "4   53    male    2  ...       24                  car       1\n",
              "\n",
              "[5 rows x 10 columns]"
            ]
          },
          "metadata": {
            "tags": []
          },
          "execution_count": 33
        }
      ]
    },
    {
      "cell_type": "markdown",
      "metadata": {
        "id": "cP-1ePcMdrdH"
      },
      "source": [
        "## Бины"
      ]
    },
    {
      "cell_type": "code",
      "metadata": {
        "id": "Fe07svQ8beOS"
      },
      "source": [
        "df['credit_amount_group'] = pd.cut(df['credit_amount'],5)"
      ],
      "execution_count": null,
      "outputs": []
    },
    {
      "cell_type": "code",
      "metadata": {
        "colab": {
          "base_uri": "https://localhost:8080/",
          "height": 215
        },
        "id": "0e8SltLXblQS",
        "outputId": "cac1812c-31ed-4ac0-8f9a-9bfaf501e8be"
      },
      "source": [
        "df.head()"
      ],
      "execution_count": null,
      "outputs": [
        {
          "output_type": "execute_result",
          "data": {
            "text/html": [
              "<div>\n",
              "<style scoped>\n",
              "    .dataframe tbody tr th:only-of-type {\n",
              "        vertical-align: middle;\n",
              "    }\n",
              "\n",
              "    .dataframe tbody tr th {\n",
              "        vertical-align: top;\n",
              "    }\n",
              "\n",
              "    .dataframe thead th {\n",
              "        text-align: right;\n",
              "    }\n",
              "</style>\n",
              "<table border=\"1\" class=\"dataframe\">\n",
              "  <thead>\n",
              "    <tr style=\"text-align: right;\">\n",
              "      <th></th>\n",
              "      <th>age</th>\n",
              "      <th>sex</th>\n",
              "      <th>job</th>\n",
              "      <th>housing</th>\n",
              "      <th>saving_accounts</th>\n",
              "      <th>checking_account</th>\n",
              "      <th>credit_amount</th>\n",
              "      <th>duration</th>\n",
              "      <th>purpose</th>\n",
              "      <th>default</th>\n",
              "      <th>credit_amount_group</th>\n",
              "    </tr>\n",
              "  </thead>\n",
              "  <tbody>\n",
              "    <tr>\n",
              "      <th>0</th>\n",
              "      <td>67</td>\n",
              "      <td>male</td>\n",
              "      <td>2</td>\n",
              "      <td>own</td>\n",
              "      <td>NaN</td>\n",
              "      <td>little</td>\n",
              "      <td>1169</td>\n",
              "      <td>6</td>\n",
              "      <td>radio/TV</td>\n",
              "      <td>0</td>\n",
              "      <td>(231.826, 3884.8]</td>\n",
              "    </tr>\n",
              "    <tr>\n",
              "      <th>1</th>\n",
              "      <td>22</td>\n",
              "      <td>female</td>\n",
              "      <td>2</td>\n",
              "      <td>own</td>\n",
              "      <td>little</td>\n",
              "      <td>moderate</td>\n",
              "      <td>5951</td>\n",
              "      <td>48</td>\n",
              "      <td>radio/TV</td>\n",
              "      <td>1</td>\n",
              "      <td>(3884.8, 7519.6]</td>\n",
              "    </tr>\n",
              "    <tr>\n",
              "      <th>2</th>\n",
              "      <td>49</td>\n",
              "      <td>male</td>\n",
              "      <td>1</td>\n",
              "      <td>own</td>\n",
              "      <td>little</td>\n",
              "      <td>no_info</td>\n",
              "      <td>2096</td>\n",
              "      <td>12</td>\n",
              "      <td>education</td>\n",
              "      <td>0</td>\n",
              "      <td>(231.826, 3884.8]</td>\n",
              "    </tr>\n",
              "    <tr>\n",
              "      <th>3</th>\n",
              "      <td>45</td>\n",
              "      <td>male</td>\n",
              "      <td>2</td>\n",
              "      <td>free</td>\n",
              "      <td>little</td>\n",
              "      <td>little</td>\n",
              "      <td>7882</td>\n",
              "      <td>42</td>\n",
              "      <td>furniture/equipment</td>\n",
              "      <td>0</td>\n",
              "      <td>(7519.6, 11154.4]</td>\n",
              "    </tr>\n",
              "    <tr>\n",
              "      <th>4</th>\n",
              "      <td>53</td>\n",
              "      <td>male</td>\n",
              "      <td>2</td>\n",
              "      <td>free</td>\n",
              "      <td>little</td>\n",
              "      <td>little</td>\n",
              "      <td>4870</td>\n",
              "      <td>24</td>\n",
              "      <td>car</td>\n",
              "      <td>1</td>\n",
              "      <td>(3884.8, 7519.6]</td>\n",
              "    </tr>\n",
              "  </tbody>\n",
              "</table>\n",
              "</div>"
            ],
            "text/plain": [
              "   age     sex  job  ...              purpose default credit_amount_group\n",
              "0   67    male    2  ...             radio/TV       0   (231.826, 3884.8]\n",
              "1   22  female    2  ...             radio/TV       1    (3884.8, 7519.6]\n",
              "2   49    male    1  ...            education       0   (231.826, 3884.8]\n",
              "3   45    male    2  ...  furniture/equipment       0   (7519.6, 11154.4]\n",
              "4   53    male    2  ...                  car       1    (3884.8, 7519.6]\n",
              "\n",
              "[5 rows x 11 columns]"
            ]
          },
          "metadata": {
            "tags": []
          },
          "execution_count": 35
        }
      ]
    },
    {
      "cell_type": "code",
      "metadata": {
        "colab": {
          "base_uri": "https://localhost:8080/",
          "height": 225
        },
        "id": "gfS40DoLbEiB",
        "outputId": "d1b4b359-b293-4080-826b-25cccc75c81c"
      },
      "source": [
        "df.groupby('credit_amount_group')['default'].agg(['count','mean'])"
      ],
      "execution_count": null,
      "outputs": [
        {
          "output_type": "execute_result",
          "data": {
            "text/html": [
              "<div>\n",
              "<style scoped>\n",
              "    .dataframe tbody tr th:only-of-type {\n",
              "        vertical-align: middle;\n",
              "    }\n",
              "\n",
              "    .dataframe tbody tr th {\n",
              "        vertical-align: top;\n",
              "    }\n",
              "\n",
              "    .dataframe thead th {\n",
              "        text-align: right;\n",
              "    }\n",
              "</style>\n",
              "<table border=\"1\" class=\"dataframe\">\n",
              "  <thead>\n",
              "    <tr style=\"text-align: right;\">\n",
              "      <th></th>\n",
              "      <th>count</th>\n",
              "      <th>mean</th>\n",
              "    </tr>\n",
              "    <tr>\n",
              "      <th>credit_amount_group</th>\n",
              "      <th></th>\n",
              "      <th></th>\n",
              "    </tr>\n",
              "  </thead>\n",
              "  <tbody>\n",
              "    <tr>\n",
              "      <th>(231.826, 3884.8]</th>\n",
              "      <td>738</td>\n",
              "      <td>0.256098</td>\n",
              "    </tr>\n",
              "    <tr>\n",
              "      <th>(3884.8, 7519.6]</th>\n",
              "      <td>177</td>\n",
              "      <td>0.384181</td>\n",
              "    </tr>\n",
              "    <tr>\n",
              "      <th>(7519.6, 11154.4]</th>\n",
              "      <td>57</td>\n",
              "      <td>0.403509</td>\n",
              "    </tr>\n",
              "    <tr>\n",
              "      <th>(11154.4, 14789.2]</th>\n",
              "      <td>22</td>\n",
              "      <td>0.727273</td>\n",
              "    </tr>\n",
              "    <tr>\n",
              "      <th>(14789.2, 18424.0]</th>\n",
              "      <td>6</td>\n",
              "      <td>0.666667</td>\n",
              "    </tr>\n",
              "  </tbody>\n",
              "</table>\n",
              "</div>"
            ],
            "text/plain": [
              "                     count      mean\n",
              "credit_amount_group                 \n",
              "(231.826, 3884.8]      738  0.256098\n",
              "(3884.8, 7519.6]       177  0.384181\n",
              "(7519.6, 11154.4]       57  0.403509\n",
              "(11154.4, 14789.2]      22  0.727273\n",
              "(14789.2, 18424.0]       6  0.666667"
            ]
          },
          "metadata": {
            "tags": []
          },
          "execution_count": 36
        }
      ]
    },
    {
      "cell_type": "code",
      "metadata": {
        "id": "nbAGQbM5bP70"
      },
      "source": [
        "df['credit_amount_group2'] = pd.qcut(df['credit_amount'],5)"
      ],
      "execution_count": null,
      "outputs": []
    },
    {
      "cell_type": "code",
      "metadata": {
        "colab": {
          "base_uri": "https://localhost:8080/",
          "height": 225
        },
        "id": "9oeh9U4Ib3_h",
        "outputId": "7353b257-6c09-4414-df58-c03fdcd80077"
      },
      "source": [
        "df.groupby('credit_amount_group2')['default'].agg(['count','mean'])"
      ],
      "execution_count": null,
      "outputs": [
        {
          "output_type": "execute_result",
          "data": {
            "text/html": [
              "<div>\n",
              "<style scoped>\n",
              "    .dataframe tbody tr th:only-of-type {\n",
              "        vertical-align: middle;\n",
              "    }\n",
              "\n",
              "    .dataframe tbody tr th {\n",
              "        vertical-align: top;\n",
              "    }\n",
              "\n",
              "    .dataframe thead th {\n",
              "        text-align: right;\n",
              "    }\n",
              "</style>\n",
              "<table border=\"1\" class=\"dataframe\">\n",
              "  <thead>\n",
              "    <tr style=\"text-align: right;\">\n",
              "      <th></th>\n",
              "      <th>count</th>\n",
              "      <th>mean</th>\n",
              "    </tr>\n",
              "    <tr>\n",
              "      <th>credit_amount_group2</th>\n",
              "      <th></th>\n",
              "      <th></th>\n",
              "    </tr>\n",
              "  </thead>\n",
              "  <tbody>\n",
              "    <tr>\n",
              "      <th>(249.999, 1262.0]</th>\n",
              "      <td>201</td>\n",
              "      <td>0.303483</td>\n",
              "    </tr>\n",
              "    <tr>\n",
              "      <th>(1262.0, 1906.8]</th>\n",
              "      <td>199</td>\n",
              "      <td>0.241206</td>\n",
              "    </tr>\n",
              "    <tr>\n",
              "      <th>(1906.8, 2852.4]</th>\n",
              "      <td>200</td>\n",
              "      <td>0.270000</td>\n",
              "    </tr>\n",
              "    <tr>\n",
              "      <th>(2852.4, 4720.0]</th>\n",
              "      <td>200</td>\n",
              "      <td>0.260000</td>\n",
              "    </tr>\n",
              "    <tr>\n",
              "      <th>(4720.0, 18424.0]</th>\n",
              "      <td>200</td>\n",
              "      <td>0.425000</td>\n",
              "    </tr>\n",
              "  </tbody>\n",
              "</table>\n",
              "</div>"
            ],
            "text/plain": [
              "                      count      mean\n",
              "credit_amount_group2                 \n",
              "(249.999, 1262.0]       201  0.303483\n",
              "(1262.0, 1906.8]        199  0.241206\n",
              "(1906.8, 2852.4]        200  0.270000\n",
              "(2852.4, 4720.0]        200  0.260000\n",
              "(4720.0, 18424.0]       200  0.425000"
            ]
          },
          "metadata": {
            "tags": []
          },
          "execution_count": 38
        }
      ]
    },
    {
      "cell_type": "code",
      "metadata": {
        "id": "TX_RaEafb6Ih"
      },
      "source": [
        "df['credit_amount_group3'] = pd.cut(df['credit_amount'],[0,1000,2000,3000,5000,np.inf])"
      ],
      "execution_count": null,
      "outputs": []
    },
    {
      "cell_type": "code",
      "metadata": {
        "colab": {
          "base_uri": "https://localhost:8080/",
          "height": 225
        },
        "id": "TRHFIRRfcUm7",
        "outputId": "ebe52223-afd8-489a-ada2-26b7054e60d4"
      },
      "source": [
        "df.groupby('credit_amount_group3')['default'].agg(['count','mean'])"
      ],
      "execution_count": null,
      "outputs": [
        {
          "output_type": "execute_result",
          "data": {
            "text/html": [
              "<div>\n",
              "<style scoped>\n",
              "    .dataframe tbody tr th:only-of-type {\n",
              "        vertical-align: middle;\n",
              "    }\n",
              "\n",
              "    .dataframe tbody tr th {\n",
              "        vertical-align: top;\n",
              "    }\n",
              "\n",
              "    .dataframe thead th {\n",
              "        text-align: right;\n",
              "    }\n",
              "</style>\n",
              "<table border=\"1\" class=\"dataframe\">\n",
              "  <thead>\n",
              "    <tr style=\"text-align: right;\">\n",
              "      <th></th>\n",
              "      <th>count</th>\n",
              "      <th>mean</th>\n",
              "    </tr>\n",
              "    <tr>\n",
              "      <th>credit_amount_group3</th>\n",
              "      <th></th>\n",
              "      <th></th>\n",
              "    </tr>\n",
              "  </thead>\n",
              "  <tbody>\n",
              "    <tr>\n",
              "      <th>(0.0, 1000.0]</th>\n",
              "      <td>116</td>\n",
              "      <td>0.318966</td>\n",
              "    </tr>\n",
              "    <tr>\n",
              "      <th>(1000.0, 2000.0]</th>\n",
              "      <td>316</td>\n",
              "      <td>0.265823</td>\n",
              "    </tr>\n",
              "    <tr>\n",
              "      <th>(2000.0, 3000.0]</th>\n",
              "      <td>188</td>\n",
              "      <td>0.239362</td>\n",
              "    </tr>\n",
              "    <tr>\n",
              "      <th>(3000.0, 5000.0]</th>\n",
              "      <td>192</td>\n",
              "      <td>0.291667</td>\n",
              "    </tr>\n",
              "    <tr>\n",
              "      <th>(5000.0, inf]</th>\n",
              "      <td>188</td>\n",
              "      <td>0.414894</td>\n",
              "    </tr>\n",
              "  </tbody>\n",
              "</table>\n",
              "</div>"
            ],
            "text/plain": [
              "                      count      mean\n",
              "credit_amount_group3                 \n",
              "(0.0, 1000.0]           116  0.318966\n",
              "(1000.0, 2000.0]        316  0.265823\n",
              "(2000.0, 3000.0]        188  0.239362\n",
              "(3000.0, 5000.0]        192  0.291667\n",
              "(5000.0, inf]           188  0.414894"
            ]
          },
          "metadata": {
            "tags": []
          },
          "execution_count": 40
        }
      ]
    },
    {
      "cell_type": "code",
      "metadata": {
        "id": "0hnruiUrcXLj"
      },
      "source": [
        "df['credit_amount_group4'] = pd.cut(df['credit_amount'],[0,1000,np.inf],labels=['0-1k','1k+'])"
      ],
      "execution_count": null,
      "outputs": []
    },
    {
      "cell_type": "code",
      "metadata": {
        "colab": {
          "base_uri": "https://localhost:8080/",
          "height": 136
        },
        "id": "Yl3gcI9bchDJ",
        "outputId": "7a15f1e5-1e09-46b2-d59f-f1e1e5f83f15"
      },
      "source": [
        "df.groupby('credit_amount_group4')['default'].agg(['count','mean'])"
      ],
      "execution_count": null,
      "outputs": [
        {
          "output_type": "execute_result",
          "data": {
            "text/html": [
              "<div>\n",
              "<style scoped>\n",
              "    .dataframe tbody tr th:only-of-type {\n",
              "        vertical-align: middle;\n",
              "    }\n",
              "\n",
              "    .dataframe tbody tr th {\n",
              "        vertical-align: top;\n",
              "    }\n",
              "\n",
              "    .dataframe thead th {\n",
              "        text-align: right;\n",
              "    }\n",
              "</style>\n",
              "<table border=\"1\" class=\"dataframe\">\n",
              "  <thead>\n",
              "    <tr style=\"text-align: right;\">\n",
              "      <th></th>\n",
              "      <th>count</th>\n",
              "      <th>mean</th>\n",
              "    </tr>\n",
              "    <tr>\n",
              "      <th>credit_amount_group4</th>\n",
              "      <th></th>\n",
              "      <th></th>\n",
              "    </tr>\n",
              "  </thead>\n",
              "  <tbody>\n",
              "    <tr>\n",
              "      <th>0-1k</th>\n",
              "      <td>116</td>\n",
              "      <td>0.318966</td>\n",
              "    </tr>\n",
              "    <tr>\n",
              "      <th>1k+</th>\n",
              "      <td>884</td>\n",
              "      <td>0.297511</td>\n",
              "    </tr>\n",
              "  </tbody>\n",
              "</table>\n",
              "</div>"
            ],
            "text/plain": [
              "                      count      mean\n",
              "credit_amount_group4                 \n",
              "0-1k                    116  0.318966\n",
              "1k+                     884  0.297511"
            ]
          },
          "metadata": {
            "tags": []
          },
          "execution_count": 42
        }
      ]
    },
    {
      "cell_type": "code",
      "metadata": {
        "id": "wbR7b06BcjKN"
      },
      "source": [
        "df['credit_amount_group5'] = pd.qcut(df['credit_amount'],5)"
      ],
      "execution_count": null,
      "outputs": []
    },
    {
      "cell_type": "code",
      "metadata": {
        "colab": {
          "base_uri": "https://localhost:8080/",
          "height": 225
        },
        "id": "gJorSZ0Vc3Oc",
        "outputId": "866c205b-0302-42be-c114-fae827510260"
      },
      "source": [
        "df.groupby('credit_amount_group5')['default'].agg(['count','mean'])"
      ],
      "execution_count": null,
      "outputs": [
        {
          "output_type": "execute_result",
          "data": {
            "text/html": [
              "<div>\n",
              "<style scoped>\n",
              "    .dataframe tbody tr th:only-of-type {\n",
              "        vertical-align: middle;\n",
              "    }\n",
              "\n",
              "    .dataframe tbody tr th {\n",
              "        vertical-align: top;\n",
              "    }\n",
              "\n",
              "    .dataframe thead th {\n",
              "        text-align: right;\n",
              "    }\n",
              "</style>\n",
              "<table border=\"1\" class=\"dataframe\">\n",
              "  <thead>\n",
              "    <tr style=\"text-align: right;\">\n",
              "      <th></th>\n",
              "      <th>count</th>\n",
              "      <th>mean</th>\n",
              "    </tr>\n",
              "    <tr>\n",
              "      <th>credit_amount_group5</th>\n",
              "      <th></th>\n",
              "      <th></th>\n",
              "    </tr>\n",
              "  </thead>\n",
              "  <tbody>\n",
              "    <tr>\n",
              "      <th>(249.999, 1262.0]</th>\n",
              "      <td>201</td>\n",
              "      <td>0.303483</td>\n",
              "    </tr>\n",
              "    <tr>\n",
              "      <th>(1262.0, 1906.8]</th>\n",
              "      <td>199</td>\n",
              "      <td>0.241206</td>\n",
              "    </tr>\n",
              "    <tr>\n",
              "      <th>(1906.8, 2852.4]</th>\n",
              "      <td>200</td>\n",
              "      <td>0.270000</td>\n",
              "    </tr>\n",
              "    <tr>\n",
              "      <th>(2852.4, 4720.0]</th>\n",
              "      <td>200</td>\n",
              "      <td>0.260000</td>\n",
              "    </tr>\n",
              "    <tr>\n",
              "      <th>(4720.0, 18424.0]</th>\n",
              "      <td>200</td>\n",
              "      <td>0.425000</td>\n",
              "    </tr>\n",
              "  </tbody>\n",
              "</table>\n",
              "</div>"
            ],
            "text/plain": [
              "                      count      mean\n",
              "credit_amount_group5                 \n",
              "(249.999, 1262.0]       201  0.303483\n",
              "(1262.0, 1906.8]        199  0.241206\n",
              "(1906.8, 2852.4]        200  0.270000\n",
              "(2852.4, 4720.0]        200  0.260000\n",
              "(4720.0, 18424.0]       200  0.425000"
            ]
          },
          "metadata": {
            "tags": []
          },
          "execution_count": 44
        }
      ]
    },
    {
      "cell_type": "markdown",
      "metadata": {
        "id": "hz2eIx2Ris3_"
      },
      "source": [
        "## График"
      ]
    },
    {
      "cell_type": "code",
      "metadata": {
        "colab": {
          "base_uri": "https://localhost:8080/",
          "height": 358
        },
        "id": "PcQ5SSwcfSz1",
        "outputId": "aa160c87-3ab9-4bf7-82f2-9c5ae4eed16a"
      },
      "source": [
        "df.groupby('credit_amount_group5')['default'].mean().plot(rot=45,ylim=0,grid=True)"
      ],
      "execution_count": null,
      "outputs": [
        {
          "output_type": "execute_result",
          "data": {
            "text/plain": [
              "<matplotlib.axes._subplots.AxesSubplot at 0x7f3a92cf4610>"
            ]
          },
          "metadata": {
            "tags": []
          },
          "execution_count": 45
        },
        {
          "output_type": "display_data",
          "data": {
            "image/png": "[encoded data removed]",
            "text/plain": [
              "<Figure size 432x288 with 1 Axes>"
            ]
          },
          "metadata": {
            "tags": [],
            "needs_background": "light"
          }
        }
      ]
    },
    {
      "cell_type": "markdown",
      "metadata": {
        "id": "DBHntxpHgeYy"
      },
      "source": [
        "Вывод"
      ]
    },
    {
      "cell_type": "markdown",
      "metadata": {
        "id": "RzFsM-zay3Gv"
      },
      "source": [
        "# Распределение"
      ]
    },
    {
      "cell_type": "markdown",
      "metadata": {
        "id": "f_YDkQzOzDPP"
      },
      "source": [
        "## Категориальные (value_counts)"
      ]
    },
    {
      "cell_type": "code",
      "metadata": {
        "colab": {
          "base_uri": "https://localhost:8080/",
          "height": 215
        },
        "id": "td0nTJwJwYn9",
        "outputId": "7c28f5fe-66aa-4b65-e711-1a52cabf3f25"
      },
      "source": [
        "df.head()"
      ],
      "execution_count": null,
      "outputs": [
        {
          "output_type": "execute_result",
          "data": {
            "text/html": [
              "<div>\n",
              "<style scoped>\n",
              "    .dataframe tbody tr th:only-of-type {\n",
              "        vertical-align: middle;\n",
              "    }\n",
              "\n",
              "    .dataframe tbody tr th {\n",
              "        vertical-align: top;\n",
              "    }\n",
              "\n",
              "    .dataframe thead th {\n",
              "        text-align: right;\n",
              "    }\n",
              "</style>\n",
              "<table border=\"1\" class=\"dataframe\">\n",
              "  <thead>\n",
              "    <tr style=\"text-align: right;\">\n",
              "      <th></th>\n",
              "      <th>age</th>\n",
              "      <th>sex</th>\n",
              "      <th>job</th>\n",
              "      <th>housing</th>\n",
              "      <th>saving_accounts</th>\n",
              "      <th>checking_account</th>\n",
              "      <th>credit_amount</th>\n",
              "      <th>duration</th>\n",
              "      <th>purpose</th>\n",
              "      <th>default</th>\n",
              "      <th>credit_amount_group</th>\n",
              "      <th>credit_amount_group2</th>\n",
              "      <th>credit_amount_group3</th>\n",
              "      <th>credit_amount_group4</th>\n",
              "      <th>credit_amount_group5</th>\n",
              "    </tr>\n",
              "  </thead>\n",
              "  <tbody>\n",
              "    <tr>\n",
              "      <th>0</th>\n",
              "      <td>67</td>\n",
              "      <td>male</td>\n",
              "      <td>2</td>\n",
              "      <td>own</td>\n",
              "      <td>NaN</td>\n",
              "      <td>little</td>\n",
              "      <td>1169</td>\n",
              "      <td>6</td>\n",
              "      <td>radio/TV</td>\n",
              "      <td>0</td>\n",
              "      <td>(231.826, 3884.8]</td>\n",
              "      <td>(249.999, 1262.0]</td>\n",
              "      <td>(1000.0, 2000.0]</td>\n",
              "      <td>1k+</td>\n",
              "      <td>(249.999, 1262.0]</td>\n",
              "    </tr>\n",
              "    <tr>\n",
              "      <th>1</th>\n",
              "      <td>22</td>\n",
              "      <td>female</td>\n",
              "      <td>2</td>\n",
              "      <td>own</td>\n",
              "      <td>little</td>\n",
              "      <td>moderate</td>\n",
              "      <td>5951</td>\n",
              "      <td>48</td>\n",
              "      <td>radio/TV</td>\n",
              "      <td>1</td>\n",
              "      <td>(3884.8, 7519.6]</td>\n",
              "      <td>(4720.0, 18424.0]</td>\n",
              "      <td>(5000.0, inf]</td>\n",
              "      <td>1k+</td>\n",
              "      <td>(4720.0, 18424.0]</td>\n",
              "    </tr>\n",
              "    <tr>\n",
              "      <th>2</th>\n",
              "      <td>49</td>\n",
              "      <td>male</td>\n",
              "      <td>1</td>\n",
              "      <td>own</td>\n",
              "      <td>little</td>\n",
              "      <td>no_info</td>\n",
              "      <td>2096</td>\n",
              "      <td>12</td>\n",
              "      <td>education</td>\n",
              "      <td>0</td>\n",
              "      <td>(231.826, 3884.8]</td>\n",
              "      <td>(1906.8, 2852.4]</td>\n",
              "      <td>(2000.0, 3000.0]</td>\n",
              "      <td>1k+</td>\n",
              "      <td>(1906.8, 2852.4]</td>\n",
              "    </tr>\n",
              "    <tr>\n",
              "      <th>3</th>\n",
              "      <td>45</td>\n",
              "      <td>male</td>\n",
              "      <td>2</td>\n",
              "      <td>free</td>\n",
              "      <td>little</td>\n",
              "      <td>little</td>\n",
              "      <td>7882</td>\n",
              "      <td>42</td>\n",
              "      <td>furniture/equipment</td>\n",
              "      <td>0</td>\n",
              "      <td>(7519.6, 11154.4]</td>\n",
              "      <td>(4720.0, 18424.0]</td>\n",
              "      <td>(5000.0, inf]</td>\n",
              "      <td>1k+</td>\n",
              "      <td>(4720.0, 18424.0]</td>\n",
              "    </tr>\n",
              "    <tr>\n",
              "      <th>4</th>\n",
              "      <td>53</td>\n",
              "      <td>male</td>\n",
              "      <td>2</td>\n",
              "      <td>free</td>\n",
              "      <td>little</td>\n",
              "      <td>little</td>\n",
              "      <td>4870</td>\n",
              "      <td>24</td>\n",
              "      <td>car</td>\n",
              "      <td>1</td>\n",
              "      <td>(3884.8, 7519.6]</td>\n",
              "      <td>(4720.0, 18424.0]</td>\n",
              "      <td>(3000.0, 5000.0]</td>\n",
              "      <td>1k+</td>\n",
              "      <td>(4720.0, 18424.0]</td>\n",
              "    </tr>\n",
              "  </tbody>\n",
              "</table>\n",
              "</div>"
            ],
            "text/plain": [
              "   age     sex  ...  credit_amount_group4 credit_amount_group5\n",
              "0   67    male  ...                   1k+    (249.999, 1262.0]\n",
              "1   22  female  ...                   1k+    (4720.0, 18424.0]\n",
              "2   49    male  ...                   1k+     (1906.8, 2852.4]\n",
              "3   45    male  ...                   1k+    (4720.0, 18424.0]\n",
              "4   53    male  ...                   1k+    (4720.0, 18424.0]\n",
              "\n",
              "[5 rows x 15 columns]"
            ]
          },
          "metadata": {
            "tags": []
          },
          "execution_count": 46
        }
      ]
    },
    {
      "cell_type": "code",
      "metadata": {
        "colab": {
          "base_uri": "https://localhost:8080/"
        },
        "id": "56o7YA4Xwma_",
        "outputId": "5052abb4-a8d1-4d4c-f6b7-6ccdeda6a1ca"
      },
      "source": [
        "df['checking_account'].value_counts()"
      ],
      "execution_count": null,
      "outputs": [
        {
          "output_type": "execute_result",
          "data": {
            "text/plain": [
              "no_info     394\n",
              "little      274\n",
              "moderate    269\n",
              "rich         63\n",
              "Name: checking_account, dtype: int64"
            ]
          },
          "metadata": {
            "tags": []
          },
          "execution_count": 47
        }
      ]
    },
    {
      "cell_type": "code",
      "metadata": {
        "colab": {
          "base_uri": "https://localhost:8080/"
        },
        "id": "9-V0i8ZSwzmX",
        "outputId": "a4f2a043-9e9f-4fe4-ec7c-318436524cb9"
      },
      "source": [
        "df['checking_account'].value_counts(normalize=True)"
      ],
      "execution_count": null,
      "outputs": [
        {
          "output_type": "execute_result",
          "data": {
            "text/plain": [
              "no_info     0.394\n",
              "little      0.274\n",
              "moderate    0.269\n",
              "rich        0.063\n",
              "Name: checking_account, dtype: float64"
            ]
          },
          "metadata": {
            "tags": []
          },
          "execution_count": 48
        }
      ]
    },
    {
      "cell_type": "code",
      "metadata": {
        "colab": {
          "base_uri": "https://localhost:8080/"
        },
        "id": "iCPqxw6Ow7YL",
        "outputId": "9a21941c-f05d-45de-855e-c34e26967f5e"
      },
      "source": [
        "df['default'].value_counts()"
      ],
      "execution_count": null,
      "outputs": [
        {
          "output_type": "execute_result",
          "data": {
            "text/plain": [
              "0    700\n",
              "1    300\n",
              "Name: default, dtype: int64"
            ]
          },
          "metadata": {
            "tags": []
          },
          "execution_count": 49
        }
      ]
    },
    {
      "cell_type": "code",
      "metadata": {
        "colab": {
          "base_uri": "https://localhost:8080/"
        },
        "id": "YMwpZ7IbxC_P",
        "outputId": "ec85a859-c77a-42b9-e880-5145b2b7cd90"
      },
      "source": [
        "df['default'].value_counts(normalize=True)"
      ],
      "execution_count": null,
      "outputs": [
        {
          "output_type": "execute_result",
          "data": {
            "text/plain": [
              "0    0.7\n",
              "1    0.3\n",
              "Name: default, dtype: float64"
            ]
          },
          "metadata": {
            "tags": []
          },
          "execution_count": 50
        }
      ]
    },
    {
      "cell_type": "code",
      "metadata": {
        "colab": {
          "base_uri": "https://localhost:8080/"
        },
        "id": "yyT75uhExGOj",
        "outputId": "7527d4aa-8a29-42e0-f0bc-c05566141c1e"
      },
      "source": [
        "df['default'].mean()"
      ],
      "execution_count": null,
      "outputs": [
        {
          "output_type": "execute_result",
          "data": {
            "text/plain": [
              "0.3"
            ]
          },
          "metadata": {
            "tags": []
          },
          "execution_count": 51
        }
      ]
    },
    {
      "cell_type": "code",
      "metadata": {
        "colab": {
          "base_uri": "https://localhost:8080/",
          "height": 402
        },
        "id": "QE5k9rFMxORs",
        "outputId": "76005e50-2387-4198-fe2b-2609eb5ed54f"
      },
      "source": [
        "pd.get_dummies(df['checking_account'])"
      ],
      "execution_count": null,
      "outputs": [
        {
          "output_type": "execute_result",
          "data": {
            "text/html": [
              "<div>\n",
              "<style scoped>\n",
              "    .dataframe tbody tr th:only-of-type {\n",
              "        vertical-align: middle;\n",
              "    }\n",
              "\n",
              "    .dataframe tbody tr th {\n",
              "        vertical-align: top;\n",
              "    }\n",
              "\n",
              "    .dataframe thead th {\n",
              "        text-align: right;\n",
              "    }\n",
              "</style>\n",
              "<table border=\"1\" class=\"dataframe\">\n",
              "  <thead>\n",
              "    <tr style=\"text-align: right;\">\n",
              "      <th></th>\n",
              "      <th>little</th>\n",
              "      <th>moderate</th>\n",
              "      <th>no_info</th>\n",
              "      <th>rich</th>\n",
              "    </tr>\n",
              "  </thead>\n",
              "  <tbody>\n",
              "    <tr>\n",
              "      <th>0</th>\n",
              "      <td>1</td>\n",
              "      <td>0</td>\n",
              "      <td>0</td>\n",
              "      <td>0</td>\n",
              "    </tr>\n",
              "    <tr>\n",
              "      <th>1</th>\n",
              "      <td>0</td>\n",
              "      <td>1</td>\n",
              "      <td>0</td>\n",
              "      <td>0</td>\n",
              "    </tr>\n",
              "    <tr>\n",
              "      <th>2</th>\n",
              "      <td>0</td>\n",
              "      <td>0</td>\n",
              "      <td>1</td>\n",
              "      <td>0</td>\n",
              "    </tr>\n",
              "    <tr>\n",
              "      <th>3</th>\n",
              "      <td>1</td>\n",
              "      <td>0</td>\n",
              "      <td>0</td>\n",
              "      <td>0</td>\n",
              "    </tr>\n",
              "    <tr>\n",
              "      <th>4</th>\n",
              "      <td>1</td>\n",
              "      <td>0</td>\n",
              "      <td>0</td>\n",
              "      <td>0</td>\n",
              "    </tr>\n",
              "    <tr>\n",
              "      <th>...</th>\n",
              "      <td>...</td>\n",
              "      <td>...</td>\n",
              "      <td>...</td>\n",
              "      <td>...</td>\n",
              "    </tr>\n",
              "    <tr>\n",
              "      <th>995</th>\n",
              "      <td>0</td>\n",
              "      <td>0</td>\n",
              "      <td>1</td>\n",
              "      <td>0</td>\n",
              "    </tr>\n",
              "    <tr>\n",
              "      <th>996</th>\n",
              "      <td>1</td>\n",
              "      <td>0</td>\n",
              "      <td>0</td>\n",
              "      <td>0</td>\n",
              "    </tr>\n",
              "    <tr>\n",
              "      <th>997</th>\n",
              "      <td>0</td>\n",
              "      <td>0</td>\n",
              "      <td>1</td>\n",
              "      <td>0</td>\n",
              "    </tr>\n",
              "    <tr>\n",
              "      <th>998</th>\n",
              "      <td>1</td>\n",
              "      <td>0</td>\n",
              "      <td>0</td>\n",
              "      <td>0</td>\n",
              "    </tr>\n",
              "    <tr>\n",
              "      <th>999</th>\n",
              "      <td>0</td>\n",
              "      <td>1</td>\n",
              "      <td>0</td>\n",
              "      <td>0</td>\n",
              "    </tr>\n",
              "  </tbody>\n",
              "</table>\n",
              "<p>1000 rows × 4 columns</p>\n",
              "</div>"
            ],
            "text/plain": [
              "     little  moderate  no_info  rich\n",
              "0         1         0        0     0\n",
              "1         0         1        0     0\n",
              "2         0         0        1     0\n",
              "3         1         0        0     0\n",
              "4         1         0        0     0\n",
              "..      ...       ...      ...   ...\n",
              "995       0         0        1     0\n",
              "996       1         0        0     0\n",
              "997       0         0        1     0\n",
              "998       1         0        0     0\n",
              "999       0         1        0     0\n",
              "\n",
              "[1000 rows x 4 columns]"
            ]
          },
          "metadata": {
            "tags": []
          },
          "execution_count": 52
        }
      ]
    },
    {
      "cell_type": "markdown",
      "metadata": {
        "id": "xyjuNqpczKYH"
      },
      "source": [
        "## Непрерывные (hist)"
      ]
    },
    {
      "cell_type": "code",
      "metadata": {
        "colab": {
          "base_uri": "https://localhost:8080/"
        },
        "id": "n8MfmUp_xcYT",
        "outputId": "de179ab9-e240-4c52-ae34-3922d3ebc2b3"
      },
      "source": [
        "df['credit_amount'].value_counts()"
      ],
      "execution_count": null,
      "outputs": [
        {
          "output_type": "execute_result",
          "data": {
            "text/plain": [
              "1258    3\n",
              "1478    3\n",
              "1275    3\n",
              "1393    3\n",
              "1262    3\n",
              "       ..\n",
              "1345    1\n",
              "1343    1\n",
              "7485    1\n",
              "3345    1\n",
              "2051    1\n",
              "Name: credit_amount, Length: 921, dtype: int64"
            ]
          },
          "metadata": {
            "tags": []
          },
          "execution_count": 53
        }
      ]
    },
    {
      "cell_type": "code",
      "metadata": {
        "colab": {
          "base_uri": "https://localhost:8080/",
          "height": 265
        },
        "id": "X4BHTKAYxqPo",
        "outputId": "f4d0642a-e351-4d8b-87cb-05d0fc26488d"
      },
      "source": [
        "h = df['credit_amount'].hist()"
      ],
      "execution_count": null,
      "outputs": [
        {
          "output_type": "display_data",
          "data": {
            "image/png": "[encoded data removed]",
            "text/plain": [
              "<Figure size 432x288 with 1 Axes>"
            ]
          },
          "metadata": {
            "tags": [],
            "needs_background": "light"
          }
        }
      ]
    },
    {
      "cell_type": "code",
      "metadata": {
        "id": "Gtw0WwkFxyTW"
      },
      "source": [
        "def get_hist(ax):\n",
        "    n,bins = [],[]\n",
        "    for rect in ax.patches:\n",
        "        ((x0, y0), (x1, y1)) = rect.get_bbox().get_points()\n",
        "        n.append(y1-y0)\n",
        "        bins.append(x0) # left edge of each bin\n",
        "    bins.append(x1) # also get right edge of last bin\n",
        "\n",
        "    return n,bins\n",
        "\n",
        "n, bins = get_hist(h)"
      ],
      "execution_count": null,
      "outputs": []
    },
    {
      "cell_type": "code",
      "metadata": {
        "colab": {
          "base_uri": "https://localhost:8080/"
        },
        "id": "RKvB6dXzyCJe",
        "outputId": "c813cf4a-3dcf-47bc-ec6b-7a3d7ffcfe7a"
      },
      "source": [
        "n"
      ],
      "execution_count": null,
      "outputs": [
        {
          "output_type": "execute_result",
          "data": {
            "text/plain": [
              "[445.0, 293.0, 97.0, 80.0, 38.0, 19.0, 14.0, 8.0, 5.0, 1.0]"
            ]
          },
          "metadata": {
            "tags": []
          },
          "execution_count": 56
        }
      ]
    },
    {
      "cell_type": "code",
      "metadata": {
        "colab": {
          "base_uri": "https://localhost:8080/"
        },
        "id": "RCgil-UFyCrA",
        "outputId": "d1c138a4-9d7d-458b-c61f-0b45c8190225"
      },
      "source": [
        "bins"
      ],
      "execution_count": null,
      "outputs": [
        {
          "output_type": "execute_result",
          "data": {
            "text/plain": [
              "[249.9999999999999,\n",
              " 2067.4,\n",
              " 3884.7999999999997,\n",
              " 5702.200000000001,\n",
              " 7519.599999999999,\n",
              " 9337.0,\n",
              " 11154.400000000003,\n",
              " 12971.800000000001,\n",
              " 14789.2,\n",
              " 16606.6,\n",
              " 18424.0]"
            ]
          },
          "metadata": {
            "tags": []
          },
          "execution_count": 57
        }
      ]
    },
    {
      "cell_type": "markdown",
      "metadata": {
        "id": "pilm6mcvVjil"
      },
      "source": [
        "## Характеристики непрерывной переменной"
      ]
    },
    {
      "cell_type": "code",
      "metadata": {
        "colab": {
          "base_uri": "https://localhost:8080/"
        },
        "id": "wrZJea3A8ecz",
        "outputId": "b3b07c2c-8162-4075-ecf8-382308331ad7"
      },
      "source": [
        "df['credit_amount']"
      ],
      "execution_count": null,
      "outputs": [
        {
          "output_type": "execute_result",
          "data": {
            "text/plain": [
              "0      1169\n",
              "1      5951\n",
              "2      2096\n",
              "3      7882\n",
              "4      4870\n",
              "       ... \n",
              "995    1736\n",
              "996    3857\n",
              "997     804\n",
              "998    1845\n",
              "999    4576\n",
              "Name: credit_amount, Length: 1000, dtype: int64"
            ]
          },
          "metadata": {
            "tags": []
          },
          "execution_count": 58
        }
      ]
    },
    {
      "cell_type": "code",
      "metadata": {
        "colab": {
          "base_uri": "https://localhost:8080/",
          "height": 282
        },
        "id": "1wo8qJyu8F66",
        "outputId": "a3a96aaa-37a9-4b10-9d7f-3c66c757b3e3"
      },
      "source": [
        "df['credit_amount'].hist()"
      ],
      "execution_count": null,
      "outputs": [
        {
          "output_type": "execute_result",
          "data": {
            "text/plain": [
              "<matplotlib.axes._subplots.AxesSubplot at 0x7f3a926ad710>"
            ]
          },
          "metadata": {
            "tags": []
          },
          "execution_count": 59
        },
        {
          "output_type": "display_data",
          "data": {
            "image/png": "[encoded data removed]",
            "text/plain": [
              "<Figure size 432x288 with 1 Axes>"
            ]
          },
          "metadata": {
            "tags": [],
            "needs_background": "light"
          }
        }
      ]
    },
    {
      "cell_type": "code",
      "metadata": {
        "colab": {
          "base_uri": "https://localhost:8080/"
        },
        "id": "E6sLOwOM8box",
        "outputId": "f24d3186-3779-4b54-e602-3ae137074db9"
      },
      "source": [
        "df['credit_amount'].mean()"
      ],
      "execution_count": null,
      "outputs": [
        {
          "output_type": "execute_result",
          "data": {
            "text/plain": [
              "3271.258"
            ]
          },
          "metadata": {
            "tags": []
          },
          "execution_count": 60
        }
      ]
    },
    {
      "cell_type": "code",
      "metadata": {
        "id": "bHDEdHyu8s7g"
      },
      "source": [
        "t = pd.DataFrame({'salary':[20,30,20,40,50,40]})"
      ],
      "execution_count": null,
      "outputs": []
    },
    {
      "cell_type": "code",
      "metadata": {
        "colab": {
          "base_uri": "https://localhost:8080/"
        },
        "id": "f7Y9ry049BvR",
        "outputId": "dd7ed920-e8b6-4d73-dfca-67a41a7e4284"
      },
      "source": [
        "t['salary'].mean()"
      ],
      "execution_count": null,
      "outputs": [
        {
          "output_type": "execute_result",
          "data": {
            "text/plain": [
              "33.333333333333336"
            ]
          },
          "metadata": {
            "tags": []
          },
          "execution_count": 62
        }
      ]
    },
    {
      "cell_type": "code",
      "metadata": {
        "id": "Nfn3pQc19EFR"
      },
      "source": [
        "t = pd.DataFrame({'salary':[20,30,20,40,50,40,10000000]})"
      ],
      "execution_count": null,
      "outputs": []
    },
    {
      "cell_type": "code",
      "metadata": {
        "colab": {
          "base_uri": "https://localhost:8080/"
        },
        "id": "P3XLY53l9L9O",
        "outputId": "d3d60b4f-4211-45ab-8e05-715587d1fe3e"
      },
      "source": [
        "t['salary'].mean()"
      ],
      "execution_count": null,
      "outputs": [
        {
          "output_type": "execute_result",
          "data": {
            "text/plain": [
              "1428600.0"
            ]
          },
          "metadata": {
            "tags": []
          },
          "execution_count": 64
        }
      ]
    },
    {
      "cell_type": "code",
      "metadata": {
        "colab": {
          "base_uri": "https://localhost:8080/"
        },
        "id": "SsEJiGnY9OF7",
        "outputId": "3a1b3800-be93-473b-8409-1b967450f42d"
      },
      "source": [
        "t['salary'].median()"
      ],
      "execution_count": null,
      "outputs": [
        {
          "output_type": "execute_result",
          "data": {
            "text/plain": [
              "40.0"
            ]
          },
          "metadata": {
            "tags": []
          },
          "execution_count": 65
        }
      ]
    },
    {
      "cell_type": "code",
      "metadata": {
        "colab": {
          "base_uri": "https://localhost:8080/"
        },
        "id": "CRMgSlLJ9WhW",
        "outputId": "d9d8e94d-e0e4-47c9-d9c4-b2b7b22e7dc3"
      },
      "source": [
        "df['credit_amount'].agg(['mean','median'])"
      ],
      "execution_count": null,
      "outputs": [
        {
          "output_type": "execute_result",
          "data": {
            "text/plain": [
              "mean      3271.258\n",
              "median    2319.500\n",
              "Name: credit_amount, dtype: float64"
            ]
          },
          "metadata": {
            "tags": []
          },
          "execution_count": 66
        }
      ]
    },
    {
      "cell_type": "code",
      "metadata": {
        "colab": {
          "base_uri": "https://localhost:8080/",
          "height": 282
        },
        "id": "uT75zzn29hEv",
        "outputId": "6c736f9e-e052-4108-a634-54273575961e"
      },
      "source": [
        "df['credit_amount'].hist()"
      ],
      "execution_count": null,
      "outputs": [
        {
          "output_type": "execute_result",
          "data": {
            "text/plain": [
              "<matplotlib.axes._subplots.AxesSubplot at 0x7f3a92668bd0>"
            ]
          },
          "metadata": {
            "tags": []
          },
          "execution_count": 67
        },
        {
          "output_type": "display_data",
          "data": {
            "image/png": "[encoded data removed]",
            "text/plain": [
              "<Figure size 432x288 with 1 Axes>"
            ]
          },
          "metadata": {
            "tags": [],
            "needs_background": "light"
          }
        }
      ]
    },
    {
      "cell_type": "code",
      "metadata": {
        "colab": {
          "base_uri": "https://localhost:8080/",
          "height": 283
        },
        "id": "jZGgyaDC94PZ",
        "outputId": "898d9a77-c406-4d70-9118-d8c672707183"
      },
      "source": [
        "df.boxplot('credit_amount')"
      ],
      "execution_count": null,
      "outputs": [
        {
          "output_type": "execute_result",
          "data": {
            "text/plain": [
              "<matplotlib.axes._subplots.AxesSubplot at 0x7f3a925e6790>"
            ]
          },
          "metadata": {
            "tags": []
          },
          "execution_count": 68
        },
        {
          "output_type": "display_data",
          "data": {
            "image/png": "[encoded data removed]",
            "text/plain": [
              "<Figure size 432x288 with 1 Axes>"
            ]
          },
          "metadata": {
            "tags": [],
            "needs_background": "light"
          }
        }
      ]
    },
    {
      "cell_type": "code",
      "metadata": {
        "colab": {
          "base_uri": "https://localhost:8080/",
          "height": 374
        },
        "id": "fQ4EV_2k-AI1",
        "outputId": "9eb707c7-fd3d-40a9-a878-98ae57c62038"
      },
      "source": [
        "df.boxplot('credit_amount',by='checking_account')"
      ],
      "execution_count": null,
      "outputs": [
        {
          "output_type": "stream",
          "text": [
            "/usr/local/lib/python3.7/dist-packages/numpy/core/_asarray.py:83: VisibleDeprecationWarning: Creating an ndarray from ragged nested sequences (which is a list-or-tuple of lists-or-tuples-or ndarrays with different lengths or shapes) is deprecated. If you meant to do this, you must specify 'dtype=object' when creating the ndarray\n",
            "  return array(a, dtype, copy=False, order=order)\n"
          ],
          "name": "stderr"
        },
        {
          "output_type": "execute_result",
          "data": {
            "text/plain": [
              "<matplotlib.axes._subplots.AxesSubplot at 0x7f3a9255da10>"
            ]
          },
          "metadata": {
            "tags": []
          },
          "execution_count": 69
        },
        {
          "output_type": "display_data",
          "data": {
            "image/png": "[encoded data removed]",
            "text/plain": [
              "<Figure size 432x288 with 1 Axes>"
            ]
          },
          "metadata": {
            "tags": [],
            "needs_background": "light"
          }
        }
      ]
    },
    {
      "cell_type": "code",
      "metadata": {
        "colab": {
          "base_uri": "https://localhost:8080/"
        },
        "id": "bWHDK-Ax-bSs",
        "outputId": "98a88f56-9efa-4eb4-a572-132977f1a336"
      },
      "source": [
        "df['credit_amount'].describe()"
      ],
      "execution_count": null,
      "outputs": [
        {
          "output_type": "execute_result",
          "data": {
            "text/plain": [
              "count     1000.000000\n",
              "mean      3271.258000\n",
              "std       2822.736876\n",
              "min        250.000000\n",
              "25%       1365.500000\n",
              "50%       2319.500000\n",
              "75%       3972.250000\n",
              "max      18424.000000\n",
              "Name: credit_amount, dtype: float64"
            ]
          },
          "metadata": {
            "tags": []
          },
          "execution_count": 70
        }
      ]
    },
    {
      "cell_type": "markdown",
      "metadata": {
        "id": "_-p7XGgUeN5j"
      },
      "source": [
        "# Скаттер"
      ]
    },
    {
      "cell_type": "markdown",
      "metadata": {
        "id": "GoEfmW17eTfz"
      },
      "source": [
        "## Скаттер плот"
      ]
    },
    {
      "cell_type": "code",
      "metadata": {
        "colab": {
          "base_uri": "https://localhost:8080/",
          "height": 215
        },
        "id": "VMiSQDvv-5MV",
        "outputId": "e5518d5b-257f-49a1-c155-3b16f9d321e1"
      },
      "source": [
        "df.head()"
      ],
      "execution_count": null,
      "outputs": [
        {
          "output_type": "execute_result",
          "data": {
            "text/html": [
              "<div>\n",
              "<style scoped>\n",
              "    .dataframe tbody tr th:only-of-type {\n",
              "        vertical-align: middle;\n",
              "    }\n",
              "\n",
              "    .dataframe tbody tr th {\n",
              "        vertical-align: top;\n",
              "    }\n",
              "\n",
              "    .dataframe thead th {\n",
              "        text-align: right;\n",
              "    }\n",
              "</style>\n",
              "<table border=\"1\" class=\"dataframe\">\n",
              "  <thead>\n",
              "    <tr style=\"text-align: right;\">\n",
              "      <th></th>\n",
              "      <th>age</th>\n",
              "      <th>sex</th>\n",
              "      <th>job</th>\n",
              "      <th>housing</th>\n",
              "      <th>saving_accounts</th>\n",
              "      <th>checking_account</th>\n",
              "      <th>credit_amount</th>\n",
              "      <th>duration</th>\n",
              "      <th>purpose</th>\n",
              "      <th>default</th>\n",
              "      <th>credit_amount_group</th>\n",
              "      <th>credit_amount_group2</th>\n",
              "      <th>credit_amount_group3</th>\n",
              "      <th>credit_amount_group4</th>\n",
              "      <th>credit_amount_group5</th>\n",
              "    </tr>\n",
              "  </thead>\n",
              "  <tbody>\n",
              "    <tr>\n",
              "      <th>0</th>\n",
              "      <td>67</td>\n",
              "      <td>male</td>\n",
              "      <td>2</td>\n",
              "      <td>own</td>\n",
              "      <td>NaN</td>\n",
              "      <td>little</td>\n",
              "      <td>1169</td>\n",
              "      <td>6</td>\n",
              "      <td>radio/TV</td>\n",
              "      <td>0</td>\n",
              "      <td>(231.826, 3884.8]</td>\n",
              "      <td>(249.999, 1262.0]</td>\n",
              "      <td>(1000.0, 2000.0]</td>\n",
              "      <td>1k+</td>\n",
              "      <td>(249.999, 1262.0]</td>\n",
              "    </tr>\n",
              "    <tr>\n",
              "      <th>1</th>\n",
              "      <td>22</td>\n",
              "      <td>female</td>\n",
              "      <td>2</td>\n",
              "      <td>own</td>\n",
              "      <td>little</td>\n",
              "      <td>moderate</td>\n",
              "      <td>5951</td>\n",
              "      <td>48</td>\n",
              "      <td>radio/TV</td>\n",
              "      <td>1</td>\n",
              "      <td>(3884.8, 7519.6]</td>\n",
              "      <td>(4720.0, 18424.0]</td>\n",
              "      <td>(5000.0, inf]</td>\n",
              "      <td>1k+</td>\n",
              "      <td>(4720.0, 18424.0]</td>\n",
              "    </tr>\n",
              "    <tr>\n",
              "      <th>2</th>\n",
              "      <td>49</td>\n",
              "      <td>male</td>\n",
              "      <td>1</td>\n",
              "      <td>own</td>\n",
              "      <td>little</td>\n",
              "      <td>no_info</td>\n",
              "      <td>2096</td>\n",
              "      <td>12</td>\n",
              "      <td>education</td>\n",
              "      <td>0</td>\n",
              "      <td>(231.826, 3884.8]</td>\n",
              "      <td>(1906.8, 2852.4]</td>\n",
              "      <td>(2000.0, 3000.0]</td>\n",
              "      <td>1k+</td>\n",
              "      <td>(1906.8, 2852.4]</td>\n",
              "    </tr>\n",
              "    <tr>\n",
              "      <th>3</th>\n",
              "      <td>45</td>\n",
              "      <td>male</td>\n",
              "      <td>2</td>\n",
              "      <td>free</td>\n",
              "      <td>little</td>\n",
              "      <td>little</td>\n",
              "      <td>7882</td>\n",
              "      <td>42</td>\n",
              "      <td>furniture/equipment</td>\n",
              "      <td>0</td>\n",
              "      <td>(7519.6, 11154.4]</td>\n",
              "      <td>(4720.0, 18424.0]</td>\n",
              "      <td>(5000.0, inf]</td>\n",
              "      <td>1k+</td>\n",
              "      <td>(4720.0, 18424.0]</td>\n",
              "    </tr>\n",
              "    <tr>\n",
              "      <th>4</th>\n",
              "      <td>53</td>\n",
              "      <td>male</td>\n",
              "      <td>2</td>\n",
              "      <td>free</td>\n",
              "      <td>little</td>\n",
              "      <td>little</td>\n",
              "      <td>4870</td>\n",
              "      <td>24</td>\n",
              "      <td>car</td>\n",
              "      <td>1</td>\n",
              "      <td>(3884.8, 7519.6]</td>\n",
              "      <td>(4720.0, 18424.0]</td>\n",
              "      <td>(3000.0, 5000.0]</td>\n",
              "      <td>1k+</td>\n",
              "      <td>(4720.0, 18424.0]</td>\n",
              "    </tr>\n",
              "  </tbody>\n",
              "</table>\n",
              "</div>"
            ],
            "text/plain": [
              "   age     sex  ...  credit_amount_group4 credit_amount_group5\n",
              "0   67    male  ...                   1k+    (249.999, 1262.0]\n",
              "1   22  female  ...                   1k+    (4720.0, 18424.0]\n",
              "2   49    male  ...                   1k+     (1906.8, 2852.4]\n",
              "3   45    male  ...                   1k+    (4720.0, 18424.0]\n",
              "4   53    male  ...                   1k+    (4720.0, 18424.0]\n",
              "\n",
              "[5 rows x 15 columns]"
            ]
          },
          "metadata": {
            "tags": []
          },
          "execution_count": 71
        }
      ]
    },
    {
      "cell_type": "code",
      "metadata": {
        "colab": {
          "base_uri": "https://localhost:8080/",
          "height": 351
        },
        "id": "8YUPeyncXRbV",
        "outputId": "1d79954b-e910-4dbb-bf0a-22584d4101bb"
      },
      "source": [
        "df.plot(x='age',y='credit_amount',kind='scatter',figsize=(10,5),alpha=0.3)"
      ],
      "execution_count": null,
      "outputs": [
        {
          "output_type": "execute_result",
          "data": {
            "text/plain": [
              "<matplotlib.axes._subplots.AxesSubplot at 0x7f3a9242eed0>"
            ]
          },
          "metadata": {
            "tags": []
          },
          "execution_count": 72
        },
        {
          "output_type": "display_data",
          "data": {
            "image/png": "[encoded data removed]",
            "text/plain": [
              "<Figure size 720x360 with 1 Axes>"
            ]
          },
          "metadata": {
            "tags": [],
            "needs_background": "light"
          }
        }
      ]
    },
    {
      "cell_type": "code",
      "metadata": {
        "id": "UVm0M_khYsus"
      },
      "source": [
        "df['age_group'] = pd.qcut(df['age'],5)"
      ],
      "execution_count": null,
      "outputs": []
    },
    {
      "cell_type": "code",
      "metadata": {
        "colab": {
          "base_uri": "https://localhost:8080/",
          "height": 225
        },
        "id": "_YBydnzNZOoU",
        "outputId": "afb1640f-94e6-4fb4-bad9-f43ec127816e"
      },
      "source": [
        "df.groupby('age_group')['credit_amount'].agg(['count','mean','median'])"
      ],
      "execution_count": null,
      "outputs": [
        {
          "output_type": "execute_result",
          "data": {
            "text/html": [
              "<div>\n",
              "<style scoped>\n",
              "    .dataframe tbody tr th:only-of-type {\n",
              "        vertical-align: middle;\n",
              "    }\n",
              "\n",
              "    .dataframe tbody tr th {\n",
              "        vertical-align: top;\n",
              "    }\n",
              "\n",
              "    .dataframe thead th {\n",
              "        text-align: right;\n",
              "    }\n",
              "</style>\n",
              "<table border=\"1\" class=\"dataframe\">\n",
              "  <thead>\n",
              "    <tr style=\"text-align: right;\">\n",
              "      <th></th>\n",
              "      <th>count</th>\n",
              "      <th>mean</th>\n",
              "      <th>median</th>\n",
              "    </tr>\n",
              "    <tr>\n",
              "      <th>age_group</th>\n",
              "      <th></th>\n",
              "      <th></th>\n",
              "      <th></th>\n",
              "    </tr>\n",
              "  </thead>\n",
              "  <tbody>\n",
              "    <tr>\n",
              "      <th>(18.999, 26.0]</th>\n",
              "      <td>240</td>\n",
              "      <td>2987.645833</td>\n",
              "      <td>2112.5</td>\n",
              "    </tr>\n",
              "    <tr>\n",
              "      <th>(26.0, 30.0]</th>\n",
              "      <td>171</td>\n",
              "      <td>3436.578947</td>\n",
              "      <td>2463.0</td>\n",
              "    </tr>\n",
              "    <tr>\n",
              "      <th>(30.0, 36.0]</th>\n",
              "      <td>216</td>\n",
              "      <td>3240.439815</td>\n",
              "      <td>2427.0</td>\n",
              "    </tr>\n",
              "    <tr>\n",
              "      <th>(36.0, 45.0]</th>\n",
              "      <td>187</td>\n",
              "      <td>3618.401070</td>\n",
              "      <td>2522.0</td>\n",
              "    </tr>\n",
              "    <tr>\n",
              "      <th>(45.0, 75.0]</th>\n",
              "      <td>186</td>\n",
              "      <td>3172.000000</td>\n",
              "      <td>2064.0</td>\n",
              "    </tr>\n",
              "  </tbody>\n",
              "</table>\n",
              "</div>"
            ],
            "text/plain": [
              "                count         mean  median\n",
              "age_group                                 \n",
              "(18.999, 26.0]    240  2987.645833  2112.5\n",
              "(26.0, 30.0]      171  3436.578947  2463.0\n",
              "(30.0, 36.0]      216  3240.439815  2427.0\n",
              "(36.0, 45.0]      187  3618.401070  2522.0\n",
              "(45.0, 75.0]      186  3172.000000  2064.0"
            ]
          },
          "metadata": {
            "tags": []
          },
          "execution_count": 74
        }
      ]
    },
    {
      "cell_type": "code",
      "metadata": {
        "colab": {
          "base_uri": "https://localhost:8080/",
          "height": 297
        },
        "id": "t8LhK76QZVfO",
        "outputId": "5584be7a-a245-45fd-c785-5a32e4d8500b"
      },
      "source": [
        "df.groupby('age_group')['credit_amount'].median().plot(ylim=0,grid=True)"
      ],
      "execution_count": null,
      "outputs": [
        {
          "output_type": "execute_result",
          "data": {
            "text/plain": [
              "<matplotlib.axes._subplots.AxesSubplot at 0x7f3a923c3750>"
            ]
          },
          "metadata": {
            "tags": []
          },
          "execution_count": 75
        },
        {
          "output_type": "display_data",
          "data": {
            "image/png": "[encoded data removed]",
            "text/plain": [
              "<Figure size 432x288 with 1 Axes>"
            ]
          },
          "metadata": {
            "tags": [],
            "needs_background": "light"
          }
        }
      ]
    },
    {
      "cell_type": "markdown",
      "metadata": {
        "id": "Jo_1tYOBdILS"
      },
      "source": [
        "## Корреляция"
      ]
    },
    {
      "cell_type": "code",
      "metadata": {
        "colab": {
          "base_uri": "https://localhost:8080/",
          "height": 232
        },
        "id": "1i7PakYtZhuM",
        "outputId": "f0dd34ea-a7a1-4f31-f4da-c2f0a7dead0f"
      },
      "source": [
        "df.head()"
      ],
      "execution_count": null,
      "outputs": [
        {
          "output_type": "execute_result",
          "data": {
            "text/html": [
              "<div>\n",
              "<style scoped>\n",
              "    .dataframe tbody tr th:only-of-type {\n",
              "        vertical-align: middle;\n",
              "    }\n",
              "\n",
              "    .dataframe tbody tr th {\n",
              "        vertical-align: top;\n",
              "    }\n",
              "\n",
              "    .dataframe thead th {\n",
              "        text-align: right;\n",
              "    }\n",
              "</style>\n",
              "<table border=\"1\" class=\"dataframe\">\n",
              "  <thead>\n",
              "    <tr style=\"text-align: right;\">\n",
              "      <th></th>\n",
              "      <th>age</th>\n",
              "      <th>sex</th>\n",
              "      <th>job</th>\n",
              "      <th>housing</th>\n",
              "      <th>saving_accounts</th>\n",
              "      <th>checking_account</th>\n",
              "      <th>credit_amount</th>\n",
              "      <th>duration</th>\n",
              "      <th>purpose</th>\n",
              "      <th>default</th>\n",
              "      <th>credit_amount_group</th>\n",
              "      <th>credit_amount_group2</th>\n",
              "      <th>credit_amount_group3</th>\n",
              "      <th>credit_amount_group4</th>\n",
              "      <th>credit_amount_group5</th>\n",
              "      <th>age_group</th>\n",
              "    </tr>\n",
              "  </thead>\n",
              "  <tbody>\n",
              "    <tr>\n",
              "      <th>0</th>\n",
              "      <td>67</td>\n",
              "      <td>male</td>\n",
              "      <td>2</td>\n",
              "      <td>own</td>\n",
              "      <td>NaN</td>\n",
              "      <td>little</td>\n",
              "      <td>1169</td>\n",
              "      <td>6</td>\n",
              "      <td>radio/TV</td>\n",
              "      <td>0</td>\n",
              "      <td>(231.826, 3884.8]</td>\n",
              "      <td>(249.999, 1262.0]</td>\n",
              "      <td>(1000.0, 2000.0]</td>\n",
              "      <td>1k+</td>\n",
              "      <td>(249.999, 1262.0]</td>\n",
              "      <td>(45.0, 75.0]</td>\n",
              "    </tr>\n",
              "    <tr>\n",
              "      <th>1</th>\n",
              "      <td>22</td>\n",
              "      <td>female</td>\n",
              "      <td>2</td>\n",
              "      <td>own</td>\n",
              "      <td>little</td>\n",
              "      <td>moderate</td>\n",
              "      <td>5951</td>\n",
              "      <td>48</td>\n",
              "      <td>radio/TV</td>\n",
              "      <td>1</td>\n",
              "      <td>(3884.8, 7519.6]</td>\n",
              "      <td>(4720.0, 18424.0]</td>\n",
              "      <td>(5000.0, inf]</td>\n",
              "      <td>1k+</td>\n",
              "      <td>(4720.0, 18424.0]</td>\n",
              "      <td>(18.999, 26.0]</td>\n",
              "    </tr>\n",
              "    <tr>\n",
              "      <th>2</th>\n",
              "      <td>49</td>\n",
              "      <td>male</td>\n",
              "      <td>1</td>\n",
              "      <td>own</td>\n",
              "      <td>little</td>\n",
              "      <td>no_info</td>\n",
              "      <td>2096</td>\n",
              "      <td>12</td>\n",
              "      <td>education</td>\n",
              "      <td>0</td>\n",
              "      <td>(231.826, 3884.8]</td>\n",
              "      <td>(1906.8, 2852.4]</td>\n",
              "      <td>(2000.0, 3000.0]</td>\n",
              "      <td>1k+</td>\n",
              "      <td>(1906.8, 2852.4]</td>\n",
              "      <td>(45.0, 75.0]</td>\n",
              "    </tr>\n",
              "    <tr>\n",
              "      <th>3</th>\n",
              "      <td>45</td>\n",
              "      <td>male</td>\n",
              "      <td>2</td>\n",
              "      <td>free</td>\n",
              "      <td>little</td>\n",
              "      <td>little</td>\n",
              "      <td>7882</td>\n",
              "      <td>42</td>\n",
              "      <td>furniture/equipment</td>\n",
              "      <td>0</td>\n",
              "      <td>(7519.6, 11154.4]</td>\n",
              "      <td>(4720.0, 18424.0]</td>\n",
              "      <td>(5000.0, inf]</td>\n",
              "      <td>1k+</td>\n",
              "      <td>(4720.0, 18424.0]</td>\n",
              "      <td>(36.0, 45.0]</td>\n",
              "    </tr>\n",
              "    <tr>\n",
              "      <th>4</th>\n",
              "      <td>53</td>\n",
              "      <td>male</td>\n",
              "      <td>2</td>\n",
              "      <td>free</td>\n",
              "      <td>little</td>\n",
              "      <td>little</td>\n",
              "      <td>4870</td>\n",
              "      <td>24</td>\n",
              "      <td>car</td>\n",
              "      <td>1</td>\n",
              "      <td>(3884.8, 7519.6]</td>\n",
              "      <td>(4720.0, 18424.0]</td>\n",
              "      <td>(3000.0, 5000.0]</td>\n",
              "      <td>1k+</td>\n",
              "      <td>(4720.0, 18424.0]</td>\n",
              "      <td>(45.0, 75.0]</td>\n",
              "    </tr>\n",
              "  </tbody>\n",
              "</table>\n",
              "</div>"
            ],
            "text/plain": [
              "   age     sex  job  ... credit_amount_group4 credit_amount_group5       age_group\n",
              "0   67    male    2  ...                  1k+    (249.999, 1262.0]    (45.0, 75.0]\n",
              "1   22  female    2  ...                  1k+    (4720.0, 18424.0]  (18.999, 26.0]\n",
              "2   49    male    1  ...                  1k+     (1906.8, 2852.4]    (45.0, 75.0]\n",
              "3   45    male    2  ...                  1k+    (4720.0, 18424.0]    (36.0, 45.0]\n",
              "4   53    male    2  ...                  1k+    (4720.0, 18424.0]    (45.0, 75.0]\n",
              "\n",
              "[5 rows x 16 columns]"
            ]
          },
          "metadata": {
            "tags": []
          },
          "execution_count": 76
        }
      ]
    },
    {
      "cell_type": "code",
      "metadata": {
        "colab": {
          "base_uri": "https://localhost:8080/",
          "height": 106
        },
        "id": "zZdmvl21aCLJ",
        "outputId": "b3667b70-5150-4800-b767-39c91bb9ae05"
      },
      "source": [
        "df[['age','credit_amount']].corr()"
      ],
      "execution_count": null,
      "outputs": [
        {
          "output_type": "execute_result",
          "data": {
            "text/html": [
              "<div>\n",
              "<style scoped>\n",
              "    .dataframe tbody tr th:only-of-type {\n",
              "        vertical-align: middle;\n",
              "    }\n",
              "\n",
              "    .dataframe tbody tr th {\n",
              "        vertical-align: top;\n",
              "    }\n",
              "\n",
              "    .dataframe thead th {\n",
              "        text-align: right;\n",
              "    }\n",
              "</style>\n",
              "<table border=\"1\" class=\"dataframe\">\n",
              "  <thead>\n",
              "    <tr style=\"text-align: right;\">\n",
              "      <th></th>\n",
              "      <th>age</th>\n",
              "      <th>credit_amount</th>\n",
              "    </tr>\n",
              "  </thead>\n",
              "  <tbody>\n",
              "    <tr>\n",
              "      <th>age</th>\n",
              "      <td>1.000000</td>\n",
              "      <td>0.032716</td>\n",
              "    </tr>\n",
              "    <tr>\n",
              "      <th>credit_amount</th>\n",
              "      <td>0.032716</td>\n",
              "      <td>1.000000</td>\n",
              "    </tr>\n",
              "  </tbody>\n",
              "</table>\n",
              "</div>"
            ],
            "text/plain": [
              "                    age  credit_amount\n",
              "age            1.000000       0.032716\n",
              "credit_amount  0.032716       1.000000"
            ]
          },
          "metadata": {
            "tags": []
          },
          "execution_count": 77
        }
      ]
    },
    {
      "cell_type": "code",
      "metadata": {
        "id": "tVXkuiGJaZmx"
      },
      "source": [
        "t = pd.DataFrame({'x':range(10)})"
      ],
      "execution_count": null,
      "outputs": []
    },
    {
      "cell_type": "code",
      "metadata": {
        "id": "R5he2vs6apBX"
      },
      "source": [
        "t['y'] = t['x'] + 7"
      ],
      "execution_count": null,
      "outputs": []
    },
    {
      "cell_type": "code",
      "metadata": {
        "colab": {
          "base_uri": "https://localhost:8080/",
          "height": 296
        },
        "id": "Yob-bxs5apa-",
        "outputId": "4b00a96e-0e28-4fe4-e5a5-117467e4fb8f"
      },
      "source": [
        "t.plot(x='x',y='y',kind='scatter')"
      ],
      "execution_count": null,
      "outputs": [
        {
          "output_type": "execute_result",
          "data": {
            "text/plain": [
              "<matplotlib.axes._subplots.AxesSubplot at 0x7f3a9233ba90>"
            ]
          },
          "metadata": {
            "tags": []
          },
          "execution_count": 80
        },
        {
          "output_type": "display_data",
          "data": {
            "image/png": "[encoded data removed]",
            "text/plain": [
              "<Figure size 432x288 with 1 Axes>"
            ]
          },
          "metadata": {
            "tags": [],
            "needs_background": "light"
          }
        }
      ]
    },
    {
      "cell_type": "code",
      "metadata": {
        "colab": {
          "base_uri": "https://localhost:8080/",
          "height": 106
        },
        "id": "p5cjCvAmax2u",
        "outputId": "f5cea98f-d42d-4dc6-c254-6ff3db15c6c5"
      },
      "source": [
        "t.corr()"
      ],
      "execution_count": null,
      "outputs": [
        {
          "output_type": "execute_result",
          "data": {
            "text/html": [
              "<div>\n",
              "<style scoped>\n",
              "    .dataframe tbody tr th:only-of-type {\n",
              "        vertical-align: middle;\n",
              "    }\n",
              "\n",
              "    .dataframe tbody tr th {\n",
              "        vertical-align: top;\n",
              "    }\n",
              "\n",
              "    .dataframe thead th {\n",
              "        text-align: right;\n",
              "    }\n",
              "</style>\n",
              "<table border=\"1\" class=\"dataframe\">\n",
              "  <thead>\n",
              "    <tr style=\"text-align: right;\">\n",
              "      <th></th>\n",
              "      <th>x</th>\n",
              "      <th>y</th>\n",
              "    </tr>\n",
              "  </thead>\n",
              "  <tbody>\n",
              "    <tr>\n",
              "      <th>x</th>\n",
              "      <td>1.0</td>\n",
              "      <td>1.0</td>\n",
              "    </tr>\n",
              "    <tr>\n",
              "      <th>y</th>\n",
              "      <td>1.0</td>\n",
              "      <td>1.0</td>\n",
              "    </tr>\n",
              "  </tbody>\n",
              "</table>\n",
              "</div>"
            ],
            "text/plain": [
              "     x    y\n",
              "x  1.0  1.0\n",
              "y  1.0  1.0"
            ]
          },
          "metadata": {
            "tags": []
          },
          "execution_count": 81
        }
      ]
    },
    {
      "cell_type": "code",
      "metadata": {
        "id": "BZaPPud_a0ns"
      },
      "source": [
        "t['y'] = -t['x'] - 7"
      ],
      "execution_count": null,
      "outputs": []
    },
    {
      "cell_type": "code",
      "metadata": {
        "colab": {
          "base_uri": "https://localhost:8080/",
          "height": 296
        },
        "id": "KK2OBZw8a_Nh",
        "outputId": "87b4a161-62b7-436e-d77f-75e7341b0314"
      },
      "source": [
        "t.plot(x='x',y='y',kind='scatter')"
      ],
      "execution_count": null,
      "outputs": [
        {
          "output_type": "execute_result",
          "data": {
            "text/plain": [
              "<matplotlib.axes._subplots.AxesSubplot at 0x7f3a922ff6d0>"
            ]
          },
          "metadata": {
            "tags": []
          },
          "execution_count": 83
        },
        {
          "output_type": "display_data",
          "data": {
            "image/png": "[encoded data removed]",
            "text/plain": [
              "<Figure size 432x288 with 1 Axes>"
            ]
          },
          "metadata": {
            "tags": [],
            "needs_background": "light"
          }
        }
      ]
    },
    {
      "cell_type": "code",
      "metadata": {
        "colab": {
          "base_uri": "https://localhost:8080/",
          "height": 106
        },
        "id": "2SMN6lk4bAv4",
        "outputId": "0c753039-2ee1-447a-9128-77305ee8d542"
      },
      "source": [
        "t.corr()"
      ],
      "execution_count": null,
      "outputs": [
        {
          "output_type": "execute_result",
          "data": {
            "text/html": [
              "<div>\n",
              "<style scoped>\n",
              "    .dataframe tbody tr th:only-of-type {\n",
              "        vertical-align: middle;\n",
              "    }\n",
              "\n",
              "    .dataframe tbody tr th {\n",
              "        vertical-align: top;\n",
              "    }\n",
              "\n",
              "    .dataframe thead th {\n",
              "        text-align: right;\n",
              "    }\n",
              "</style>\n",
              "<table border=\"1\" class=\"dataframe\">\n",
              "  <thead>\n",
              "    <tr style=\"text-align: right;\">\n",
              "      <th></th>\n",
              "      <th>x</th>\n",
              "      <th>y</th>\n",
              "    </tr>\n",
              "  </thead>\n",
              "  <tbody>\n",
              "    <tr>\n",
              "      <th>x</th>\n",
              "      <td>1.0</td>\n",
              "      <td>-1.0</td>\n",
              "    </tr>\n",
              "    <tr>\n",
              "      <th>y</th>\n",
              "      <td>-1.0</td>\n",
              "      <td>1.0</td>\n",
              "    </tr>\n",
              "  </tbody>\n",
              "</table>\n",
              "</div>"
            ],
            "text/plain": [
              "     x    y\n",
              "x  1.0 -1.0\n",
              "y -1.0  1.0"
            ]
          },
          "metadata": {
            "tags": []
          },
          "execution_count": 84
        }
      ]
    },
    {
      "cell_type": "code",
      "metadata": {
        "id": "f6eYmU6QbCkS"
      },
      "source": [
        "t = pd.DataFrame({'x':np.linspace(-10,10,100)})"
      ],
      "execution_count": null,
      "outputs": []
    },
    {
      "cell_type": "code",
      "metadata": {
        "id": "U9ywNc9UbJrD"
      },
      "source": [
        "t['y'] = t['x'] ** 2"
      ],
      "execution_count": null,
      "outputs": []
    },
    {
      "cell_type": "code",
      "metadata": {
        "colab": {
          "base_uri": "https://localhost:8080/",
          "height": 296
        },
        "id": "FAiXXNaFbMgK",
        "outputId": "fe35048e-ad45-44de-ba84-25a824aa9467"
      },
      "source": [
        "t.plot(x='x',y='y',kind='scatter')"
      ],
      "execution_count": null,
      "outputs": [
        {
          "output_type": "execute_result",
          "data": {
            "text/plain": [
              "<matplotlib.axes._subplots.AxesSubplot at 0x7f3a92414590>"
            ]
          },
          "metadata": {
            "tags": []
          },
          "execution_count": 87
        },
        {
          "output_type": "display_data",
          "data": {
            "image/png": "[encoded data removed]",
            "text/plain": [
              "<Figure size 432x288 with 1 Axes>"
            ]
          },
          "metadata": {
            "tags": [],
            "needs_background": "light"
          }
        }
      ]
    },
    {
      "cell_type": "code",
      "metadata": {
        "colab": {
          "base_uri": "https://localhost:8080/",
          "height": 106
        },
        "id": "jy-psaFhbRgO",
        "outputId": "35f4f10d-1942-41c6-b8d6-d4b5eff82870"
      },
      "source": [
        "t.corr()"
      ],
      "execution_count": null,
      "outputs": [
        {
          "output_type": "execute_result",
          "data": {
            "text/html": [
              "<div>\n",
              "<style scoped>\n",
              "    .dataframe tbody tr th:only-of-type {\n",
              "        vertical-align: middle;\n",
              "    }\n",
              "\n",
              "    .dataframe tbody tr th {\n",
              "        vertical-align: top;\n",
              "    }\n",
              "\n",
              "    .dataframe thead th {\n",
              "        text-align: right;\n",
              "    }\n",
              "</style>\n",
              "<table border=\"1\" class=\"dataframe\">\n",
              "  <thead>\n",
              "    <tr style=\"text-align: right;\">\n",
              "      <th></th>\n",
              "      <th>x</th>\n",
              "      <th>y</th>\n",
              "    </tr>\n",
              "  </thead>\n",
              "  <tbody>\n",
              "    <tr>\n",
              "      <th>x</th>\n",
              "      <td>1.000000e+00</td>\n",
              "      <td>3.205184e-17</td>\n",
              "    </tr>\n",
              "    <tr>\n",
              "      <th>y</th>\n",
              "      <td>3.205184e-17</td>\n",
              "      <td>1.000000e+00</td>\n",
              "    </tr>\n",
              "  </tbody>\n",
              "</table>\n",
              "</div>"
            ],
            "text/plain": [
              "              x             y\n",
              "x  1.000000e+00  3.205184e-17\n",
              "y  3.205184e-17  1.000000e+00"
            ]
          },
          "metadata": {
            "tags": []
          },
          "execution_count": 88
        }
      ]
    },
    {
      "cell_type": "markdown",
      "metadata": {
        "id": "Flz6QcmKbW6X"
      },
      "source": [
        "# Пример анализа"
      ]
    },
    {
      "cell_type": "markdown",
      "metadata": {
        "id": "mWtbTdQots5J"
      },
      "source": [
        "## Предобработка"
      ]
    },
    {
      "cell_type": "markdown",
      "metadata": {
        "id": "tlmC4WRNt7uR"
      },
      "source": [
        "Age (numeric)  \n",
        "Sex (text: male, female)  \n",
        "Job (numeric: 0 - unskilled and non-resident, 1 - unskilled and resident, 2 - skilled, 3 - highly skilled)  \n",
        "Housing (text: own, rent, or free)  \n",
        "Saving accounts (text - little, moderate, quite rich, rich)  \n",
        "Checking account (numeric, in DM - Deutsch Mark)  \n",
        "Credit amount (numeric, in DM)  \n",
        "Duration (numeric, in month)  \n",
        "Purpose (text: car, furniture/equipment, radio/TV, domestic appliances, repairs, education, business, vacation/others)  \n",
        "default (1 - bad, 0 - good)\n"
      ]
    },
    {
      "cell_type": "markdown",
      "metadata": {
        "id": "9FStnqPpuNIZ"
      },
      "source": [
        "Задание: проанализировать от чего зависит default"
      ]
    },
    {
      "cell_type": "code",
      "metadata": {
        "id": "6FoB8pfjrtMN"
      },
      "source": [
        "df = pd.read_csv('/content/german-credit.csv')"
      ],
      "execution_count": null,
      "outputs": []
    },
    {
      "cell_type": "code",
      "metadata": {
        "colab": {
          "base_uri": "https://localhost:8080/",
          "height": 212
        },
        "id": "MsiKW51VsuNu",
        "outputId": "6dbd2677-e098-42e1-b195-b2eebe153e20"
      },
      "source": [
        "df.head()"
      ],
      "execution_count": null,
      "outputs": [
        {
          "output_type": "execute_result",
          "data": {
            "text/html": [
              "<div>\n",
              "<style scoped>\n",
              "    .dataframe tbody tr th:only-of-type {\n",
              "        vertical-align: middle;\n",
              "    }\n",
              "\n",
              "    .dataframe tbody tr th {\n",
              "        vertical-align: top;\n",
              "    }\n",
              "\n",
              "    .dataframe thead th {\n",
              "        text-align: right;\n",
              "    }\n",
              "</style>\n",
              "<table border=\"1\" class=\"dataframe\">\n",
              "  <thead>\n",
              "    <tr style=\"text-align: right;\">\n",
              "      <th></th>\n",
              "      <th>Unnamed: 0</th>\n",
              "      <th>Age</th>\n",
              "      <th>Sex</th>\n",
              "      <th>Job</th>\n",
              "      <th>Housing</th>\n",
              "      <th>Saving accounts</th>\n",
              "      <th>Checking account</th>\n",
              "      <th>Credit amount</th>\n",
              "      <th>Duration</th>\n",
              "      <th>Purpose</th>\n",
              "      <th>default</th>\n",
              "    </tr>\n",
              "  </thead>\n",
              "  <tbody>\n",
              "    <tr>\n",
              "      <th>0</th>\n",
              "      <td>0</td>\n",
              "      <td>67</td>\n",
              "      <td>male</td>\n",
              "      <td>2</td>\n",
              "      <td>own</td>\n",
              "      <td>NaN</td>\n",
              "      <td>little</td>\n",
              "      <td>1169</td>\n",
              "      <td>6</td>\n",
              "      <td>radio/TV</td>\n",
              "      <td>0</td>\n",
              "    </tr>\n",
              "    <tr>\n",
              "      <th>1</th>\n",
              "      <td>1</td>\n",
              "      <td>22</td>\n",
              "      <td>female</td>\n",
              "      <td>2</td>\n",
              "      <td>own</td>\n",
              "      <td>little</td>\n",
              "      <td>moderate</td>\n",
              "      <td>5951</td>\n",
              "      <td>48</td>\n",
              "      <td>radio/TV</td>\n",
              "      <td>1</td>\n",
              "    </tr>\n",
              "    <tr>\n",
              "      <th>2</th>\n",
              "      <td>2</td>\n",
              "      <td>49</td>\n",
              "      <td>male</td>\n",
              "      <td>1</td>\n",
              "      <td>own</td>\n",
              "      <td>little</td>\n",
              "      <td>NaN</td>\n",
              "      <td>2096</td>\n",
              "      <td>12</td>\n",
              "      <td>education</td>\n",
              "      <td>0</td>\n",
              "    </tr>\n",
              "    <tr>\n",
              "      <th>3</th>\n",
              "      <td>3</td>\n",
              "      <td>45</td>\n",
              "      <td>male</td>\n",
              "      <td>2</td>\n",
              "      <td>free</td>\n",
              "      <td>little</td>\n",
              "      <td>little</td>\n",
              "      <td>7882</td>\n",
              "      <td>42</td>\n",
              "      <td>furniture/equipment</td>\n",
              "      <td>0</td>\n",
              "    </tr>\n",
              "    <tr>\n",
              "      <th>4</th>\n",
              "      <td>4</td>\n",
              "      <td>53</td>\n",
              "      <td>male</td>\n",
              "      <td>2</td>\n",
              "      <td>free</td>\n",
              "      <td>little</td>\n",
              "      <td>little</td>\n",
              "      <td>4870</td>\n",
              "      <td>24</td>\n",
              "      <td>car</td>\n",
              "      <td>1</td>\n",
              "    </tr>\n",
              "  </tbody>\n",
              "</table>\n",
              "</div>"
            ],
            "text/plain": [
              "   Unnamed: 0  Age     Sex  ...  Duration              Purpose default\n",
              "0           0   67    male  ...         6             radio/TV       0\n",
              "1           1   22  female  ...        48             radio/TV       1\n",
              "2           2   49    male  ...        12            education       0\n",
              "3           3   45    male  ...        42  furniture/equipment       0\n",
              "4           4   53    male  ...        24                  car       1\n",
              "\n",
              "[5 rows x 11 columns]"
            ]
          },
          "metadata": {
            "tags": []
          },
          "execution_count": 90
        }
      ]
    },
    {
      "cell_type": "code",
      "metadata": {
        "id": "MDXET6hzs95B"
      },
      "source": [
        "df.drop('Unnamed: 0',axis=1,inplace=True)"
      ],
      "execution_count": null,
      "outputs": []
    },
    {
      "cell_type": "code",
      "metadata": {
        "id": "wEfYygzktC1R"
      },
      "source": [
        "df.columns = df.columns.str.lower().str.replace(' ','_')"
      ],
      "execution_count": null,
      "outputs": []
    },
    {
      "cell_type": "code",
      "metadata": {
        "colab": {
          "base_uri": "https://localhost:8080/"
        },
        "id": "spLfziSQtDhb",
        "outputId": "b9e7260b-3c5a-4a29-d197-54e077e0c587"
      },
      "source": [
        "df.isna().mean()"
      ],
      "execution_count": null,
      "outputs": [
        {
          "output_type": "execute_result",
          "data": {
            "text/plain": [
              "age                 0.000\n",
              "sex                 0.000\n",
              "job                 0.000\n",
              "housing             0.000\n",
              "saving_accounts     0.183\n",
              "checking_account    0.394\n",
              "credit_amount       0.000\n",
              "duration            0.000\n",
              "purpose             0.000\n",
              "default             0.000\n",
              "dtype: float64"
            ]
          },
          "metadata": {
            "tags": []
          },
          "execution_count": 97
        }
      ]
    },
    {
      "cell_type": "markdown",
      "metadata": {
        "id": "sxHOKIgVtnc3"
      },
      "source": [
        "Сделаю техническую замену пропусков"
      ]
    },
    {
      "cell_type": "code",
      "metadata": {
        "id": "AgU9-tGhtO3u"
      },
      "source": [
        "df['saving_accounts'].fillna('no_info',inplace=True)"
      ],
      "execution_count": null,
      "outputs": []
    },
    {
      "cell_type": "code",
      "metadata": {
        "id": "wCIz5xNBtgWi"
      },
      "source": [
        "df['checking_account'].fillna('no_info',inplace=True)"
      ],
      "execution_count": null,
      "outputs": []
    },
    {
      "cell_type": "code",
      "metadata": {
        "colab": {
          "base_uri": "https://localhost:8080/"
        },
        "id": "GZv7zwUZtjz1",
        "outputId": "c6bb7368-9172-401b-9375-0c1ccfc64d1f"
      },
      "source": [
        "df.isna().mean()"
      ],
      "execution_count": null,
      "outputs": [
        {
          "output_type": "execute_result",
          "data": {
            "text/plain": [
              "age                 0.0\n",
              "sex                 0.0\n",
              "job                 0.0\n",
              "housing             0.0\n",
              "saving_accounts     0.0\n",
              "checking_account    0.0\n",
              "credit_amount       0.0\n",
              "duration            0.0\n",
              "purpose             0.0\n",
              "default             0.0\n",
              "dtype: float64"
            ]
          },
          "metadata": {
            "tags": []
          },
          "execution_count": 100
        }
      ]
    },
    {
      "cell_type": "markdown",
      "metadata": {
        "id": "O-X9CX50tkye"
      },
      "source": [
        "## Анализ"
      ]
    },
    {
      "cell_type": "code",
      "metadata": {
        "colab": {
          "base_uri": "https://localhost:8080/",
          "height": 215
        },
        "id": "eca7MYJ7tyej",
        "outputId": "4bbd20af-e0b1-497d-dcd4-87b95fa7a7ae"
      },
      "source": [
        "df.head()"
      ],
      "execution_count": null,
      "outputs": [
        {
          "output_type": "execute_result",
          "data": {
            "text/html": [
              "<div>\n",
              "<style scoped>\n",
              "    .dataframe tbody tr th:only-of-type {\n",
              "        vertical-align: middle;\n",
              "    }\n",
              "\n",
              "    .dataframe tbody tr th {\n",
              "        vertical-align: top;\n",
              "    }\n",
              "\n",
              "    .dataframe thead th {\n",
              "        text-align: right;\n",
              "    }\n",
              "</style>\n",
              "<table border=\"1\" class=\"dataframe\">\n",
              "  <thead>\n",
              "    <tr style=\"text-align: right;\">\n",
              "      <th></th>\n",
              "      <th>age</th>\n",
              "      <th>sex</th>\n",
              "      <th>job</th>\n",
              "      <th>housing</th>\n",
              "      <th>saving_accounts</th>\n",
              "      <th>checking_account</th>\n",
              "      <th>credit_amount</th>\n",
              "      <th>duration</th>\n",
              "      <th>purpose</th>\n",
              "      <th>default</th>\n",
              "    </tr>\n",
              "  </thead>\n",
              "  <tbody>\n",
              "    <tr>\n",
              "      <th>0</th>\n",
              "      <td>67</td>\n",
              "      <td>male</td>\n",
              "      <td>2</td>\n",
              "      <td>own</td>\n",
              "      <td>no_info</td>\n",
              "      <td>little</td>\n",
              "      <td>1169</td>\n",
              "      <td>6</td>\n",
              "      <td>radio/TV</td>\n",
              "      <td>0</td>\n",
              "    </tr>\n",
              "    <tr>\n",
              "      <th>1</th>\n",
              "      <td>22</td>\n",
              "      <td>female</td>\n",
              "      <td>2</td>\n",
              "      <td>own</td>\n",
              "      <td>little</td>\n",
              "      <td>moderate</td>\n",
              "      <td>5951</td>\n",
              "      <td>48</td>\n",
              "      <td>radio/TV</td>\n",
              "      <td>1</td>\n",
              "    </tr>\n",
              "    <tr>\n",
              "      <th>2</th>\n",
              "      <td>49</td>\n",
              "      <td>male</td>\n",
              "      <td>1</td>\n",
              "      <td>own</td>\n",
              "      <td>little</td>\n",
              "      <td>no_info</td>\n",
              "      <td>2096</td>\n",
              "      <td>12</td>\n",
              "      <td>education</td>\n",
              "      <td>0</td>\n",
              "    </tr>\n",
              "    <tr>\n",
              "      <th>3</th>\n",
              "      <td>45</td>\n",
              "      <td>male</td>\n",
              "      <td>2</td>\n",
              "      <td>free</td>\n",
              "      <td>little</td>\n",
              "      <td>little</td>\n",
              "      <td>7882</td>\n",
              "      <td>42</td>\n",
              "      <td>furniture/equipment</td>\n",
              "      <td>0</td>\n",
              "    </tr>\n",
              "    <tr>\n",
              "      <th>4</th>\n",
              "      <td>53</td>\n",
              "      <td>male</td>\n",
              "      <td>2</td>\n",
              "      <td>free</td>\n",
              "      <td>little</td>\n",
              "      <td>little</td>\n",
              "      <td>4870</td>\n",
              "      <td>24</td>\n",
              "      <td>car</td>\n",
              "      <td>1</td>\n",
              "    </tr>\n",
              "  </tbody>\n",
              "</table>\n",
              "</div>"
            ],
            "text/plain": [
              "   age     sex  job  ... duration              purpose default\n",
              "0   67    male    2  ...        6             radio/TV       0\n",
              "1   22  female    2  ...       48             radio/TV       1\n",
              "2   49    male    1  ...       12            education       0\n",
              "3   45    male    2  ...       42  furniture/equipment       0\n",
              "4   53    male    2  ...       24                  car       1\n",
              "\n",
              "[5 rows x 10 columns]"
            ]
          },
          "metadata": {
            "tags": []
          },
          "execution_count": 101
        }
      ]
    },
    {
      "cell_type": "code",
      "metadata": {
        "id": "9p8JiD7KucKH"
      },
      "source": [
        "df['age_group'] = pd.qcut(df['age'],5)"
      ],
      "execution_count": null,
      "outputs": []
    },
    {
      "cell_type": "code",
      "metadata": {
        "colab": {
          "base_uri": "https://localhost:8080/",
          "height": 225
        },
        "id": "f3A5OKhNtzff",
        "outputId": "f70224d8-b112-47e2-da33-eed9928d7a37"
      },
      "source": [
        "df.groupby('age_group')['default'].agg(['count','mean'])"
      ],
      "execution_count": null,
      "outputs": [
        {
          "output_type": "execute_result",
          "data": {
            "text/html": [
              "<div>\n",
              "<style scoped>\n",
              "    .dataframe tbody tr th:only-of-type {\n",
              "        vertical-align: middle;\n",
              "    }\n",
              "\n",
              "    .dataframe tbody tr th {\n",
              "        vertical-align: top;\n",
              "    }\n",
              "\n",
              "    .dataframe thead th {\n",
              "        text-align: right;\n",
              "    }\n",
              "</style>\n",
              "<table border=\"1\" class=\"dataframe\">\n",
              "  <thead>\n",
              "    <tr style=\"text-align: right;\">\n",
              "      <th></th>\n",
              "      <th>count</th>\n",
              "      <th>mean</th>\n",
              "    </tr>\n",
              "    <tr>\n",
              "      <th>age_group</th>\n",
              "      <th></th>\n",
              "      <th></th>\n",
              "    </tr>\n",
              "  </thead>\n",
              "  <tbody>\n",
              "    <tr>\n",
              "      <th>(18.999, 26.0]</th>\n",
              "      <td>240</td>\n",
              "      <td>0.391667</td>\n",
              "    </tr>\n",
              "    <tr>\n",
              "      <th>(26.0, 30.0]</th>\n",
              "      <td>171</td>\n",
              "      <td>0.315789</td>\n",
              "    </tr>\n",
              "    <tr>\n",
              "      <th>(30.0, 36.0]</th>\n",
              "      <td>216</td>\n",
              "      <td>0.259259</td>\n",
              "    </tr>\n",
              "    <tr>\n",
              "      <th>(36.0, 45.0]</th>\n",
              "      <td>187</td>\n",
              "      <td>0.262032</td>\n",
              "    </tr>\n",
              "    <tr>\n",
              "      <th>(45.0, 75.0]</th>\n",
              "      <td>186</td>\n",
              "      <td>0.252688</td>\n",
              "    </tr>\n",
              "  </tbody>\n",
              "</table>\n",
              "</div>"
            ],
            "text/plain": [
              "                count      mean\n",
              "age_group                      \n",
              "(18.999, 26.0]    240  0.391667\n",
              "(26.0, 30.0]      171  0.315789\n",
              "(30.0, 36.0]      216  0.259259\n",
              "(36.0, 45.0]      187  0.262032\n",
              "(45.0, 75.0]      186  0.252688"
            ]
          },
          "metadata": {
            "tags": []
          },
          "execution_count": 104
        }
      ]
    },
    {
      "cell_type": "code",
      "metadata": {
        "colab": {
          "base_uri": "https://localhost:8080/",
          "height": 296
        },
        "id": "x8cQLKVquZzc",
        "outputId": "08fb99ce-748c-4ef7-a558-5f44abcf0a3e"
      },
      "source": [
        "df.groupby('age_group')['default'].mean().plot(ylim=0,grid=True)"
      ],
      "execution_count": null,
      "outputs": [
        {
          "output_type": "execute_result",
          "data": {
            "text/plain": [
              "<matplotlib.axes._subplots.AxesSubplot at 0x7f3a8d1effd0>"
            ]
          },
          "metadata": {
            "tags": []
          },
          "execution_count": 106
        },
        {
          "output_type": "display_data",
          "data": {
            "image/png": "[encoded data removed]",
            "text/plain": [
              "<Figure size 432x288 with 1 Axes>"
            ]
          },
          "metadata": {
            "tags": [],
            "needs_background": "light"
          }
        }
      ]
    },
    {
      "cell_type": "markdown",
      "metadata": {
        "id": "41AVkseEuoYB"
      },
      "source": [
        "С увеличением возраста процент дефолтников снижается!"
      ]
    },
    {
      "cell_type": "code",
      "metadata": {
        "colab": {
          "base_uri": "https://localhost:8080/",
          "height": 232
        },
        "id": "rX6fvnmQuz0M",
        "outputId": "9bfeac21-6168-462c-bd92-16ad2ba9422e"
      },
      "source": [
        "df.head()"
      ],
      "execution_count": null,
      "outputs": [
        {
          "output_type": "execute_result",
          "data": {
            "text/html": [
              "<div>\n",
              "<style scoped>\n",
              "    .dataframe tbody tr th:only-of-type {\n",
              "        vertical-align: middle;\n",
              "    }\n",
              "\n",
              "    .dataframe tbody tr th {\n",
              "        vertical-align: top;\n",
              "    }\n",
              "\n",
              "    .dataframe thead th {\n",
              "        text-align: right;\n",
              "    }\n",
              "</style>\n",
              "<table border=\"1\" class=\"dataframe\">\n",
              "  <thead>\n",
              "    <tr style=\"text-align: right;\">\n",
              "      <th></th>\n",
              "      <th>age</th>\n",
              "      <th>sex</th>\n",
              "      <th>job</th>\n",
              "      <th>housing</th>\n",
              "      <th>saving_accounts</th>\n",
              "      <th>checking_account</th>\n",
              "      <th>credit_amount</th>\n",
              "      <th>duration</th>\n",
              "      <th>purpose</th>\n",
              "      <th>default</th>\n",
              "      <th>age_group</th>\n",
              "    </tr>\n",
              "  </thead>\n",
              "  <tbody>\n",
              "    <tr>\n",
              "      <th>0</th>\n",
              "      <td>67</td>\n",
              "      <td>male</td>\n",
              "      <td>2</td>\n",
              "      <td>own</td>\n",
              "      <td>no_info</td>\n",
              "      <td>little</td>\n",
              "      <td>1169</td>\n",
              "      <td>6</td>\n",
              "      <td>radio/TV</td>\n",
              "      <td>0</td>\n",
              "      <td>(45.0, 75.0]</td>\n",
              "    </tr>\n",
              "    <tr>\n",
              "      <th>1</th>\n",
              "      <td>22</td>\n",
              "      <td>female</td>\n",
              "      <td>2</td>\n",
              "      <td>own</td>\n",
              "      <td>little</td>\n",
              "      <td>moderate</td>\n",
              "      <td>5951</td>\n",
              "      <td>48</td>\n",
              "      <td>radio/TV</td>\n",
              "      <td>1</td>\n",
              "      <td>(18.999, 26.0]</td>\n",
              "    </tr>\n",
              "    <tr>\n",
              "      <th>2</th>\n",
              "      <td>49</td>\n",
              "      <td>male</td>\n",
              "      <td>1</td>\n",
              "      <td>own</td>\n",
              "      <td>little</td>\n",
              "      <td>no_info</td>\n",
              "      <td>2096</td>\n",
              "      <td>12</td>\n",
              "      <td>education</td>\n",
              "      <td>0</td>\n",
              "      <td>(45.0, 75.0]</td>\n",
              "    </tr>\n",
              "    <tr>\n",
              "      <th>3</th>\n",
              "      <td>45</td>\n",
              "      <td>male</td>\n",
              "      <td>2</td>\n",
              "      <td>free</td>\n",
              "      <td>little</td>\n",
              "      <td>little</td>\n",
              "      <td>7882</td>\n",
              "      <td>42</td>\n",
              "      <td>furniture/equipment</td>\n",
              "      <td>0</td>\n",
              "      <td>(36.0, 45.0]</td>\n",
              "    </tr>\n",
              "    <tr>\n",
              "      <th>4</th>\n",
              "      <td>53</td>\n",
              "      <td>male</td>\n",
              "      <td>2</td>\n",
              "      <td>free</td>\n",
              "      <td>little</td>\n",
              "      <td>little</td>\n",
              "      <td>4870</td>\n",
              "      <td>24</td>\n",
              "      <td>car</td>\n",
              "      <td>1</td>\n",
              "      <td>(45.0, 75.0]</td>\n",
              "    </tr>\n",
              "  </tbody>\n",
              "</table>\n",
              "</div>"
            ],
            "text/plain": [
              "   age     sex  job  ...              purpose default       age_group\n",
              "0   67    male    2  ...             radio/TV       0    (45.0, 75.0]\n",
              "1   22  female    2  ...             radio/TV       1  (18.999, 26.0]\n",
              "2   49    male    1  ...            education       0    (45.0, 75.0]\n",
              "3   45    male    2  ...  furniture/equipment       0    (36.0, 45.0]\n",
              "4   53    male    2  ...                  car       1    (45.0, 75.0]\n",
              "\n",
              "[5 rows x 11 columns]"
            ]
          },
          "metadata": {
            "tags": []
          },
          "execution_count": 107
        }
      ]
    },
    {
      "cell_type": "code",
      "metadata": {
        "colab": {
          "base_uri": "https://localhost:8080/",
          "height": 136
        },
        "id": "YWojAFOHu9Jt",
        "outputId": "d014581d-4d6c-467d-8bb7-edb42297eaaa"
      },
      "source": [
        "df.groupby('sex')['default'].agg(['count','mean'])"
      ],
      "execution_count": null,
      "outputs": [
        {
          "output_type": "execute_result",
          "data": {
            "text/html": [
              "<div>\n",
              "<style scoped>\n",
              "    .dataframe tbody tr th:only-of-type {\n",
              "        vertical-align: middle;\n",
              "    }\n",
              "\n",
              "    .dataframe tbody tr th {\n",
              "        vertical-align: top;\n",
              "    }\n",
              "\n",
              "    .dataframe thead th {\n",
              "        text-align: right;\n",
              "    }\n",
              "</style>\n",
              "<table border=\"1\" class=\"dataframe\">\n",
              "  <thead>\n",
              "    <tr style=\"text-align: right;\">\n",
              "      <th></th>\n",
              "      <th>count</th>\n",
              "      <th>mean</th>\n",
              "    </tr>\n",
              "    <tr>\n",
              "      <th>sex</th>\n",
              "      <th></th>\n",
              "      <th></th>\n",
              "    </tr>\n",
              "  </thead>\n",
              "  <tbody>\n",
              "    <tr>\n",
              "      <th>female</th>\n",
              "      <td>310</td>\n",
              "      <td>0.351613</td>\n",
              "    </tr>\n",
              "    <tr>\n",
              "      <th>male</th>\n",
              "      <td>690</td>\n",
              "      <td>0.276812</td>\n",
              "    </tr>\n",
              "  </tbody>\n",
              "</table>\n",
              "</div>"
            ],
            "text/plain": [
              "        count      mean\n",
              "sex                    \n",
              "female    310  0.351613\n",
              "male      690  0.276812"
            ]
          },
          "metadata": {
            "tags": []
          },
          "execution_count": 108
        }
      ]
    },
    {
      "cell_type": "markdown",
      "metadata": {
        "id": "x9UA1A8LvhuS"
      },
      "source": [
        "Выборка перекошена -- мужчин в 2 раза больше чем женщин. И среди женщин дефолта сильно больше. Возможно влияние другой переменной? Возраст?"
      ]
    },
    {
      "cell_type": "code",
      "metadata": {
        "colab": {
          "base_uri": "https://localhost:8080/",
          "height": 136
        },
        "id": "6jElLJ8ivAs9",
        "outputId": "fa2fc697-7140-4364-f520-96c18fd0ea23"
      },
      "source": [
        "df.groupby('sex')['age'].agg(['count','mean','median'])"
      ],
      "execution_count": null,
      "outputs": [
        {
          "output_type": "execute_result",
          "data": {
            "text/html": [
              "<div>\n",
              "<style scoped>\n",
              "    .dataframe tbody tr th:only-of-type {\n",
              "        vertical-align: middle;\n",
              "    }\n",
              "\n",
              "    .dataframe tbody tr th {\n",
              "        vertical-align: top;\n",
              "    }\n",
              "\n",
              "    .dataframe thead th {\n",
              "        text-align: right;\n",
              "    }\n",
              "</style>\n",
              "<table border=\"1\" class=\"dataframe\">\n",
              "  <thead>\n",
              "    <tr style=\"text-align: right;\">\n",
              "      <th></th>\n",
              "      <th>count</th>\n",
              "      <th>mean</th>\n",
              "      <th>median</th>\n",
              "    </tr>\n",
              "    <tr>\n",
              "      <th>sex</th>\n",
              "      <th></th>\n",
              "      <th></th>\n",
              "      <th></th>\n",
              "    </tr>\n",
              "  </thead>\n",
              "  <tbody>\n",
              "    <tr>\n",
              "      <th>female</th>\n",
              "      <td>310</td>\n",
              "      <td>32.803226</td>\n",
              "      <td>29</td>\n",
              "    </tr>\n",
              "    <tr>\n",
              "      <th>male</th>\n",
              "      <td>690</td>\n",
              "      <td>36.778261</td>\n",
              "      <td>35</td>\n",
              "    </tr>\n",
              "  </tbody>\n",
              "</table>\n",
              "</div>"
            ],
            "text/plain": [
              "        count       mean  median\n",
              "sex                             \n",
              "female    310  32.803226      29\n",
              "male      690  36.778261      35"
            ]
          },
          "metadata": {
            "tags": []
          },
          "execution_count": 110
        }
      ]
    },
    {
      "cell_type": "markdown",
      "metadata": {
        "id": "-8CuSTZpvOrd"
      },
      "source": [
        "Действительно! Женщины в этой выборке моложе! Посмотрим в разрезе пола и возраста"
      ]
    },
    {
      "cell_type": "code",
      "metadata": {
        "id": "FHdMXr8ev-og"
      },
      "source": [
        "df['age_group2'] = pd.qcut(df['age'],3)"
      ],
      "execution_count": null,
      "outputs": []
    },
    {
      "cell_type": "code",
      "metadata": {
        "colab": {
          "base_uri": "https://localhost:8080/",
          "height": 254
        },
        "id": "_-7fT48DwJFF",
        "outputId": "ddbbc6aa-584e-409d-bd10-0286c8d51ad6"
      },
      "source": [
        "df.groupby(['age_group2','sex'])['default'].agg(['count','mean'])"
      ],
      "execution_count": null,
      "outputs": [
        {
          "output_type": "execute_result",
          "data": {
            "text/html": [
              "<div>\n",
              "<style scoped>\n",
              "    .dataframe tbody tr th:only-of-type {\n",
              "        vertical-align: middle;\n",
              "    }\n",
              "\n",
              "    .dataframe tbody tr th {\n",
              "        vertical-align: top;\n",
              "    }\n",
              "\n",
              "    .dataframe thead th {\n",
              "        text-align: right;\n",
              "    }\n",
              "</style>\n",
              "<table border=\"1\" class=\"dataframe\">\n",
              "  <thead>\n",
              "    <tr style=\"text-align: right;\">\n",
              "      <th></th>\n",
              "      <th></th>\n",
              "      <th>count</th>\n",
              "      <th>mean</th>\n",
              "    </tr>\n",
              "    <tr>\n",
              "      <th>age_group2</th>\n",
              "      <th>sex</th>\n",
              "      <th></th>\n",
              "      <th></th>\n",
              "    </tr>\n",
              "  </thead>\n",
              "  <tbody>\n",
              "    <tr>\n",
              "      <th rowspan=\"2\" valign=\"top\">(18.999, 28.0]</th>\n",
              "      <th>female</th>\n",
              "      <td>154</td>\n",
              "      <td>0.409091</td>\n",
              "    </tr>\n",
              "    <tr>\n",
              "      <th>male</th>\n",
              "      <td>180</td>\n",
              "      <td>0.327778</td>\n",
              "    </tr>\n",
              "    <tr>\n",
              "      <th rowspan=\"2\" valign=\"top\">(28.0, 38.0]</th>\n",
              "      <th>female</th>\n",
              "      <td>83</td>\n",
              "      <td>0.385542</td>\n",
              "    </tr>\n",
              "    <tr>\n",
              "      <th>male</th>\n",
              "      <td>263</td>\n",
              "      <td>0.235741</td>\n",
              "    </tr>\n",
              "    <tr>\n",
              "      <th rowspan=\"2\" valign=\"top\">(38.0, 75.0]</th>\n",
              "      <th>female</th>\n",
              "      <td>73</td>\n",
              "      <td>0.191781</td>\n",
              "    </tr>\n",
              "    <tr>\n",
              "      <th>male</th>\n",
              "      <td>247</td>\n",
              "      <td>0.283401</td>\n",
              "    </tr>\n",
              "  </tbody>\n",
              "</table>\n",
              "</div>"
            ],
            "text/plain": [
              "                       count      mean\n",
              "age_group2     sex                    \n",
              "(18.999, 28.0] female    154  0.409091\n",
              "               male      180  0.327778\n",
              "(28.0, 38.0]   female     83  0.385542\n",
              "               male      263  0.235741\n",
              "(38.0, 75.0]   female     73  0.191781\n",
              "               male      247  0.283401"
            ]
          },
          "metadata": {
            "tags": []
          },
          "execution_count": 113
        }
      ]
    },
    {
      "cell_type": "markdown",
      "metadata": {
        "id": "_1nF8elkwK7L"
      },
      "source": [
        "В молодом и среднем возрасте женщины хуже возвращают долг, а в более старшем наоборот: женщины возвращают долг лучше чем мужчины"
      ]
    },
    {
      "cell_type": "code",
      "metadata": {
        "colab": {
          "base_uri": "https://localhost:8080/",
          "height": 232
        },
        "id": "QLjIodgzwhSY",
        "outputId": "5629bc27-601f-4a5d-811a-de1ab7ec1d80"
      },
      "source": [
        "df.head()"
      ],
      "execution_count": null,
      "outputs": [
        {
          "output_type": "execute_result",
          "data": {
            "text/html": [
              "<div>\n",
              "<style scoped>\n",
              "    .dataframe tbody tr th:only-of-type {\n",
              "        vertical-align: middle;\n",
              "    }\n",
              "\n",
              "    .dataframe tbody tr th {\n",
              "        vertical-align: top;\n",
              "    }\n",
              "\n",
              "    .dataframe thead th {\n",
              "        text-align: right;\n",
              "    }\n",
              "</style>\n",
              "<table border=\"1\" class=\"dataframe\">\n",
              "  <thead>\n",
              "    <tr style=\"text-align: right;\">\n",
              "      <th></th>\n",
              "      <th>age</th>\n",
              "      <th>sex</th>\n",
              "      <th>job</th>\n",
              "      <th>housing</th>\n",
              "      <th>saving_accounts</th>\n",
              "      <th>checking_account</th>\n",
              "      <th>credit_amount</th>\n",
              "      <th>duration</th>\n",
              "      <th>purpose</th>\n",
              "      <th>default</th>\n",
              "      <th>age_group</th>\n",
              "      <th>age_group2</th>\n",
              "    </tr>\n",
              "  </thead>\n",
              "  <tbody>\n",
              "    <tr>\n",
              "      <th>0</th>\n",
              "      <td>67</td>\n",
              "      <td>male</td>\n",
              "      <td>2</td>\n",
              "      <td>own</td>\n",
              "      <td>no_info</td>\n",
              "      <td>little</td>\n",
              "      <td>1169</td>\n",
              "      <td>6</td>\n",
              "      <td>radio/TV</td>\n",
              "      <td>0</td>\n",
              "      <td>(45.0, 75.0]</td>\n",
              "      <td>(38.0, 75.0]</td>\n",
              "    </tr>\n",
              "    <tr>\n",
              "      <th>1</th>\n",
              "      <td>22</td>\n",
              "      <td>female</td>\n",
              "      <td>2</td>\n",
              "      <td>own</td>\n",
              "      <td>little</td>\n",
              "      <td>moderate</td>\n",
              "      <td>5951</td>\n",
              "      <td>48</td>\n",
              "      <td>radio/TV</td>\n",
              "      <td>1</td>\n",
              "      <td>(18.999, 26.0]</td>\n",
              "      <td>(18.999, 28.0]</td>\n",
              "    </tr>\n",
              "    <tr>\n",
              "      <th>2</th>\n",
              "      <td>49</td>\n",
              "      <td>male</td>\n",
              "      <td>1</td>\n",
              "      <td>own</td>\n",
              "      <td>little</td>\n",
              "      <td>no_info</td>\n",
              "      <td>2096</td>\n",
              "      <td>12</td>\n",
              "      <td>education</td>\n",
              "      <td>0</td>\n",
              "      <td>(45.0, 75.0]</td>\n",
              "      <td>(38.0, 75.0]</td>\n",
              "    </tr>\n",
              "    <tr>\n",
              "      <th>3</th>\n",
              "      <td>45</td>\n",
              "      <td>male</td>\n",
              "      <td>2</td>\n",
              "      <td>free</td>\n",
              "      <td>little</td>\n",
              "      <td>little</td>\n",
              "      <td>7882</td>\n",
              "      <td>42</td>\n",
              "      <td>furniture/equipment</td>\n",
              "      <td>0</td>\n",
              "      <td>(36.0, 45.0]</td>\n",
              "      <td>(38.0, 75.0]</td>\n",
              "    </tr>\n",
              "    <tr>\n",
              "      <th>4</th>\n",
              "      <td>53</td>\n",
              "      <td>male</td>\n",
              "      <td>2</td>\n",
              "      <td>free</td>\n",
              "      <td>little</td>\n",
              "      <td>little</td>\n",
              "      <td>4870</td>\n",
              "      <td>24</td>\n",
              "      <td>car</td>\n",
              "      <td>1</td>\n",
              "      <td>(45.0, 75.0]</td>\n",
              "      <td>(38.0, 75.0]</td>\n",
              "    </tr>\n",
              "  </tbody>\n",
              "</table>\n",
              "</div>"
            ],
            "text/plain": [
              "   age     sex  job  ... default       age_group      age_group2\n",
              "0   67    male    2  ...       0    (45.0, 75.0]    (38.0, 75.0]\n",
              "1   22  female    2  ...       1  (18.999, 26.0]  (18.999, 28.0]\n",
              "2   49    male    1  ...       0    (45.0, 75.0]    (38.0, 75.0]\n",
              "3   45    male    2  ...       0    (36.0, 45.0]    (38.0, 75.0]\n",
              "4   53    male    2  ...       1    (45.0, 75.0]    (38.0, 75.0]\n",
              "\n",
              "[5 rows x 12 columns]"
            ]
          },
          "metadata": {
            "tags": []
          },
          "execution_count": 114
        }
      ]
    },
    {
      "cell_type": "markdown",
      "metadata": {
        "id": "qVjiKMNgwzu3"
      },
      "source": [
        "0 - unskilled and non-resident, 1 - unskilled and resident, 2 - skilled, 3 - highly skilled"
      ]
    },
    {
      "cell_type": "code",
      "metadata": {
        "id": "GKfohzQsw1yn"
      },
      "source": [
        "job_dict = {0:\"unskilled and non-resident\",\n",
        "            1:\"unskilled and resident\",\n",
        "            2:\"skilled\",\n",
        "            3: \"highly skilled\"}"
      ],
      "execution_count": null,
      "outputs": []
    },
    {
      "cell_type": "code",
      "metadata": {
        "colab": {
          "base_uri": "https://localhost:8080/"
        },
        "id": "IoYvZ0wQxAnj",
        "outputId": "b1ceb4b6-4004-449f-c799-9e3e473aa99c"
      },
      "source": [
        "job_dict"
      ],
      "execution_count": null,
      "outputs": [
        {
          "output_type": "execute_result",
          "data": {
            "text/plain": [
              "{0: 'unskilled and non-resident',\n",
              " 1: 'unskilled and resident',\n",
              " 2: 'skilled',\n",
              " 3: 'highly skilled'}"
            ]
          },
          "metadata": {
            "tags": []
          },
          "execution_count": 118
        }
      ]
    },
    {
      "cell_type": "code",
      "metadata": {
        "id": "3YdYiGj9xCG4"
      },
      "source": [
        "df['job'] = df['job'].map(job_dict)"
      ],
      "execution_count": null,
      "outputs": []
    },
    {
      "cell_type": "code",
      "metadata": {
        "colab": {
          "base_uri": "https://localhost:8080/",
          "height": 195
        },
        "id": "r0JfrVHMwpcW",
        "outputId": "05602f3c-91b3-423c-d2ac-2fe8b1b02e60"
      },
      "source": [
        "df.groupby('job')['default'].agg(['count','mean'])"
      ],
      "execution_count": null,
      "outputs": [
        {
          "output_type": "execute_result",
          "data": {
            "text/html": [
              "<div>\n",
              "<style scoped>\n",
              "    .dataframe tbody tr th:only-of-type {\n",
              "        vertical-align: middle;\n",
              "    }\n",
              "\n",
              "    .dataframe tbody tr th {\n",
              "        vertical-align: top;\n",
              "    }\n",
              "\n",
              "    .dataframe thead th {\n",
              "        text-align: right;\n",
              "    }\n",
              "</style>\n",
              "<table border=\"1\" class=\"dataframe\">\n",
              "  <thead>\n",
              "    <tr style=\"text-align: right;\">\n",
              "      <th></th>\n",
              "      <th>count</th>\n",
              "      <th>mean</th>\n",
              "    </tr>\n",
              "    <tr>\n",
              "      <th>job</th>\n",
              "      <th></th>\n",
              "      <th></th>\n",
              "    </tr>\n",
              "  </thead>\n",
              "  <tbody>\n",
              "    <tr>\n",
              "      <th>highly skilled</th>\n",
              "      <td>148</td>\n",
              "      <td>0.344595</td>\n",
              "    </tr>\n",
              "    <tr>\n",
              "      <th>skilled</th>\n",
              "      <td>630</td>\n",
              "      <td>0.295238</td>\n",
              "    </tr>\n",
              "    <tr>\n",
              "      <th>unskilled and non-resident</th>\n",
              "      <td>22</td>\n",
              "      <td>0.318182</td>\n",
              "    </tr>\n",
              "    <tr>\n",
              "      <th>unskilled and resident</th>\n",
              "      <td>200</td>\n",
              "      <td>0.280000</td>\n",
              "    </tr>\n",
              "  </tbody>\n",
              "</table>\n",
              "</div>"
            ],
            "text/plain": [
              "                            count      mean\n",
              "job                                        \n",
              "highly skilled                148  0.344595\n",
              "skilled                       630  0.295238\n",
              "unskilled and non-resident     22  0.318182\n",
              "unskilled and resident        200  0.280000"
            ]
          },
          "metadata": {
            "tags": []
          },
          "execution_count": 121
        }
      ]
    },
    {
      "cell_type": "markdown",
      "metadata": {
        "id": "eJGnlLv2xWjU"
      },
      "source": [
        "Странно, что в skilled самый высокий дефолт. Возможно влияние другой перменной"
      ]
    },
    {
      "cell_type": "code",
      "metadata": {
        "colab": {
          "base_uri": "https://localhost:8080/",
          "height": 432
        },
        "id": "-0n9_6TBxV4V",
        "outputId": "309a7476-f9f3-47db-9591-bcc620e0208a"
      },
      "source": [
        "df.groupby(['job','age_group2'])['default'].agg(['count','mean'])"
      ],
      "execution_count": null,
      "outputs": [
        {
          "output_type": "execute_result",
          "data": {
            "text/html": [
              "<div>\n",
              "<style scoped>\n",
              "    .dataframe tbody tr th:only-of-type {\n",
              "        vertical-align: middle;\n",
              "    }\n",
              "\n",
              "    .dataframe tbody tr th {\n",
              "        vertical-align: top;\n",
              "    }\n",
              "\n",
              "    .dataframe thead th {\n",
              "        text-align: right;\n",
              "    }\n",
              "</style>\n",
              "<table border=\"1\" class=\"dataframe\">\n",
              "  <thead>\n",
              "    <tr style=\"text-align: right;\">\n",
              "      <th></th>\n",
              "      <th></th>\n",
              "      <th>count</th>\n",
              "      <th>mean</th>\n",
              "    </tr>\n",
              "    <tr>\n",
              "      <th>job</th>\n",
              "      <th>age_group2</th>\n",
              "      <th></th>\n",
              "      <th></th>\n",
              "    </tr>\n",
              "  </thead>\n",
              "  <tbody>\n",
              "    <tr>\n",
              "      <th rowspan=\"3\" valign=\"top\">highly skilled</th>\n",
              "      <th>(18.999, 28.0]</th>\n",
              "      <td>21</td>\n",
              "      <td>0.523810</td>\n",
              "    </tr>\n",
              "    <tr>\n",
              "      <th>(28.0, 38.0]</th>\n",
              "      <td>68</td>\n",
              "      <td>0.220588</td>\n",
              "    </tr>\n",
              "    <tr>\n",
              "      <th>(38.0, 75.0]</th>\n",
              "      <td>59</td>\n",
              "      <td>0.423729</td>\n",
              "    </tr>\n",
              "    <tr>\n",
              "      <th rowspan=\"3\" valign=\"top\">skilled</th>\n",
              "      <th>(18.999, 28.0]</th>\n",
              "      <td>240</td>\n",
              "      <td>0.350000</td>\n",
              "    </tr>\n",
              "    <tr>\n",
              "      <th>(28.0, 38.0]</th>\n",
              "      <td>220</td>\n",
              "      <td>0.268182</td>\n",
              "    </tr>\n",
              "    <tr>\n",
              "      <th>(38.0, 75.0]</th>\n",
              "      <td>170</td>\n",
              "      <td>0.252941</td>\n",
              "    </tr>\n",
              "    <tr>\n",
              "      <th rowspan=\"3\" valign=\"top\">unskilled and non-resident</th>\n",
              "      <th>(18.999, 28.0]</th>\n",
              "      <td>9</td>\n",
              "      <td>0.555556</td>\n",
              "    </tr>\n",
              "    <tr>\n",
              "      <th>(28.0, 38.0]</th>\n",
              "      <td>4</td>\n",
              "      <td>0.250000</td>\n",
              "    </tr>\n",
              "    <tr>\n",
              "      <th>(38.0, 75.0]</th>\n",
              "      <td>9</td>\n",
              "      <td>0.111111</td>\n",
              "    </tr>\n",
              "    <tr>\n",
              "      <th rowspan=\"3\" valign=\"top\">unskilled and resident</th>\n",
              "      <th>(18.999, 28.0]</th>\n",
              "      <td>64</td>\n",
              "      <td>0.343750</td>\n",
              "    </tr>\n",
              "    <tr>\n",
              "      <th>(28.0, 38.0]</th>\n",
              "      <td>54</td>\n",
              "      <td>0.351852</td>\n",
              "    </tr>\n",
              "    <tr>\n",
              "      <th>(38.0, 75.0]</th>\n",
              "      <td>82</td>\n",
              "      <td>0.182927</td>\n",
              "    </tr>\n",
              "  </tbody>\n",
              "</table>\n",
              "</div>"
            ],
            "text/plain": [
              "                                           count      mean\n",
              "job                        age_group2                     \n",
              "highly skilled             (18.999, 28.0]     21  0.523810\n",
              "                           (28.0, 38.0]       68  0.220588\n",
              "                           (38.0, 75.0]       59  0.423729\n",
              "skilled                    (18.999, 28.0]    240  0.350000\n",
              "                           (28.0, 38.0]      220  0.268182\n",
              "                           (38.0, 75.0]      170  0.252941\n",
              "unskilled and non-resident (18.999, 28.0]      9  0.555556\n",
              "                           (28.0, 38.0]        4  0.250000\n",
              "                           (38.0, 75.0]        9  0.111111\n",
              "unskilled and resident     (18.999, 28.0]     64  0.343750\n",
              "                           (28.0, 38.0]       54  0.351852\n",
              "                           (38.0, 75.0]       82  0.182927"
            ]
          },
          "metadata": {
            "tags": []
          },
          "execution_count": 123
        }
      ]
    },
    {
      "cell_type": "markdown",
      "metadata": {
        "id": "tCYYsngdywCD"
      },
      "source": [
        "В skilled много молодых и это влияет на уровень дефолта"
      ]
    },
    {
      "cell_type": "code",
      "metadata": {
        "colab": {
          "base_uri": "https://localhost:8080/",
          "height": 195
        },
        "id": "Oi8kJkacxVu_",
        "outputId": "f26ead73-843c-4932-c015-69f0098daa21"
      },
      "source": [
        "df.groupby('job')['credit_amount'].agg(['count','mean','median'])"
      ],
      "execution_count": null,
      "outputs": [
        {
          "output_type": "execute_result",
          "data": {
            "text/html": [
              "<div>\n",
              "<style scoped>\n",
              "    .dataframe tbody tr th:only-of-type {\n",
              "        vertical-align: middle;\n",
              "    }\n",
              "\n",
              "    .dataframe tbody tr th {\n",
              "        vertical-align: top;\n",
              "    }\n",
              "\n",
              "    .dataframe thead th {\n",
              "        text-align: right;\n",
              "    }\n",
              "</style>\n",
              "<table border=\"1\" class=\"dataframe\">\n",
              "  <thead>\n",
              "    <tr style=\"text-align: right;\">\n",
              "      <th></th>\n",
              "      <th>count</th>\n",
              "      <th>mean</th>\n",
              "      <th>median</th>\n",
              "    </tr>\n",
              "    <tr>\n",
              "      <th>job</th>\n",
              "      <th></th>\n",
              "      <th></th>\n",
              "      <th></th>\n",
              "    </tr>\n",
              "  </thead>\n",
              "  <tbody>\n",
              "    <tr>\n",
              "      <th>highly skilled</th>\n",
              "      <td>148</td>\n",
              "      <td>5435.493243</td>\n",
              "      <td>4459</td>\n",
              "    </tr>\n",
              "    <tr>\n",
              "      <th>skilled</th>\n",
              "      <td>630</td>\n",
              "      <td>3070.965079</td>\n",
              "      <td>2324</td>\n",
              "    </tr>\n",
              "    <tr>\n",
              "      <th>unskilled and non-resident</th>\n",
              "      <td>22</td>\n",
              "      <td>2745.136364</td>\n",
              "      <td>1416</td>\n",
              "    </tr>\n",
              "    <tr>\n",
              "      <th>unskilled and resident</th>\n",
              "      <td>200</td>\n",
              "      <td>2358.520000</td>\n",
              "      <td>1622</td>\n",
              "    </tr>\n",
              "  </tbody>\n",
              "</table>\n",
              "</div>"
            ],
            "text/plain": [
              "                            count         mean  median\n",
              "job                                                   \n",
              "highly skilled                148  5435.493243    4459\n",
              "skilled                       630  3070.965079    2324\n",
              "unskilled and non-resident     22  2745.136364    1416\n",
              "unskilled and resident        200  2358.520000    1622"
            ]
          },
          "metadata": {
            "tags": []
          },
          "execution_count": 125
        }
      ]
    },
    {
      "cell_type": "markdown",
      "metadata": {
        "id": "yGs1-GuSy2Xm"
      },
      "source": [
        "Но похоже, что главное влияние оказывает размер кредита! В hs и s размер кредита выше чем в unskilled. Посмотрим на влияние размера кредита на дефолт вообще"
      ]
    },
    {
      "cell_type": "code",
      "metadata": {
        "id": "TfMuQhSUyB8z"
      },
      "source": [
        "df['credit_amount_group'] = pd.qcut(df['credit_amount'],5)"
      ],
      "execution_count": null,
      "outputs": []
    },
    {
      "cell_type": "code",
      "metadata": {
        "colab": {
          "base_uri": "https://localhost:8080/",
          "height": 225
        },
        "id": "EYZspWkaySRA",
        "outputId": "9fbb52fb-417a-4f94-e461-3296ecf280aa"
      },
      "source": [
        "df.groupby('credit_amount_group')['default'].agg(['count','mean'])"
      ],
      "execution_count": null,
      "outputs": [
        {
          "output_type": "execute_result",
          "data": {
            "text/html": [
              "<div>\n",
              "<style scoped>\n",
              "    .dataframe tbody tr th:only-of-type {\n",
              "        vertical-align: middle;\n",
              "    }\n",
              "\n",
              "    .dataframe tbody tr th {\n",
              "        vertical-align: top;\n",
              "    }\n",
              "\n",
              "    .dataframe thead th {\n",
              "        text-align: right;\n",
              "    }\n",
              "</style>\n",
              "<table border=\"1\" class=\"dataframe\">\n",
              "  <thead>\n",
              "    <tr style=\"text-align: right;\">\n",
              "      <th></th>\n",
              "      <th>count</th>\n",
              "      <th>mean</th>\n",
              "    </tr>\n",
              "    <tr>\n",
              "      <th>credit_amount_group</th>\n",
              "      <th></th>\n",
              "      <th></th>\n",
              "    </tr>\n",
              "  </thead>\n",
              "  <tbody>\n",
              "    <tr>\n",
              "      <th>(249.999, 1262.0]</th>\n",
              "      <td>201</td>\n",
              "      <td>0.303483</td>\n",
              "    </tr>\n",
              "    <tr>\n",
              "      <th>(1262.0, 1906.8]</th>\n",
              "      <td>199</td>\n",
              "      <td>0.241206</td>\n",
              "    </tr>\n",
              "    <tr>\n",
              "      <th>(1906.8, 2852.4]</th>\n",
              "      <td>200</td>\n",
              "      <td>0.270000</td>\n",
              "    </tr>\n",
              "    <tr>\n",
              "      <th>(2852.4, 4720.0]</th>\n",
              "      <td>200</td>\n",
              "      <td>0.260000</td>\n",
              "    </tr>\n",
              "    <tr>\n",
              "      <th>(4720.0, 18424.0]</th>\n",
              "      <td>200</td>\n",
              "      <td>0.425000</td>\n",
              "    </tr>\n",
              "  </tbody>\n",
              "</table>\n",
              "</div>"
            ],
            "text/plain": [
              "                     count      mean\n",
              "credit_amount_group                 \n",
              "(249.999, 1262.0]      201  0.303483\n",
              "(1262.0, 1906.8]       199  0.241206\n",
              "(1906.8, 2852.4]       200  0.270000\n",
              "(2852.4, 4720.0]       200  0.260000\n",
              "(4720.0, 18424.0]      200  0.425000"
            ]
          },
          "metadata": {
            "tags": []
          },
          "execution_count": 129
        }
      ]
    },
    {
      "cell_type": "markdown",
      "metadata": {
        "id": "CjR4t5fAyegj"
      },
      "source": [
        "Да, чем больше кредит, тем выше дефолт рейт."
      ]
    },
    {
      "cell_type": "code",
      "metadata": {
        "colab": {
          "base_uri": "https://localhost:8080/",
          "height": 266
        },
        "id": "ovdHzxQHzP0q",
        "outputId": "a99461bc-f44b-4535-efe0-2afc1270cf6b"
      },
      "source": [
        "df.head()"
      ],
      "execution_count": null,
      "outputs": [
        {
          "output_type": "execute_result",
          "data": {
            "text/html": [
              "<div>\n",
              "<style scoped>\n",
              "    .dataframe tbody tr th:only-of-type {\n",
              "        vertical-align: middle;\n",
              "    }\n",
              "\n",
              "    .dataframe tbody tr th {\n",
              "        vertical-align: top;\n",
              "    }\n",
              "\n",
              "    .dataframe thead th {\n",
              "        text-align: right;\n",
              "    }\n",
              "</style>\n",
              "<table border=\"1\" class=\"dataframe\">\n",
              "  <thead>\n",
              "    <tr style=\"text-align: right;\">\n",
              "      <th></th>\n",
              "      <th>age</th>\n",
              "      <th>sex</th>\n",
              "      <th>job</th>\n",
              "      <th>housing</th>\n",
              "      <th>saving_accounts</th>\n",
              "      <th>checking_account</th>\n",
              "      <th>credit_amount</th>\n",
              "      <th>duration</th>\n",
              "      <th>purpose</th>\n",
              "      <th>default</th>\n",
              "      <th>age_group</th>\n",
              "      <th>age_group2</th>\n",
              "      <th>credit_amount_group</th>\n",
              "    </tr>\n",
              "  </thead>\n",
              "  <tbody>\n",
              "    <tr>\n",
              "      <th>0</th>\n",
              "      <td>67</td>\n",
              "      <td>male</td>\n",
              "      <td>skilled</td>\n",
              "      <td>own</td>\n",
              "      <td>no_info</td>\n",
              "      <td>little</td>\n",
              "      <td>1169</td>\n",
              "      <td>6</td>\n",
              "      <td>radio/TV</td>\n",
              "      <td>0</td>\n",
              "      <td>(45.0, 75.0]</td>\n",
              "      <td>(38.0, 75.0]</td>\n",
              "      <td>(249.999, 1262.0]</td>\n",
              "    </tr>\n",
              "    <tr>\n",
              "      <th>1</th>\n",
              "      <td>22</td>\n",
              "      <td>female</td>\n",
              "      <td>skilled</td>\n",
              "      <td>own</td>\n",
              "      <td>little</td>\n",
              "      <td>moderate</td>\n",
              "      <td>5951</td>\n",
              "      <td>48</td>\n",
              "      <td>radio/TV</td>\n",
              "      <td>1</td>\n",
              "      <td>(18.999, 26.0]</td>\n",
              "      <td>(18.999, 28.0]</td>\n",
              "      <td>(4720.0, 18424.0]</td>\n",
              "    </tr>\n",
              "    <tr>\n",
              "      <th>2</th>\n",
              "      <td>49</td>\n",
              "      <td>male</td>\n",
              "      <td>unskilled and resident</td>\n",
              "      <td>own</td>\n",
              "      <td>little</td>\n",
              "      <td>no_info</td>\n",
              "      <td>2096</td>\n",
              "      <td>12</td>\n",
              "      <td>education</td>\n",
              "      <td>0</td>\n",
              "      <td>(45.0, 75.0]</td>\n",
              "      <td>(38.0, 75.0]</td>\n",
              "      <td>(1906.8, 2852.4]</td>\n",
              "    </tr>\n",
              "    <tr>\n",
              "      <th>3</th>\n",
              "      <td>45</td>\n",
              "      <td>male</td>\n",
              "      <td>skilled</td>\n",
              "      <td>free</td>\n",
              "      <td>little</td>\n",
              "      <td>little</td>\n",
              "      <td>7882</td>\n",
              "      <td>42</td>\n",
              "      <td>furniture/equipment</td>\n",
              "      <td>0</td>\n",
              "      <td>(36.0, 45.0]</td>\n",
              "      <td>(38.0, 75.0]</td>\n",
              "      <td>(4720.0, 18424.0]</td>\n",
              "    </tr>\n",
              "    <tr>\n",
              "      <th>4</th>\n",
              "      <td>53</td>\n",
              "      <td>male</td>\n",
              "      <td>skilled</td>\n",
              "      <td>free</td>\n",
              "      <td>little</td>\n",
              "      <td>little</td>\n",
              "      <td>4870</td>\n",
              "      <td>24</td>\n",
              "      <td>car</td>\n",
              "      <td>1</td>\n",
              "      <td>(45.0, 75.0]</td>\n",
              "      <td>(38.0, 75.0]</td>\n",
              "      <td>(4720.0, 18424.0]</td>\n",
              "    </tr>\n",
              "  </tbody>\n",
              "</table>\n",
              "</div>"
            ],
            "text/plain": [
              "   age     sex  ...      age_group2 credit_amount_group\n",
              "0   67    male  ...    (38.0, 75.0]   (249.999, 1262.0]\n",
              "1   22  female  ...  (18.999, 28.0]   (4720.0, 18424.0]\n",
              "2   49    male  ...    (38.0, 75.0]    (1906.8, 2852.4]\n",
              "3   45    male  ...    (38.0, 75.0]   (4720.0, 18424.0]\n",
              "4   53    male  ...    (38.0, 75.0]   (4720.0, 18424.0]\n",
              "\n",
              "[5 rows x 13 columns]"
            ]
          },
          "metadata": {
            "tags": []
          },
          "execution_count": 132
        }
      ]
    },
    {
      "cell_type": "code",
      "metadata": {
        "colab": {
          "base_uri": "https://localhost:8080/",
          "height": 166
        },
        "id": "hagnw5zlzXTv",
        "outputId": "71b25a41-7d57-46fc-eeb1-5cd3899dca14"
      },
      "source": [
        "df.groupby('housing')['default'].agg(['count','mean'])"
      ],
      "execution_count": null,
      "outputs": [
        {
          "output_type": "execute_result",
          "data": {
            "text/html": [
              "<div>\n",
              "<style scoped>\n",
              "    .dataframe tbody tr th:only-of-type {\n",
              "        vertical-align: middle;\n",
              "    }\n",
              "\n",
              "    .dataframe tbody tr th {\n",
              "        vertical-align: top;\n",
              "    }\n",
              "\n",
              "    .dataframe thead th {\n",
              "        text-align: right;\n",
              "    }\n",
              "</style>\n",
              "<table border=\"1\" class=\"dataframe\">\n",
              "  <thead>\n",
              "    <tr style=\"text-align: right;\">\n",
              "      <th></th>\n",
              "      <th>count</th>\n",
              "      <th>mean</th>\n",
              "    </tr>\n",
              "    <tr>\n",
              "      <th>housing</th>\n",
              "      <th></th>\n",
              "      <th></th>\n",
              "    </tr>\n",
              "  </thead>\n",
              "  <tbody>\n",
              "    <tr>\n",
              "      <th>free</th>\n",
              "      <td>108</td>\n",
              "      <td>0.407407</td>\n",
              "    </tr>\n",
              "    <tr>\n",
              "      <th>own</th>\n",
              "      <td>713</td>\n",
              "      <td>0.260870</td>\n",
              "    </tr>\n",
              "    <tr>\n",
              "      <th>rent</th>\n",
              "      <td>179</td>\n",
              "      <td>0.391061</td>\n",
              "    </tr>\n",
              "  </tbody>\n",
              "</table>\n",
              "</div>"
            ],
            "text/plain": [
              "         count      mean\n",
              "housing                 \n",
              "free       108  0.407407\n",
              "own        713  0.260870\n",
              "rent       179  0.391061"
            ]
          },
          "metadata": {
            "tags": []
          },
          "execution_count": 133
        }
      ]
    },
    {
      "cell_type": "markdown",
      "metadata": {
        "id": "XrByooAkzbjj"
      },
      "source": [
        "Если дом в собственности, то дефолт гораздо ниже."
      ]
    },
    {
      "cell_type": "code",
      "metadata": {
        "colab": {
          "base_uri": "https://localhost:8080/",
          "height": 266
        },
        "id": "5N1GmrXczmwE",
        "outputId": "4a6fdb5e-41c5-45ad-bcae-2f0956b3de1d"
      },
      "source": [
        "df.head()"
      ],
      "execution_count": null,
      "outputs": [
        {
          "output_type": "execute_result",
          "data": {
            "text/html": [
              "<div>\n",
              "<style scoped>\n",
              "    .dataframe tbody tr th:only-of-type {\n",
              "        vertical-align: middle;\n",
              "    }\n",
              "\n",
              "    .dataframe tbody tr th {\n",
              "        vertical-align: top;\n",
              "    }\n",
              "\n",
              "    .dataframe thead th {\n",
              "        text-align: right;\n",
              "    }\n",
              "</style>\n",
              "<table border=\"1\" class=\"dataframe\">\n",
              "  <thead>\n",
              "    <tr style=\"text-align: right;\">\n",
              "      <th></th>\n",
              "      <th>age</th>\n",
              "      <th>sex</th>\n",
              "      <th>job</th>\n",
              "      <th>housing</th>\n",
              "      <th>saving_accounts</th>\n",
              "      <th>checking_account</th>\n",
              "      <th>credit_amount</th>\n",
              "      <th>duration</th>\n",
              "      <th>purpose</th>\n",
              "      <th>default</th>\n",
              "      <th>age_group</th>\n",
              "      <th>age_group2</th>\n",
              "      <th>credit_amount_group</th>\n",
              "    </tr>\n",
              "  </thead>\n",
              "  <tbody>\n",
              "    <tr>\n",
              "      <th>0</th>\n",
              "      <td>67</td>\n",
              "      <td>male</td>\n",
              "      <td>skilled</td>\n",
              "      <td>own</td>\n",
              "      <td>no_info</td>\n",
              "      <td>little</td>\n",
              "      <td>1169</td>\n",
              "      <td>6</td>\n",
              "      <td>radio/TV</td>\n",
              "      <td>0</td>\n",
              "      <td>(45.0, 75.0]</td>\n",
              "      <td>(38.0, 75.0]</td>\n",
              "      <td>(249.999, 1262.0]</td>\n",
              "    </tr>\n",
              "    <tr>\n",
              "      <th>1</th>\n",
              "      <td>22</td>\n",
              "      <td>female</td>\n",
              "      <td>skilled</td>\n",
              "      <td>own</td>\n",
              "      <td>little</td>\n",
              "      <td>moderate</td>\n",
              "      <td>5951</td>\n",
              "      <td>48</td>\n",
              "      <td>radio/TV</td>\n",
              "      <td>1</td>\n",
              "      <td>(18.999, 26.0]</td>\n",
              "      <td>(18.999, 28.0]</td>\n",
              "      <td>(4720.0, 18424.0]</td>\n",
              "    </tr>\n",
              "    <tr>\n",
              "      <th>2</th>\n",
              "      <td>49</td>\n",
              "      <td>male</td>\n",
              "      <td>unskilled and resident</td>\n",
              "      <td>own</td>\n",
              "      <td>little</td>\n",
              "      <td>no_info</td>\n",
              "      <td>2096</td>\n",
              "      <td>12</td>\n",
              "      <td>education</td>\n",
              "      <td>0</td>\n",
              "      <td>(45.0, 75.0]</td>\n",
              "      <td>(38.0, 75.0]</td>\n",
              "      <td>(1906.8, 2852.4]</td>\n",
              "    </tr>\n",
              "    <tr>\n",
              "      <th>3</th>\n",
              "      <td>45</td>\n",
              "      <td>male</td>\n",
              "      <td>skilled</td>\n",
              "      <td>free</td>\n",
              "      <td>little</td>\n",
              "      <td>little</td>\n",
              "      <td>7882</td>\n",
              "      <td>42</td>\n",
              "      <td>furniture/equipment</td>\n",
              "      <td>0</td>\n",
              "      <td>(36.0, 45.0]</td>\n",
              "      <td>(38.0, 75.0]</td>\n",
              "      <td>(4720.0, 18424.0]</td>\n",
              "    </tr>\n",
              "    <tr>\n",
              "      <th>4</th>\n",
              "      <td>53</td>\n",
              "      <td>male</td>\n",
              "      <td>skilled</td>\n",
              "      <td>free</td>\n",
              "      <td>little</td>\n",
              "      <td>little</td>\n",
              "      <td>4870</td>\n",
              "      <td>24</td>\n",
              "      <td>car</td>\n",
              "      <td>1</td>\n",
              "      <td>(45.0, 75.0]</td>\n",
              "      <td>(38.0, 75.0]</td>\n",
              "      <td>(4720.0, 18424.0]</td>\n",
              "    </tr>\n",
              "  </tbody>\n",
              "</table>\n",
              "</div>"
            ],
            "text/plain": [
              "   age     sex  ...      age_group2 credit_amount_group\n",
              "0   67    male  ...    (38.0, 75.0]   (249.999, 1262.0]\n",
              "1   22  female  ...  (18.999, 28.0]   (4720.0, 18424.0]\n",
              "2   49    male  ...    (38.0, 75.0]    (1906.8, 2852.4]\n",
              "3   45    male  ...    (38.0, 75.0]   (4720.0, 18424.0]\n",
              "4   53    male  ...    (38.0, 75.0]   (4720.0, 18424.0]\n",
              "\n",
              "[5 rows x 13 columns]"
            ]
          },
          "metadata": {
            "tags": []
          },
          "execution_count": 134
        }
      ]
    }
  ]
}