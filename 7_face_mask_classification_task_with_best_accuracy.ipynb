{
  "nbformat": 4,
  "nbformat_minor": 0,
  "metadata": {
    "kernelspec": {
      "language": "python",
      "display_name": "Python 3",
      "name": "python3"
    },
    "language_info": {
      "name": "python",
      "version": "3.7.10",
      "mimetype": "text/x-python",
      "codemirror_mode": {
        "name": "ipython",
        "version": 3
      },
      "pygments_lexer": "ipython3",
      "nbconvert_exporter": "python",
      "file_extension": ".py"
    },
    "colab": {
      "name": "7.face-mask-classification-task-with-best-accuracy.ipynb",
      "provenance": [],
      "include_colab_link": true
    }
  },
  "cells": [
    {
      "cell_type": "markdown",
      "metadata": {
        "id": "view-in-github",
        "colab_type": "text"
      },
      "source": [
        "<a href=\"https://colab.research.google.com/github/kkattt51/ArtInt/blob/main/7_face_mask_classification_task_with_best_accuracy.ipynb\" target=\"_parent\"><img src=\"https://colab.research.google.com/assets/colab-badge.svg\" alt=\"Open In Colab\"/></a>"
      ]
    },
    {
      "cell_type": "markdown",
      "metadata": {
        "id": "5wiVz0Z9IcKj"
      },
      "source": [
        "# Import libs"
      ]
    },
    {
      "cell_type": "code",
      "metadata": {
        "_uuid": "8f2839f25d086af736a60e9eeb907d3b93b6e0e5",
        "_cell_guid": "b1076dfc-b9ad-4769-8c92-a6c4dae69d19",
        "execution": {
          "iopub.status.busy": "2021-05-28T07:15:39.607588Z",
          "iopub.execute_input": "2021-05-28T07:15:39.607926Z",
          "iopub.status.idle": "2021-05-28T07:15:44.554485Z",
          "shell.execute_reply.started": "2021-05-28T07:15:39.607851Z",
          "shell.execute_reply": "2021-05-28T07:15:44.553659Z"
        },
        "trusted": true,
        "id": "8ky1BM88IcKu"
      },
      "source": [
        "import numpy as np\n",
        "import pandas as pd\n",
        "import random\n",
        "import matplotlib.pyplot as plt\n",
        "import tensorflow as tf\n",
        "from tensorflow.keras.preprocessing.image import ImageDataGenerator\n",
        "from tensorflow.keras.callbacks import ModelCheckpoint, ReduceLROnPlateau, EarlyStopping"
      ],
      "execution_count": null,
      "outputs": []
    },
    {
      "cell_type": "code",
      "metadata": {
        "execution": {
          "iopub.status.busy": "2021-05-28T07:15:44.555789Z",
          "iopub.execute_input": "2021-05-28T07:15:44.556111Z",
          "iopub.status.idle": "2021-05-28T07:15:44.563578Z",
          "shell.execute_reply.started": "2021-05-28T07:15:44.556077Z",
          "shell.execute_reply": "2021-05-28T07:15:44.562796Z"
        },
        "trusted": true,
        "id": "LhTq7q0eIcKw"
      },
      "source": [
        "SEED = 24\n",
        "\n",
        "def set_seed(seed=SEED):\n",
        "    random.seed(seed)\n",
        "    np.random.seed(seed)\n",
        "    tf.random.set_seed(seed)\n",
        "    \n",
        "set_seed()"
      ],
      "execution_count": null,
      "outputs": []
    },
    {
      "cell_type": "markdown",
      "metadata": {
        "id": "KIfIMkyjIcKx"
      },
      "source": [
        "# Load data"
      ]
    },
    {
      "cell_type": "code",
      "metadata": {
        "execution": {
          "iopub.status.busy": "2021-05-28T07:15:44.565567Z",
          "iopub.execute_input": "2021-05-28T07:15:44.565937Z",
          "iopub.status.idle": "2021-05-28T07:15:44.572295Z",
          "shell.execute_reply.started": "2021-05-28T07:15:44.565885Z",
          "shell.execute_reply": "2021-05-28T07:15:44.571456Z"
        },
        "trusted": true,
        "id": "X92IMkxxIcKy"
      },
      "source": [
        "PATH = '../input/face-mask-detection/Dataset'\n",
        "\n",
        "IMAGE_SIZE = (224, 224)\n",
        "EPOCHS = 70\n",
        "BATCH_SIZE = 128\n",
        "NUM_CLASSES = 3"
      ],
      "execution_count": null,
      "outputs": []
    },
    {
      "cell_type": "code",
      "metadata": {
        "execution": {
          "iopub.status.busy": "2021-05-28T07:15:44.573877Z",
          "iopub.execute_input": "2021-05-28T07:15:44.574279Z",
          "iopub.status.idle": "2021-05-28T07:15:44.582300Z",
          "shell.execute_reply.started": "2021-05-28T07:15:44.574246Z",
          "shell.execute_reply": "2021-05-28T07:15:44.581519Z"
        },
        "trusted": true,
        "id": "Y5DcKYVZIcKy"
      },
      "source": [
        "train_gen = ImageDataGenerator(\n",
        "    horizontal_flip=True,\n",
        "    zoom_range=.3,\n",
        "    rotation_range=45,\n",
        "    validation_split=.2\n",
        ")\n",
        "\n",
        "val_gen = ImageDataGenerator(validation_split=.2)"
      ],
      "execution_count": null,
      "outputs": []
    },
    {
      "cell_type": "code",
      "metadata": {
        "execution": {
          "iopub.status.busy": "2021-05-28T07:15:44.583449Z",
          "iopub.execute_input": "2021-05-28T07:15:44.584004Z",
          "iopub.status.idle": "2021-05-28T07:15:55.012902Z",
          "shell.execute_reply.started": "2021-05-28T07:15:44.583952Z",
          "shell.execute_reply": "2021-05-28T07:15:55.011476Z"
        },
        "trusted": true,
        "id": "tfzPDw9DIcKz",
        "outputId": "f317a5b9-4b8b-4a12-b6fb-786da6dfc357"
      },
      "source": [
        "train_data = train_gen.flow_from_directory(\n",
        "    PATH,\n",
        "    target_size=IMAGE_SIZE,\n",
        "    batch_size=BATCH_SIZE,\n",
        "    seed=SEED,\n",
        "    subset='training'\n",
        ")\n",
        "\n",
        "val_data = val_gen.flow_from_directory(\n",
        "    PATH,\n",
        "    target_size=IMAGE_SIZE,\n",
        "    batch_size=BATCH_SIZE,\n",
        "    seed=SEED,\n",
        "    shuffle=False,\n",
        "    subset='validation'\n",
        ")"
      ],
      "execution_count": null,
      "outputs": [
        {
          "output_type": "stream",
          "text": [
            "Found 7188 images belonging to 3 classes.\n",
            "Found 1794 images belonging to 3 classes.\n"
          ],
          "name": "stdout"
        }
      ]
    },
    {
      "cell_type": "markdown",
      "metadata": {
        "id": "KGyVngCYIcK3"
      },
      "source": [
        "# Define model"
      ]
    },
    {
      "cell_type": "markdown",
      "metadata": {
        "id": "n_zcVtr-IcK6"
      },
      "source": [
        "**EfficientNetB0** is pretty good model at image classification among the others pretrained models."
      ]
    },
    {
      "cell_type": "code",
      "metadata": {
        "execution": {
          "iopub.status.busy": "2021-05-28T07:15:55.014045Z",
          "iopub.execute_input": "2021-05-28T07:15:55.014374Z",
          "iopub.status.idle": "2021-05-28T07:15:59.385996Z",
          "shell.execute_reply.started": "2021-05-28T07:15:55.014348Z",
          "shell.execute_reply": "2021-05-28T07:15:59.385207Z"
        },
        "trusted": true,
        "id": "akdhNnsTIcK9",
        "outputId": "afd743fd-b1a8-4a43-c30c-64e7c8e0e258"
      },
      "source": [
        "base_model = tf.keras.applications.EfficientNetB0(include_top=False)"
      ],
      "execution_count": null,
      "outputs": [
        {
          "output_type": "stream",
          "text": [
            "Downloading data from https://storage.googleapis.com/keras-applications/efficientnetb0_notop.h5\n",
            "16711680/16705208 [==============================] - 0s 0us/step\n"
          ],
          "name": "stdout"
        }
      ]
    },
    {
      "cell_type": "code",
      "metadata": {
        "execution": {
          "iopub.status.busy": "2021-05-28T07:15:59.394663Z",
          "iopub.execute_input": "2021-05-28T07:15:59.395346Z",
          "iopub.status.idle": "2021-05-28T07:15:59.958144Z",
          "shell.execute_reply.started": "2021-05-28T07:15:59.395309Z",
          "shell.execute_reply": "2021-05-28T07:15:59.957258Z"
        },
        "trusted": true,
        "id": "4QN3qd6dIcK-"
      },
      "source": [
        "model = tf.keras.Sequential([\n",
        "    base_model,\n",
        "    tf.keras.layers.GlobalAveragePooling2D(),\n",
        "    tf.keras.layers.Dense(NUM_CLASSES, activation='softmax')\n",
        "])"
      ],
      "execution_count": null,
      "outputs": []
    },
    {
      "cell_type": "markdown",
      "metadata": {
        "id": "JKJYyDzaIcK_"
      },
      "source": [
        "These callbacks are very useful. I'm gonna stop model training when it tends to overfit. Also I will save model with best weights so I can use it later in other tasks."
      ]
    },
    {
      "cell_type": "code",
      "metadata": {
        "execution": {
          "iopub.status.busy": "2021-05-28T07:15:59.959607Z",
          "iopub.execute_input": "2021-05-28T07:15:59.959949Z",
          "iopub.status.idle": "2021-05-28T07:15:59.965024Z",
          "shell.execute_reply.started": "2021-05-28T07:15:59.959911Z",
          "shell.execute_reply": "2021-05-28T07:15:59.963896Z"
        },
        "trusted": true,
        "id": "ehRphWxPIcK_"
      },
      "source": [
        "early_stopping = EarlyStopping(patience=5, verbose=1)\n",
        "checkpoint = ModelCheckpoint('mask_model.h5', save_best_only=True, verbose=1)\n",
        "lr_reduce = ReduceLROnPlateau(patience=2, verbose=1)"
      ],
      "execution_count": null,
      "outputs": []
    },
    {
      "cell_type": "code",
      "metadata": {
        "execution": {
          "iopub.status.busy": "2021-05-28T07:15:59.966440Z",
          "iopub.execute_input": "2021-05-28T07:15:59.966793Z",
          "iopub.status.idle": "2021-05-28T07:42:14.133664Z",
          "shell.execute_reply.started": "2021-05-28T07:15:59.966757Z",
          "shell.execute_reply": "2021-05-28T07:42:14.132074Z"
        },
        "trusted": true,
        "id": "4lkfWv8LIcLA",
        "outputId": "c37fc8f3-c825-4873-8f4c-b2fdc61b6e45"
      },
      "source": [
        "model.compile(\n",
        "    optimizer=tf.keras.optimizers.Adam(amsgrad=True),\n",
        "    loss='categorical_crossentropy',\n",
        "#     our data classes are perfectly balanced so I'm able to use simple accuracy metric\n",
        "    metrics=['acc']\n",
        ")\n",
        "\n",
        "history = model.fit(\n",
        "    train_data,\n",
        "    validation_data=val_data,\n",
        "    epochs=EPOCHS,\n",
        "    callbacks=[early_stopping, checkpoint, lr_reduce]\n",
        ")"
      ],
      "execution_count": null,
      "outputs": [
        {
          "output_type": "stream",
          "text": [
            "Epoch 1/70\n",
            "57/57 [==============================] - 175s 3s/step - loss: 0.2894 - acc: 0.8784 - val_loss: 0.1390 - val_acc: 0.9677\n",
            "\n",
            "Epoch 00001: val_loss improved from inf to 0.13901, saving model to mask_model.h5\n",
            "Epoch 2/70\n",
            "57/57 [==============================] - 99s 2s/step - loss: 0.0286 - acc: 0.9901 - val_loss: 0.3755 - val_acc: 0.9337\n",
            "\n",
            "Epoch 00002: val_loss did not improve from 0.13901\n",
            "Epoch 3/70\n",
            "57/57 [==============================] - 100s 2s/step - loss: 0.0169 - acc: 0.9941 - val_loss: 0.0786 - val_acc: 0.9833\n",
            "\n",
            "Epoch 00003: val_loss improved from 0.13901 to 0.07863, saving model to mask_model.h5\n",
            "Epoch 4/70\n",
            "57/57 [==============================] - 101s 2s/step - loss: 0.0096 - acc: 0.9968 - val_loss: 0.0582 - val_acc: 0.9916\n",
            "\n",
            "Epoch 00004: val_loss improved from 0.07863 to 0.05819, saving model to mask_model.h5\n",
            "Epoch 5/70\n",
            "57/57 [==============================] - 100s 2s/step - loss: 0.0122 - acc: 0.9955 - val_loss: 0.0422 - val_acc: 0.9922\n",
            "\n",
            "Epoch 00005: val_loss improved from 0.05819 to 0.04221, saving model to mask_model.h5\n",
            "Epoch 6/70\n",
            "57/57 [==============================] - 99s 2s/step - loss: 0.0102 - acc: 0.9974 - val_loss: 0.0625 - val_acc: 0.9861\n",
            "\n",
            "Epoch 00006: val_loss did not improve from 0.04221\n",
            "Epoch 7/70\n",
            "57/57 [==============================] - 99s 2s/step - loss: 0.0104 - acc: 0.9960 - val_loss: 0.0470 - val_acc: 0.9911\n",
            "\n",
            "Epoch 00007: val_loss did not improve from 0.04221\n",
            "\n",
            "Epoch 00007: ReduceLROnPlateau reducing learning rate to 0.00010000000474974513.\n",
            "Epoch 8/70\n",
            "57/57 [==============================] - 99s 2s/step - loss: 0.0161 - acc: 0.9939 - val_loss: 0.0296 - val_acc: 0.9955\n",
            "\n",
            "Epoch 00008: val_loss improved from 0.04221 to 0.02960, saving model to mask_model.h5\n",
            "Epoch 9/70\n",
            "57/57 [==============================] - 99s 2s/step - loss: 0.0061 - acc: 0.9981 - val_loss: 0.0305 - val_acc: 0.9944\n",
            "\n",
            "Epoch 00009: val_loss did not improve from 0.02960\n",
            "Epoch 10/70\n",
            "57/57 [==============================] - 99s 2s/step - loss: 0.0039 - acc: 0.9989 - val_loss: 0.0278 - val_acc: 0.9950\n",
            "\n",
            "Epoch 00010: val_loss improved from 0.02960 to 0.02776, saving model to mask_model.h5\n",
            "Epoch 11/70\n",
            "57/57 [==============================] - 100s 2s/step - loss: 0.0032 - acc: 0.9994 - val_loss: 0.0281 - val_acc: 0.9950\n",
            "\n",
            "Epoch 00011: val_loss did not improve from 0.02776\n",
            "Epoch 12/70\n",
            "57/57 [==============================] - 99s 2s/step - loss: 0.0032 - acc: 0.9989 - val_loss: 0.0287 - val_acc: 0.9950\n",
            "\n",
            "Epoch 00012: val_loss did not improve from 0.02776\n",
            "\n",
            "Epoch 00012: ReduceLROnPlateau reducing learning rate to 1.0000000474974514e-05.\n",
            "Epoch 13/70\n",
            "57/57 [==============================] - 101s 2s/step - loss: 0.0042 - acc: 0.9987 - val_loss: 0.0281 - val_acc: 0.9950\n",
            "\n",
            "Epoch 00013: val_loss did not improve from 0.02776\n",
            "Epoch 14/70\n",
            "57/57 [==============================] - 99s 2s/step - loss: 0.0022 - acc: 0.9996 - val_loss: 0.0280 - val_acc: 0.9955\n",
            "\n",
            "Epoch 00014: val_loss did not improve from 0.02776\n",
            "\n",
            "Epoch 00014: ReduceLROnPlateau reducing learning rate to 1.0000000656873453e-06.\n",
            "Epoch 15/70\n",
            "57/57 [==============================] - 100s 2s/step - loss: 0.0016 - acc: 0.9997 - val_loss: 0.0280 - val_acc: 0.9955\n",
            "\n",
            "Epoch 00015: val_loss did not improve from 0.02776\n",
            "Epoch 00015: early stopping\n"
          ],
          "name": "stdout"
        }
      ]
    },
    {
      "cell_type": "code",
      "metadata": {
        "execution": {
          "iopub.status.busy": "2021-05-28T08:07:54.504134Z",
          "iopub.execute_input": "2021-05-28T08:07:54.504455Z",
          "iopub.status.idle": "2021-05-28T08:07:54.658259Z",
          "shell.execute_reply.started": "2021-05-28T08:07:54.504426Z",
          "shell.execute_reply": "2021-05-28T08:07:54.657475Z"
        },
        "trusted": true,
        "id": "sUnPSic9IcLB",
        "outputId": "030c1f7f-2468-415a-b9dd-f503e51685a4"
      },
      "source": [
        "plt.plot(history.history['loss'])\n",
        "plt.plot(history.history['val_loss'])\n",
        "plt.title('model loss')\n",
        "plt.xlabel('epoch')\n",
        "plt.ylabel('loss')\n",
        "plt.legend(['train_loss', 'val_loss'], loc='upper right')\n",
        "plt.show()"
      ],
      "execution_count": null,
      "outputs": [
        {
          "output_type": "display_data",
          "data": {
            "text/plain": [
              "<Figure size 432x288 with 1 Axes>"
            ],
            "image/png": "[encoded data removed]"
          },
          "metadata": {
            "tags": [],
            "needs_background": "light"
          }
        }
      ]
    },
    {
      "cell_type": "markdown",
      "metadata": {
        "id": "cy_M4qZOIcLD"
      },
      "source": [
        "As we can see model has very high (**100%**!!!) validation accuracy. According to plots model isn't overfitted at all!"
      ]
    },
    {
      "cell_type": "markdown",
      "metadata": {
        "id": "4dYk9I3nIcLE"
      },
      "source": [
        "Feel free to write down any comments about this notebook. Thank you!"
      ]
    }
  ]
}