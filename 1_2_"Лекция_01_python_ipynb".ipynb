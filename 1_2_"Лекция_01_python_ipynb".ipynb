{
  "nbformat": 4,
  "nbformat_minor": 0,
  "metadata": {
    "kernelspec": {
      "display_name": "Python 3",
      "language": "python",
      "name": "python3"
    },
    "language_info": {
      "codemirror_mode": {
        "name": "ipython",
        "version": 3
      },
      "file_extension": ".py",
      "mimetype": "text/x-python",
      "name": "python",
      "nbconvert_exporter": "python",
      "pygments_lexer": "ipython3",
      "version": "3.7.5"
    },
    "colab": {
      "name": "1.2 \"Лекция 01-python.ipynb\"",
      "provenance": [],
      "collapsed_sections": [],
      "include_colab_link": true
    }
  },
  "cells": [
    {
      "cell_type": "markdown",
      "metadata": {
        "id": "view-in-github",
        "colab_type": "text"
      },
      "source": [
        "<a href=\"https://colab.research.google.com/github/kkattt51/ArtInt/blob/main/1_2_%22%D0%9B%D0%B5%D0%BA%D1%86%D0%B8%D1%8F_01_python_ipynb%22.ipynb\" target=\"_parent\"><img src=\"https://colab.research.google.com/assets/colab-badge.svg\" alt=\"Open In Colab\"/></a>"
      ]
    },
    {
      "cell_type": "markdown",
      "metadata": {
        "id": "tYJufqLl0eIs"
      },
      "source": [
        "## Основы языка Python и приёмы работы с ним\n",
        "#### Широкий Владимир Романович, инженер ЛАМОД НИИЯФ МГУ\n",
        "#### 2021"
      ]
    },
    {
      "cell_type": "code",
      "metadata": {
        "id": "ecA1CkEfeiRj"
      },
      "source": [
        ""
      ],
      "execution_count": null,
      "outputs": []
    },
    {
      "cell_type": "markdown",
      "metadata": {
        "id": "uHAxa9EN0eIu"
      },
      "source": [
        "# Содержание\n",
        "1. обзор инструмента Colab\n",
        "3. Обзор базовых типов языка"
      ]
    },
    {
      "cell_type": "markdown",
      "metadata": {
        "id": "dCUhHJjd0eIx"
      },
      "source": [
        "# Jupyter\n",
        "\n",
        "* REPL\n",
        "* IPython 2001 https://ipython.org/\n",
        "* Jupyter 2014 https://jupyter.org/\n",
        "\n",
        "## Похожие продукты:\n",
        "* Matlab\n",
        "* Octave\n",
        "* Maple\n",
        "* Mathematica\n",
        "* Sage\n",
        "* **RStudio**\n",
        "\n",
        "## Преимущества\n",
        "* СПО\n",
        "* Работа по сети\n",
        "* легкая организация множества пользователей (jupyterhub)\n",
        "* Расширения (jupyterlab, nbextensions)\n",
        "* поддержка множества языков и расширений (**JU**lia **PYT**hon **R**)\n"
      ]
    },
    {
      "cell_type": "markdown",
      "metadata": {
        "id": "d_9Dhz_C0eIx"
      },
      "source": [
        "# Структура\n",
        "* read\n",
        "* eval\n",
        "* print\n",
        "* loop\n",
        "\n",
        "Все, что вводим - остается в текущей сессии до перезапуска ядра python (или другого языка)"
      ]
    },
    {
      "cell_type": "markdown",
      "metadata": {
        "id": "99TdfpnM0eIy"
      },
      "source": [
        "# Ячейки\n",
        "* бывают 3 типов - код, разметка и raw\n",
        "* в Colab - 2 типа, код и разметка\n",
        "\n",
        "* имеют нумерацию по порядку выполнения (затирается при многократном выполнении)"
      ]
    },
    {
      "cell_type": "code",
      "metadata": {
        "id": "iYyJFAlh0eIy"
      },
      "source": [
        "foo = \"Hello world\""
      ],
      "execution_count": null,
      "outputs": []
    },
    {
      "cell_type": "code",
      "metadata": {
        "id": "m5iiQ3yj0eIy"
      },
      "source": [
        "# вывод stdout\n",
        "print(foo)\n",
        "print(foo)\n",
        "print(foo)"
      ],
      "execution_count": null,
      "outputs": []
    },
    {
      "cell_type": "code",
      "metadata": {
        "id": "eFIcNYTMFtXN"
      },
      "source": [
        "\"\"\"\n",
        "большой\n",
        "многострочный\n",
        "комментарий\n",
        "\"\"\"\n",
        "print(foo)"
      ],
      "execution_count": null,
      "outputs": []
    },
    {
      "cell_type": "code",
      "metadata": {
        "id": "o7c75Uc20eI0"
      },
      "source": [
        "# вывод последней строки\n",
        "foo\n",
        "foo\n",
        "foo"
      ],
      "execution_count": null,
      "outputs": []
    },
    {
      "cell_type": "markdown",
      "metadata": {
        "id": "uXc3snkSBWvC"
      },
      "source": [
        "# Jupyter"
      ]
    },
    {
      "cell_type": "markdown",
      "metadata": {
        "id": "UCCDQru50eI2"
      },
      "source": [
        "# Экспорт\n",
        "* html\n",
        "* tex\n",
        "* pdf\n",
        "* .py файл (номера ячеек будут в виде комментариев, маркдаун так же будет в комментариях)\n",
        "* workdown (код будет соответствующе отрендерен)\n",
        "* и многие другие\n"
      ]
    },
    {
      "cell_type": "markdown",
      "metadata": {
        "id": "rTpKvHohGW5C"
      },
      "source": [
        ""
      ]
    },
    {
      "cell_type": "markdown",
      "metadata": {
        "id": "C4vXXGE5GX92"
      },
      "source": [
        ""
      ]
    },
    {
      "cell_type": "code",
      "metadata": {
        "id": "rnFSRXXvGYbV"
      },
      "source": [
        ""
      ],
      "execution_count": null,
      "outputs": []
    },
    {
      "cell_type": "code",
      "metadata": {
        "id": "fDiU6bVzGWgY"
      },
      "source": [
        ""
      ],
      "execution_count": null,
      "outputs": []
    },
    {
      "cell_type": "code",
      "metadata": {
        "id": "UD2gHO5JeYsa"
      },
      "source": [
        ""
      ],
      "execution_count": null,
      "outputs": []
    }
  ]
}