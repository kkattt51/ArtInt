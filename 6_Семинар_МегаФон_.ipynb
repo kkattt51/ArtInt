{
  "nbformat": 4,
  "nbformat_minor": 0,
  "metadata": {
    "colab": {
      "name": "6. Семинар_МегаФон_.ipynb",
      "provenance": [],
      "collapsed_sections": [],
      "toc_visible": true,
      "include_colab_link": true
    },
    "kernelspec": {
      "name": "python3",
      "display_name": "Python 3"
    },
    "language_info": {
      "name": "python"
    }
  },
  "cells": [
    {
      "cell_type": "markdown",
      "metadata": {
        "id": "view-in-github",
        "colab_type": "text"
      },
      "source": [
        "<a href=\"https://colab.research.google.com/github/kkattt51/ArtInt/blob/main/6_%D0%A1%D0%B5%D0%BC%D0%B8%D0%BD%D0%B0%D1%80_%D0%9C%D0%B5%D0%B3%D0%B0%D0%A4%D0%BE%D0%BD_.ipynb\" target=\"_parent\"><img src=\"https://colab.research.google.com/assets/colab-badge.svg\" alt=\"Open In Colab\"/></a>"
      ]
    },
    {
      "cell_type": "markdown",
      "metadata": {
        "id": "cIETUIiixWUM"
      },
      "source": [
        "## Моя первая модель ML"
      ]
    },
    {
      "cell_type": "markdown",
      "metadata": {
        "id": "hn7wYsRKttfP"
      },
      "source": [
        "В данном ноутбуке проводится демонстрация построения простой модели линейной регрессии с освещением основных этапов, из которых (обычно) состоит работа по обучению моделей. В данном ноутбуке не демоснтрируются абсолютно все возможные техники работы с данными, в т.ч. разведочный анализ, интелектуальный отбор признаков, подбор гиперпараметров, нормализация данных, проверка готовой модели на стабильность, подсчет метрик и т.д.\n",
        "\n",
        "**Что освещено:**\n",
        "\n",
        "* Разбиение выборки на обучающую и тестовую части\n",
        "\n",
        "* Предобработка категориальных признаков (+ пару слов о генерации новых признаков)\n",
        "\n",
        "* Описание линейной регрессии\n",
        "\n",
        "* Процесс обучения\n",
        "\n",
        "* Оценка качества модели\n"
      ]
    },
    {
      "cell_type": "code",
      "metadata": {
        "id": "epCbsVZT2tjl"
      },
      "source": [
        "import os\n",
        "\n",
        "import numpy as np\n",
        "import pandas as pd\n",
        "\n",
        "import torch\n",
        "import torch.nn as nn\n",
        "\n",
        "from sklearn.model_selection import train_test_split\n",
        "from sklearn.metrics import roc_auc_score, accuracy_score\n",
        "from sklearn.preprocessing import OneHotEncoder\n",
        "\n",
        "import matplotlib.pyplot as plt\n",
        "from IPython import display\n",
        "%matplotlib inline"
      ],
      "execution_count": null,
      "outputs": []
    },
    {
      "cell_type": "markdown",
      "metadata": {
        "id": "aH-WXmse2hLJ"
      },
      "source": [
        "### <font color=green> Получение данных"
      ]
    },
    {
      "cell_type": "markdown",
      "metadata": {
        "id": "FNnMgWAExrhs"
      },
      "source": [
        "Вы уже проводили аналитику данных датасета [California Housing](https://www.kaggle.com/c/house-prices-advanced-regression-techniques/data) в [лекции №4](https://www.youtube.com/watch?v=j8Q4yRmFd98) с Сергеем Шелепановым. Для изучения базовых приниципов построения моделей будем использовать тот же самый датасет. Я сохранил свой экземпляр с данными в Google Drive. Пробрасываю путь к нему и загружаю внутрь Colab"
      ]
    },
    {
      "cell_type": "code",
      "metadata": {
        "colab": {
          "base_uri": "https://localhost:8080/"
        },
        "id": "hXaglHmc-Qir",
        "outputId": "b38705e0-400f-4351-e54e-0fd914d78498"
      },
      "source": [
        "# делаю доступными файлы из моего Google Drive\n",
        "from google.colab import drive\n",
        "drive.mount(\"/content/drive\")"
      ],
      "execution_count": null,
      "outputs": [
        {
          "output_type": "stream",
          "text": [
            "Mounted at /content/drive\n"
          ],
          "name": "stdout"
        }
      ]
    },
    {
      "cell_type": "markdown",
      "metadata": {
        "id": "YMfanKS7rJ3t"
      },
      "source": [
        "<font color=red size=7>!</font> <font color=red> ниже в переменной `DRIVE_PATH` я сохраняю свой путь к данным. Если вы намерены попрактиковаться сами, то нужно указать свой путь к тому месту в облачном хранилище, где вы сохранили данные "
      ]
    },
    {
      "cell_type": "code",
      "metadata": {
        "colab": {
          "base_uri": "https://localhost:8080/"
        },
        "id": "sAAD3wrWAHIC",
        "outputId": "4a033e44-7a4e-4bf8-fe62-974521040205"
      },
      "source": [
        "DRIVE_PATH = os.path.join(os.getcwd(), 'drive', 'MyDrive', 'house-prices-advanced-regression-techniques')\n",
        "print(DRIVE_PATH)"
      ],
      "execution_count": null,
      "outputs": [
        {
          "output_type": "stream",
          "text": [
            "/content/drive/MyDrive/house-prices-advanced-regression-techniques\n"
          ],
          "name": "stdout"
        }
      ]
    },
    {
      "cell_type": "code",
      "metadata": {
        "colab": {
          "base_uri": "https://localhost:8080/",
          "height": 129
        },
        "id": "tI8Y9qoy1ocf",
        "outputId": "91057bda-80ef-4139-bc8d-fd8a05c65435"
      },
      "source": [
        "data = pd.read_csv(os.path.join(DRIVE_PATH, 'train.csv'))\n",
        "data.head(1)\n",
        "                          "
      ],
      "execution_count": null,
      "outputs": [
        {
          "output_type": "execute_result",
          "data": {
            "text/html": [
              "<div>\n",
              "<style scoped>\n",
              "    .dataframe tbody tr th:only-of-type {\n",
              "        vertical-align: middle;\n",
              "    }\n",
              "\n",
              "    .dataframe tbody tr th {\n",
              "        vertical-align: top;\n",
              "    }\n",
              "\n",
              "    .dataframe thead th {\n",
              "        text-align: right;\n",
              "    }\n",
              "</style>\n",
              "<table border=\"1\" class=\"dataframe\">\n",
              "  <thead>\n",
              "    <tr style=\"text-align: right;\">\n",
              "      <th></th>\n",
              "      <th>Id</th>\n",
              "      <th>MSSubClass</th>\n",
              "      <th>MSZoning</th>\n",
              "      <th>LotFrontage</th>\n",
              "      <th>LotArea</th>\n",
              "      <th>Street</th>\n",
              "      <th>Alley</th>\n",
              "      <th>LotShape</th>\n",
              "      <th>LandContour</th>\n",
              "      <th>Utilities</th>\n",
              "      <th>LotConfig</th>\n",
              "      <th>LandSlope</th>\n",
              "      <th>Neighborhood</th>\n",
              "      <th>Condition1</th>\n",
              "      <th>Condition2</th>\n",
              "      <th>BldgType</th>\n",
              "      <th>HouseStyle</th>\n",
              "      <th>OverallQual</th>\n",
              "      <th>OverallCond</th>\n",
              "      <th>YearBuilt</th>\n",
              "      <th>YearRemodAdd</th>\n",
              "      <th>RoofStyle</th>\n",
              "      <th>RoofMatl</th>\n",
              "      <th>Exterior1st</th>\n",
              "      <th>Exterior2nd</th>\n",
              "      <th>MasVnrType</th>\n",
              "      <th>MasVnrArea</th>\n",
              "      <th>ExterQual</th>\n",
              "      <th>ExterCond</th>\n",
              "      <th>Foundation</th>\n",
              "      <th>BsmtQual</th>\n",
              "      <th>BsmtCond</th>\n",
              "      <th>BsmtExposure</th>\n",
              "      <th>BsmtFinType1</th>\n",
              "      <th>BsmtFinSF1</th>\n",
              "      <th>BsmtFinType2</th>\n",
              "      <th>BsmtFinSF2</th>\n",
              "      <th>BsmtUnfSF</th>\n",
              "      <th>TotalBsmtSF</th>\n",
              "      <th>Heating</th>\n",
              "      <th>...</th>\n",
              "      <th>CentralAir</th>\n",
              "      <th>Electrical</th>\n",
              "      <th>1stFlrSF</th>\n",
              "      <th>2ndFlrSF</th>\n",
              "      <th>LowQualFinSF</th>\n",
              "      <th>GrLivArea</th>\n",
              "      <th>BsmtFullBath</th>\n",
              "      <th>BsmtHalfBath</th>\n",
              "      <th>FullBath</th>\n",
              "      <th>HalfBath</th>\n",
              "      <th>BedroomAbvGr</th>\n",
              "      <th>KitchenAbvGr</th>\n",
              "      <th>KitchenQual</th>\n",
              "      <th>TotRmsAbvGrd</th>\n",
              "      <th>Functional</th>\n",
              "      <th>Fireplaces</th>\n",
              "      <th>FireplaceQu</th>\n",
              "      <th>GarageType</th>\n",
              "      <th>GarageYrBlt</th>\n",
              "      <th>GarageFinish</th>\n",
              "      <th>GarageCars</th>\n",
              "      <th>GarageArea</th>\n",
              "      <th>GarageQual</th>\n",
              "      <th>GarageCond</th>\n",
              "      <th>PavedDrive</th>\n",
              "      <th>WoodDeckSF</th>\n",
              "      <th>OpenPorchSF</th>\n",
              "      <th>EnclosedPorch</th>\n",
              "      <th>3SsnPorch</th>\n",
              "      <th>ScreenPorch</th>\n",
              "      <th>PoolArea</th>\n",
              "      <th>PoolQC</th>\n",
              "      <th>Fence</th>\n",
              "      <th>MiscFeature</th>\n",
              "      <th>MiscVal</th>\n",
              "      <th>MoSold</th>\n",
              "      <th>YrSold</th>\n",
              "      <th>SaleType</th>\n",
              "      <th>SaleCondition</th>\n",
              "      <th>SalePrice</th>\n",
              "    </tr>\n",
              "  </thead>\n",
              "  <tbody>\n",
              "    <tr>\n",
              "      <th>0</th>\n",
              "      <td>1</td>\n",
              "      <td>60</td>\n",
              "      <td>RL</td>\n",
              "      <td>65.0</td>\n",
              "      <td>8450</td>\n",
              "      <td>Pave</td>\n",
              "      <td>NaN</td>\n",
              "      <td>Reg</td>\n",
              "      <td>Lvl</td>\n",
              "      <td>AllPub</td>\n",
              "      <td>Inside</td>\n",
              "      <td>Gtl</td>\n",
              "      <td>CollgCr</td>\n",
              "      <td>Norm</td>\n",
              "      <td>Norm</td>\n",
              "      <td>1Fam</td>\n",
              "      <td>2Story</td>\n",
              "      <td>7</td>\n",
              "      <td>5</td>\n",
              "      <td>2003</td>\n",
              "      <td>2003</td>\n",
              "      <td>Gable</td>\n",
              "      <td>CompShg</td>\n",
              "      <td>VinylSd</td>\n",
              "      <td>VinylSd</td>\n",
              "      <td>BrkFace</td>\n",
              "      <td>196.0</td>\n",
              "      <td>Gd</td>\n",
              "      <td>TA</td>\n",
              "      <td>PConc</td>\n",
              "      <td>Gd</td>\n",
              "      <td>TA</td>\n",
              "      <td>No</td>\n",
              "      <td>GLQ</td>\n",
              "      <td>706</td>\n",
              "      <td>Unf</td>\n",
              "      <td>0</td>\n",
              "      <td>150</td>\n",
              "      <td>856</td>\n",
              "      <td>GasA</td>\n",
              "      <td>...</td>\n",
              "      <td>Y</td>\n",
              "      <td>SBrkr</td>\n",
              "      <td>856</td>\n",
              "      <td>854</td>\n",
              "      <td>0</td>\n",
              "      <td>1710</td>\n",
              "      <td>1</td>\n",
              "      <td>0</td>\n",
              "      <td>2</td>\n",
              "      <td>1</td>\n",
              "      <td>3</td>\n",
              "      <td>1</td>\n",
              "      <td>Gd</td>\n",
              "      <td>8</td>\n",
              "      <td>Typ</td>\n",
              "      <td>0</td>\n",
              "      <td>NaN</td>\n",
              "      <td>Attchd</td>\n",
              "      <td>2003.0</td>\n",
              "      <td>RFn</td>\n",
              "      <td>2</td>\n",
              "      <td>548</td>\n",
              "      <td>TA</td>\n",
              "      <td>TA</td>\n",
              "      <td>Y</td>\n",
              "      <td>0</td>\n",
              "      <td>61</td>\n",
              "      <td>0</td>\n",
              "      <td>0</td>\n",
              "      <td>0</td>\n",
              "      <td>0</td>\n",
              "      <td>NaN</td>\n",
              "      <td>NaN</td>\n",
              "      <td>NaN</td>\n",
              "      <td>0</td>\n",
              "      <td>2</td>\n",
              "      <td>2008</td>\n",
              "      <td>WD</td>\n",
              "      <td>Normal</td>\n",
              "      <td>208500</td>\n",
              "    </tr>\n",
              "  </tbody>\n",
              "</table>\n",
              "<p>1 rows × 81 columns</p>\n",
              "</div>"
            ],
            "text/plain": [
              "   Id  MSSubClass MSZoning  ...  SaleType  SaleCondition SalePrice\n",
              "0   1          60       RL  ...        WD         Normal    208500\n",
              "\n",
              "[1 rows x 81 columns]"
            ]
          },
          "metadata": {
            "tags": []
          },
          "execution_count": 4
        }
      ]
    },
    {
      "cell_type": "code",
      "metadata": {
        "colab": {
          "base_uri": "https://localhost:8080/"
        },
        "id": "Vn5ImkZ_Fs8j",
        "outputId": "d0c09f72-1135-42fa-d323-470a94299851"
      },
      "source": [
        "# посмотрим на типы данных и заполненность\n",
        "data.info()"
      ],
      "execution_count": null,
      "outputs": [
        {
          "output_type": "stream",
          "text": [
            "<class 'pandas.core.frame.DataFrame'>\n",
            "RangeIndex: 1460 entries, 0 to 1459\n",
            "Data columns (total 81 columns):\n",
            " #   Column         Non-Null Count  Dtype  \n",
            "---  ------         --------------  -----  \n",
            " 0   Id             1460 non-null   int64  \n",
            " 1   MSSubClass     1460 non-null   int64  \n",
            " 2   MSZoning       1460 non-null   object \n",
            " 3   LotFrontage    1201 non-null   float64\n",
            " 4   LotArea        1460 non-null   int64  \n",
            " 5   Street         1460 non-null   object \n",
            " 6   Alley          91 non-null     object \n",
            " 7   LotShape       1460 non-null   object \n",
            " 8   LandContour    1460 non-null   object \n",
            " 9   Utilities      1460 non-null   object \n",
            " 10  LotConfig      1460 non-null   object \n",
            " 11  LandSlope      1460 non-null   object \n",
            " 12  Neighborhood   1460 non-null   object \n",
            " 13  Condition1     1460 non-null   object \n",
            " 14  Condition2     1460 non-null   object \n",
            " 15  BldgType       1460 non-null   object \n",
            " 16  HouseStyle     1460 non-null   object \n",
            " 17  OverallQual    1460 non-null   int64  \n",
            " 18  OverallCond    1460 non-null   int64  \n",
            " 19  YearBuilt      1460 non-null   int64  \n",
            " 20  YearRemodAdd   1460 non-null   int64  \n",
            " 21  RoofStyle      1460 non-null   object \n",
            " 22  RoofMatl       1460 non-null   object \n",
            " 23  Exterior1st    1460 non-null   object \n",
            " 24  Exterior2nd    1460 non-null   object \n",
            " 25  MasVnrType     1452 non-null   object \n",
            " 26  MasVnrArea     1452 non-null   float64\n",
            " 27  ExterQual      1460 non-null   object \n",
            " 28  ExterCond      1460 non-null   object \n",
            " 29  Foundation     1460 non-null   object \n",
            " 30  BsmtQual       1423 non-null   object \n",
            " 31  BsmtCond       1423 non-null   object \n",
            " 32  BsmtExposure   1422 non-null   object \n",
            " 33  BsmtFinType1   1423 non-null   object \n",
            " 34  BsmtFinSF1     1460 non-null   int64  \n",
            " 35  BsmtFinType2   1422 non-null   object \n",
            " 36  BsmtFinSF2     1460 non-null   int64  \n",
            " 37  BsmtUnfSF      1460 non-null   int64  \n",
            " 38  TotalBsmtSF    1460 non-null   int64  \n",
            " 39  Heating        1460 non-null   object \n",
            " 40  HeatingQC      1460 non-null   object \n",
            " 41  CentralAir     1460 non-null   object \n",
            " 42  Electrical     1459 non-null   object \n",
            " 43  1stFlrSF       1460 non-null   int64  \n",
            " 44  2ndFlrSF       1460 non-null   int64  \n",
            " 45  LowQualFinSF   1460 non-null   int64  \n",
            " 46  GrLivArea      1460 non-null   int64  \n",
            " 47  BsmtFullBath   1460 non-null   int64  \n",
            " 48  BsmtHalfBath   1460 non-null   int64  \n",
            " 49  FullBath       1460 non-null   int64  \n",
            " 50  HalfBath       1460 non-null   int64  \n",
            " 51  BedroomAbvGr   1460 non-null   int64  \n",
            " 52  KitchenAbvGr   1460 non-null   int64  \n",
            " 53  KitchenQual    1460 non-null   object \n",
            " 54  TotRmsAbvGrd   1460 non-null   int64  \n",
            " 55  Functional     1460 non-null   object \n",
            " 56  Fireplaces     1460 non-null   int64  \n",
            " 57  FireplaceQu    770 non-null    object \n",
            " 58  GarageType     1379 non-null   object \n",
            " 59  GarageYrBlt    1379 non-null   float64\n",
            " 60  GarageFinish   1379 non-null   object \n",
            " 61  GarageCars     1460 non-null   int64  \n",
            " 62  GarageArea     1460 non-null   int64  \n",
            " 63  GarageQual     1379 non-null   object \n",
            " 64  GarageCond     1379 non-null   object \n",
            " 65  PavedDrive     1460 non-null   object \n",
            " 66  WoodDeckSF     1460 non-null   int64  \n",
            " 67  OpenPorchSF    1460 non-null   int64  \n",
            " 68  EnclosedPorch  1460 non-null   int64  \n",
            " 69  3SsnPorch      1460 non-null   int64  \n",
            " 70  ScreenPorch    1460 non-null   int64  \n",
            " 71  PoolArea       1460 non-null   int64  \n",
            " 72  PoolQC         7 non-null      object \n",
            " 73  Fence          281 non-null    object \n",
            " 74  MiscFeature    54 non-null     object \n",
            " 75  MiscVal        1460 non-null   int64  \n",
            " 76  MoSold         1460 non-null   int64  \n",
            " 77  YrSold         1460 non-null   int64  \n",
            " 78  SaleType       1460 non-null   object \n",
            " 79  SaleCondition  1460 non-null   object \n",
            " 80  SalePrice      1460 non-null   int64  \n",
            "dtypes: float64(3), int64(35), object(43)\n",
            "memory usage: 924.0+ KB\n"
          ],
          "name": "stdout"
        }
      ]
    },
    {
      "cell_type": "code",
      "metadata": {
        "colab": {
          "base_uri": "https://localhost:8080/"
        },
        "id": "svZjIpniHZza",
        "outputId": "4f62dc5c-7a19-4d91-c841-97e2f2aef28b"
      },
      "source": [
        "# Похоже много категориальных признаков, оценим количество уникальных значений в категориях\n",
        "unique_values_dict = dict()\n",
        "for col in data.columns:\n",
        "  unique_values_dict[col] = len(data[col].unique())\n",
        "\n",
        "# сортирую признаки в убывающем порядке по числу уникальных значений\n",
        "# вывожу топ-30 признаков по числу уникальных значений\n",
        "sorted(unique_values_dict.items(), key=lambda item: item[1], reverse=True)[:30]"
      ],
      "execution_count": null,
      "outputs": [
        {
          "output_type": "execute_result",
          "data": {
            "text/plain": [
              "[('Id', 1460),\n",
              " ('LotArea', 1073),\n",
              " ('GrLivArea', 861),\n",
              " ('BsmtUnfSF', 780),\n",
              " ('1stFlrSF', 753),\n",
              " ('TotalBsmtSF', 721),\n",
              " ('SalePrice', 663),\n",
              " ('BsmtFinSF1', 637),\n",
              " ('GarageArea', 441),\n",
              " ('2ndFlrSF', 417),\n",
              " ('MasVnrArea', 328),\n",
              " ('WoodDeckSF', 274),\n",
              " ('OpenPorchSF', 202),\n",
              " ('BsmtFinSF2', 144),\n",
              " ('EnclosedPorch', 120),\n",
              " ('YearBuilt', 112),\n",
              " ('LotFrontage', 111),\n",
              " ('GarageYrBlt', 98),\n",
              " ('ScreenPorch', 76),\n",
              " ('YearRemodAdd', 61),\n",
              " ('Neighborhood', 25),\n",
              " ('LowQualFinSF', 24),\n",
              " ('MiscVal', 21),\n",
              " ('3SsnPorch', 20),\n",
              " ('Exterior2nd', 16),\n",
              " ('MSSubClass', 15),\n",
              " ('Exterior1st', 15),\n",
              " ('TotRmsAbvGrd', 12),\n",
              " ('MoSold', 12),\n",
              " ('OverallQual', 10)]"
            ]
          },
          "metadata": {
            "tags": []
          },
          "execution_count": 6
        }
      ]
    },
    {
      "cell_type": "markdown",
      "metadata": {
        "id": "iR9fIHDytUrp"
      },
      "source": [
        "<font color=red size=7>!</font> <font color=red> Для демонстрации того, как построить модель машинного обучения достаточно лишь некоторого числа доступных признаков"
      ]
    },
    {
      "cell_type": "code",
      "metadata": {
        "id": "Qo__UClTH6QH",
        "colab": {
          "base_uri": "https://localhost:8080/"
        },
        "outputId": "ae54437d-9eca-40c4-d2d3-8c3bf09bbd01"
      },
      "source": [
        "# отберу в качестве признаков только те, у которых не более 10 уникальных значений \n",
        "# а также вещественный признаки (отберу по типу данных)\n",
        "cat_features = [k for k, v in unique_values_dict.items() if v <= 10]\n",
        "print('Число категориальных переменных выбранных для задачи', len(cat_features))\n",
        "numeric_features = [col for col in data.columns if ( (data[col].dtype == np.float64)\n",
        "                                                   or (data[col].dtype == np.int64) ) \n",
        "                                                and col not in cat_features\n",
        "                                                and col != 'SalePrice'] # следим чтобы не было ликов\n",
        "print('Число вещественных переменных выбранных для задачи', len(numeric_features))"
      ],
      "execution_count": null,
      "outputs": [
        {
          "output_type": "stream",
          "text": [
            "Число категориальных переменных выбранных для задачи 52\n",
            "Число вещественных переменных выбранных для задачи 25\n"
          ],
          "name": "stdout"
        }
      ]
    },
    {
      "cell_type": "code",
      "metadata": {
        "id": "D9NgzKuCGa6w"
      },
      "source": [
        "# выделяю целевую переменную\n",
        "y = data['SalePrice']\n",
        "\n",
        "# выделяю сам датасет признаков по объектам\n",
        "X = data[cat_features + numeric_features]"
      ],
      "execution_count": null,
      "outputs": []
    },
    {
      "cell_type": "markdown",
      "metadata": {
        "id": "wGJGkeo9KsQ3"
      },
      "source": [
        "### <font color=green> Выделение подвыборок - трейна и теста"
      ]
    },
    {
      "cell_type": "markdown",
      "metadata": {
        "id": "7Q4gyqzGsN5D"
      },
      "source": [
        "Для честной оценки того, насколько хороша модель, обычно прибегают к выделению случайной тестовой части из доступных данных. Таким образом модель учится на тренировочном наборе, а оценивается на тестовом наборе, который она \"ни разу не видела\" и который не участвовал в обучении. Таким образом, оценки качества модели получаются честными, т.к. мы исключаем возможность \"запоминания\" моделью конкретных объектов и их меток. "
      ]
    },
    {
      "cell_type": "code",
      "metadata": {
        "id": "pK2E4IF5K2Ko",
        "colab": {
          "base_uri": "https://localhost:8080/"
        },
        "outputId": "d4aa78df-e20a-4145-f1f2-2d4a333f82ef"
      },
      "source": [
        "# выделяем 30% случайных объектов в тестовую выборку\n",
        "X_train, X_test, y_train, y_test = train_test_split(X, y, test_size=0.3, random_state=1111)\n",
        "print('Размер тренировочной выборки', X_train.shape)\n",
        "print('Размер тестовой выборки', X_test.shape)"
      ],
      "execution_count": null,
      "outputs": [
        {
          "output_type": "stream",
          "text": [
            "Размер тренировочной выборки (1022, 77)\n",
            "Размер тестовой выборки (438, 77)\n"
          ],
          "name": "stdout"
        }
      ]
    },
    {
      "cell_type": "markdown",
      "metadata": {
        "id": "JibcHQ4EFDps"
      },
      "source": [
        "### <font color=green> Небольшая предобработка"
      ]
    },
    {
      "cell_type": "code",
      "metadata": {
        "colab": {
          "base_uri": "https://localhost:8080/"
        },
        "id": "OA7pw7mMz_7Q",
        "outputId": "f8b74176-21fb-46b1-bbc0-0a9fef61b652"
      },
      "source": [
        "# Некоторые модели умеют работать с пропущенными значениями, другие - нет\n",
        "# в нашем случае, не умеет, поэтому заменим пропущенные значения на 'Unknown' для категориальных признаков и средним значением для вещественных\n",
        "for col in cat_features:\n",
        "  X_train[col] = X_train[col].fillna('Unknown')\n",
        "  X_test[col] = X_test[col].fillna('Unknown')\n",
        "\n",
        "# в тестовой выборке заполнение пустот идет средними значениями тренировочного датасета, т.к. мы соблюдаем принцип, что модель \"не видит\" тестовую выборку\n",
        "# и не использует ни каких значений оттуда\n",
        "for col in numeric_features:\n",
        "  X_train[col] = X_train[col].fillna(X_train[col].mean())\n",
        "  X_test[col] = X_test[col].fillna(X_train[col].mean())"
      ],
      "execution_count": null,
      "outputs": [
        {
          "output_type": "stream",
          "text": [
            "/usr/local/lib/python3.7/dist-packages/ipykernel_launcher.py:4: SettingWithCopyWarning: \n",
            "A value is trying to be set on a copy of a slice from a DataFrame.\n",
            "Try using .loc[row_indexer,col_indexer] = value instead\n",
            "\n",
            "See the caveats in the documentation: https://pandas.pydata.org/pandas-docs/stable/user_guide/indexing.html#returning-a-view-versus-a-copy\n",
            "  after removing the cwd from sys.path.\n",
            "/usr/local/lib/python3.7/dist-packages/ipykernel_launcher.py:5: SettingWithCopyWarning: \n",
            "A value is trying to be set on a copy of a slice from a DataFrame.\n",
            "Try using .loc[row_indexer,col_indexer] = value instead\n",
            "\n",
            "See the caveats in the documentation: https://pandas.pydata.org/pandas-docs/stable/user_guide/indexing.html#returning-a-view-versus-a-copy\n",
            "  \"\"\"\n",
            "/usr/local/lib/python3.7/dist-packages/ipykernel_launcher.py:10: SettingWithCopyWarning: \n",
            "A value is trying to be set on a copy of a slice from a DataFrame.\n",
            "Try using .loc[row_indexer,col_indexer] = value instead\n",
            "\n",
            "See the caveats in the documentation: https://pandas.pydata.org/pandas-docs/stable/user_guide/indexing.html#returning-a-view-versus-a-copy\n",
            "  # Remove the CWD from sys.path while we load stuff.\n",
            "/usr/local/lib/python3.7/dist-packages/ipykernel_launcher.py:11: SettingWithCopyWarning: \n",
            "A value is trying to be set on a copy of a slice from a DataFrame.\n",
            "Try using .loc[row_indexer,col_indexer] = value instead\n",
            "\n",
            "See the caveats in the documentation: https://pandas.pydata.org/pandas-docs/stable/user_guide/indexing.html#returning-a-view-versus-a-copy\n",
            "  # This is added back by InteractiveShellApp.init_path()\n"
          ],
          "name": "stderr"
        }
      ]
    },
    {
      "cell_type": "markdown",
      "metadata": {
        "id": "UtQvz1sTA9AF"
      },
      "source": [
        "Данные представляют из себя кучу категориальных признаков. Один из шагов при построении модели - обработка подобных признаков. Буду использовать самый простой вариант - **OneHotEncoding**: каждый признак (столбик с данными) расскладывается на набор столбцов (по числу уникальных значений признака), в каждом из которых единицей отмечается, то значение признака, которое наблюдалось у объекта: "
      ]
    },
    {
      "cell_type": "markdown",
      "metadata": {
        "id": "IfWz8TOND4hd"
      },
      "source": [
        "![OneHot.png](data:image/png;base64,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)"
      ]
    },
    {
      "cell_type": "markdown",
      "metadata": {
        "id": "IiVl9aJmEXJD"
      },
      "source": [
        "Такая обработка категориальных признаков позволяет перейти к числам, которые уже может воспринимать компьютер."
      ]
    },
    {
      "cell_type": "markdown",
      "metadata": {
        "id": "bcfi36rdxBe4"
      },
      "source": [
        "<font color=red size=7>!</font> <font color=red> Нельзя простой сопоставить каждому категориальному признаку число! Допустим, что Москва=1, Курган=2, Уфа=3. Следует ли из этого, что Москва+Курган=Уфа? Нет, конечно! Нельзя вводить отношение порядка для категориальных признаков!"
      ]
    },
    {
      "cell_type": "markdown",
      "metadata": {
        "id": "tOfP9HO6Ea8w"
      },
      "source": [
        "Удобную реализацию такого перехода предоставляет инструмент `sklearn.preprocessing.OneHotEncoder`, которому правильно сначала показать доступный набор категориальных признаков и их значений на обучающей выборке, а затем уже можно применять (и кодировать) к тестовой выборке."
      ]
    },
    {
      "cell_type": "code",
      "metadata": {
        "id": "bKSDmBOKECaI",
        "colab": {
          "base_uri": "https://localhost:8080/"
        },
        "outputId": "2b57df67-d3bd-4216-fe21-01bf3312bd36"
      },
      "source": [
        "# Инициализирую энкодер\n",
        "oh = OneHotEncoder(sparse=False, handle_unknown='ignore')\n",
        "# обучаю его (показываю какие бывают категориальные признаки и их значения на обучающей выборке)\n",
        "oh.fit_transform(X_train.loc[:, cat_features].astype('string'))\n",
        "\n",
        "oh_feature_cats_in_model = []\n",
        "for i, col in enumerate(cat_features):\n",
        "  oh_feature_cats_in_model += [f'{col}_{x}' for x in oh.categories_[i]]\n",
        "\n",
        "X_train_oh = oh.transform(X_train.loc[:, cat_features].astype('string')).astype('int32')\n",
        "X_train_oh = pd.DataFrame(X_train_oh, index = X_train.index, columns = oh_feature_cats_in_model)\n",
        "\n",
        "X_test_oh = oh.transform(X_test.loc[:, cat_features].astype('string')).astype('int32')\n",
        "X_test_oh = pd.DataFrame(X_test_oh, index = X_test.index, columns = oh_feature_cats_in_model)\n",
        "\n",
        "X_train = X_train.loc[:, numeric_features].merge(X_train_oh, left_index=True, right_index=True)\n",
        "X_test = X_test.loc[:, numeric_features].merge(X_test_oh, left_index=True, right_index=True)\n",
        "\n",
        "print('Итоговый размер матрицы признаков X_train', X_train.shape)\n",
        "print('Итоговый размер матрицы признаков X_test', X_test.shape)"
      ],
      "execution_count": null,
      "outputs": [
        {
          "output_type": "stream",
          "text": [
            "Итоговый размер матрицы признаков X_train (1022, 295)\n",
            "Итоговый размер матрицы признаков X_test (438, 295)\n"
          ],
          "name": "stdout"
        }
      ]
    },
    {
      "cell_type": "code",
      "metadata": {
        "colab": {
          "base_uri": "https://localhost:8080/",
          "height": 208
        },
        "id": "Blt4EQ2H9JQ_",
        "outputId": "e149e936-a87c-4877-a745-0a1d50ccdf89"
      },
      "source": [
        "X_train.head(3)"
      ],
      "execution_count": null,
      "outputs": [
        {
          "output_type": "execute_result",
          "data": {
            "text/html": [
              "<div>\n",
              "<style scoped>\n",
              "    .dataframe tbody tr th:only-of-type {\n",
              "        vertical-align: middle;\n",
              "    }\n",
              "\n",
              "    .dataframe tbody tr th {\n",
              "        vertical-align: top;\n",
              "    }\n",
              "\n",
              "    .dataframe thead th {\n",
              "        text-align: right;\n",
              "    }\n",
              "</style>\n",
              "<table border=\"1\" class=\"dataframe\">\n",
              "  <thead>\n",
              "    <tr style=\"text-align: right;\">\n",
              "      <th></th>\n",
              "      <th>Id</th>\n",
              "      <th>MSSubClass</th>\n",
              "      <th>LotFrontage</th>\n",
              "      <th>LotArea</th>\n",
              "      <th>YearBuilt</th>\n",
              "      <th>YearRemodAdd</th>\n",
              "      <th>MasVnrArea</th>\n",
              "      <th>BsmtFinSF1</th>\n",
              "      <th>BsmtFinSF2</th>\n",
              "      <th>BsmtUnfSF</th>\n",
              "      <th>TotalBsmtSF</th>\n",
              "      <th>1stFlrSF</th>\n",
              "      <th>2ndFlrSF</th>\n",
              "      <th>LowQualFinSF</th>\n",
              "      <th>GrLivArea</th>\n",
              "      <th>TotRmsAbvGrd</th>\n",
              "      <th>GarageYrBlt</th>\n",
              "      <th>GarageArea</th>\n",
              "      <th>WoodDeckSF</th>\n",
              "      <th>OpenPorchSF</th>\n",
              "      <th>EnclosedPorch</th>\n",
              "      <th>3SsnPorch</th>\n",
              "      <th>ScreenPorch</th>\n",
              "      <th>MiscVal</th>\n",
              "      <th>MoSold</th>\n",
              "      <th>MSZoning_C (all)</th>\n",
              "      <th>MSZoning_FV</th>\n",
              "      <th>MSZoning_RH</th>\n",
              "      <th>MSZoning_RL</th>\n",
              "      <th>MSZoning_RM</th>\n",
              "      <th>Street_Grvl</th>\n",
              "      <th>Street_Pave</th>\n",
              "      <th>Alley_Grvl</th>\n",
              "      <th>Alley_Pave</th>\n",
              "      <th>Alley_Unknown</th>\n",
              "      <th>LotShape_IR1</th>\n",
              "      <th>LotShape_IR2</th>\n",
              "      <th>LotShape_IR3</th>\n",
              "      <th>LotShape_Reg</th>\n",
              "      <th>LandContour_Bnk</th>\n",
              "      <th>...</th>\n",
              "      <th>PoolArea_0</th>\n",
              "      <th>PoolArea_480</th>\n",
              "      <th>PoolArea_519</th>\n",
              "      <th>PoolArea_555</th>\n",
              "      <th>PoolArea_576</th>\n",
              "      <th>PoolArea_648</th>\n",
              "      <th>PoolArea_738</th>\n",
              "      <th>PoolQC_Ex</th>\n",
              "      <th>PoolQC_Fa</th>\n",
              "      <th>PoolQC_Gd</th>\n",
              "      <th>PoolQC_Unknown</th>\n",
              "      <th>Fence_GdPrv</th>\n",
              "      <th>Fence_GdWo</th>\n",
              "      <th>Fence_MnPrv</th>\n",
              "      <th>Fence_MnWw</th>\n",
              "      <th>Fence_Unknown</th>\n",
              "      <th>MiscFeature_Othr</th>\n",
              "      <th>MiscFeature_Shed</th>\n",
              "      <th>MiscFeature_TenC</th>\n",
              "      <th>MiscFeature_Unknown</th>\n",
              "      <th>YrSold_2006</th>\n",
              "      <th>YrSold_2007</th>\n",
              "      <th>YrSold_2008</th>\n",
              "      <th>YrSold_2009</th>\n",
              "      <th>YrSold_2010</th>\n",
              "      <th>SaleType_COD</th>\n",
              "      <th>SaleType_CWD</th>\n",
              "      <th>SaleType_Con</th>\n",
              "      <th>SaleType_ConLD</th>\n",
              "      <th>SaleType_ConLI</th>\n",
              "      <th>SaleType_ConLw</th>\n",
              "      <th>SaleType_New</th>\n",
              "      <th>SaleType_Oth</th>\n",
              "      <th>SaleType_WD</th>\n",
              "      <th>SaleCondition_Abnorml</th>\n",
              "      <th>SaleCondition_AdjLand</th>\n",
              "      <th>SaleCondition_Alloca</th>\n",
              "      <th>SaleCondition_Family</th>\n",
              "      <th>SaleCondition_Normal</th>\n",
              "      <th>SaleCondition_Partial</th>\n",
              "    </tr>\n",
              "  </thead>\n",
              "  <tbody>\n",
              "    <tr>\n",
              "      <th>285</th>\n",
              "      <td>286</td>\n",
              "      <td>160</td>\n",
              "      <td>35.0</td>\n",
              "      <td>4251</td>\n",
              "      <td>2006</td>\n",
              "      <td>2007</td>\n",
              "      <td>0.0</td>\n",
              "      <td>0</td>\n",
              "      <td>0</td>\n",
              "      <td>625</td>\n",
              "      <td>625</td>\n",
              "      <td>625</td>\n",
              "      <td>625</td>\n",
              "      <td>0</td>\n",
              "      <td>1250</td>\n",
              "      <td>5</td>\n",
              "      <td>2006.0</td>\n",
              "      <td>528</td>\n",
              "      <td>0</td>\n",
              "      <td>54</td>\n",
              "      <td>0</td>\n",
              "      <td>0</td>\n",
              "      <td>0</td>\n",
              "      <td>0</td>\n",
              "      <td>6</td>\n",
              "      <td>0</td>\n",
              "      <td>1</td>\n",
              "      <td>0</td>\n",
              "      <td>0</td>\n",
              "      <td>0</td>\n",
              "      <td>0</td>\n",
              "      <td>1</td>\n",
              "      <td>0</td>\n",
              "      <td>1</td>\n",
              "      <td>0</td>\n",
              "      <td>1</td>\n",
              "      <td>0</td>\n",
              "      <td>0</td>\n",
              "      <td>0</td>\n",
              "      <td>0</td>\n",
              "      <td>...</td>\n",
              "      <td>1</td>\n",
              "      <td>0</td>\n",
              "      <td>0</td>\n",
              "      <td>0</td>\n",
              "      <td>0</td>\n",
              "      <td>0</td>\n",
              "      <td>0</td>\n",
              "      <td>0</td>\n",
              "      <td>0</td>\n",
              "      <td>0</td>\n",
              "      <td>1</td>\n",
              "      <td>0</td>\n",
              "      <td>0</td>\n",
              "      <td>0</td>\n",
              "      <td>0</td>\n",
              "      <td>1</td>\n",
              "      <td>0</td>\n",
              "      <td>0</td>\n",
              "      <td>0</td>\n",
              "      <td>1</td>\n",
              "      <td>0</td>\n",
              "      <td>1</td>\n",
              "      <td>0</td>\n",
              "      <td>0</td>\n",
              "      <td>0</td>\n",
              "      <td>0</td>\n",
              "      <td>0</td>\n",
              "      <td>0</td>\n",
              "      <td>0</td>\n",
              "      <td>0</td>\n",
              "      <td>0</td>\n",
              "      <td>1</td>\n",
              "      <td>0</td>\n",
              "      <td>0</td>\n",
              "      <td>0</td>\n",
              "      <td>0</td>\n",
              "      <td>0</td>\n",
              "      <td>0</td>\n",
              "      <td>0</td>\n",
              "      <td>1</td>\n",
              "    </tr>\n",
              "    <tr>\n",
              "      <th>1359</th>\n",
              "      <td>1360</td>\n",
              "      <td>20</td>\n",
              "      <td>129.0</td>\n",
              "      <td>16737</td>\n",
              "      <td>2004</td>\n",
              "      <td>2005</td>\n",
              "      <td>66.0</td>\n",
              "      <td>1447</td>\n",
              "      <td>0</td>\n",
              "      <td>533</td>\n",
              "      <td>1980</td>\n",
              "      <td>1980</td>\n",
              "      <td>0</td>\n",
              "      <td>0</td>\n",
              "      <td>1980</td>\n",
              "      <td>8</td>\n",
              "      <td>2004.0</td>\n",
              "      <td>770</td>\n",
              "      <td>194</td>\n",
              "      <td>45</td>\n",
              "      <td>0</td>\n",
              "      <td>0</td>\n",
              "      <td>0</td>\n",
              "      <td>0</td>\n",
              "      <td>9</td>\n",
              "      <td>0</td>\n",
              "      <td>0</td>\n",
              "      <td>0</td>\n",
              "      <td>1</td>\n",
              "      <td>0</td>\n",
              "      <td>0</td>\n",
              "      <td>1</td>\n",
              "      <td>0</td>\n",
              "      <td>0</td>\n",
              "      <td>1</td>\n",
              "      <td>0</td>\n",
              "      <td>0</td>\n",
              "      <td>0</td>\n",
              "      <td>1</td>\n",
              "      <td>0</td>\n",
              "      <td>...</td>\n",
              "      <td>1</td>\n",
              "      <td>0</td>\n",
              "      <td>0</td>\n",
              "      <td>0</td>\n",
              "      <td>0</td>\n",
              "      <td>0</td>\n",
              "      <td>0</td>\n",
              "      <td>0</td>\n",
              "      <td>0</td>\n",
              "      <td>0</td>\n",
              "      <td>1</td>\n",
              "      <td>0</td>\n",
              "      <td>0</td>\n",
              "      <td>0</td>\n",
              "      <td>0</td>\n",
              "      <td>1</td>\n",
              "      <td>0</td>\n",
              "      <td>0</td>\n",
              "      <td>0</td>\n",
              "      <td>1</td>\n",
              "      <td>1</td>\n",
              "      <td>0</td>\n",
              "      <td>0</td>\n",
              "      <td>0</td>\n",
              "      <td>0</td>\n",
              "      <td>0</td>\n",
              "      <td>0</td>\n",
              "      <td>0</td>\n",
              "      <td>0</td>\n",
              "      <td>0</td>\n",
              "      <td>0</td>\n",
              "      <td>0</td>\n",
              "      <td>0</td>\n",
              "      <td>1</td>\n",
              "      <td>0</td>\n",
              "      <td>0</td>\n",
              "      <td>0</td>\n",
              "      <td>0</td>\n",
              "      <td>1</td>\n",
              "      <td>0</td>\n",
              "    </tr>\n",
              "    <tr>\n",
              "      <th>304</th>\n",
              "      <td>305</td>\n",
              "      <td>75</td>\n",
              "      <td>87.0</td>\n",
              "      <td>18386</td>\n",
              "      <td>1880</td>\n",
              "      <td>2002</td>\n",
              "      <td>0.0</td>\n",
              "      <td>0</td>\n",
              "      <td>0</td>\n",
              "      <td>1470</td>\n",
              "      <td>1470</td>\n",
              "      <td>1675</td>\n",
              "      <td>1818</td>\n",
              "      <td>0</td>\n",
              "      <td>3493</td>\n",
              "      <td>10</td>\n",
              "      <td>2003.0</td>\n",
              "      <td>870</td>\n",
              "      <td>302</td>\n",
              "      <td>0</td>\n",
              "      <td>0</td>\n",
              "      <td>0</td>\n",
              "      <td>0</td>\n",
              "      <td>0</td>\n",
              "      <td>5</td>\n",
              "      <td>0</td>\n",
              "      <td>0</td>\n",
              "      <td>0</td>\n",
              "      <td>0</td>\n",
              "      <td>1</td>\n",
              "      <td>0</td>\n",
              "      <td>1</td>\n",
              "      <td>0</td>\n",
              "      <td>0</td>\n",
              "      <td>1</td>\n",
              "      <td>0</td>\n",
              "      <td>0</td>\n",
              "      <td>0</td>\n",
              "      <td>1</td>\n",
              "      <td>0</td>\n",
              "      <td>...</td>\n",
              "      <td>1</td>\n",
              "      <td>0</td>\n",
              "      <td>0</td>\n",
              "      <td>0</td>\n",
              "      <td>0</td>\n",
              "      <td>0</td>\n",
              "      <td>0</td>\n",
              "      <td>0</td>\n",
              "      <td>0</td>\n",
              "      <td>0</td>\n",
              "      <td>1</td>\n",
              "      <td>0</td>\n",
              "      <td>0</td>\n",
              "      <td>0</td>\n",
              "      <td>0</td>\n",
              "      <td>1</td>\n",
              "      <td>0</td>\n",
              "      <td>0</td>\n",
              "      <td>0</td>\n",
              "      <td>1</td>\n",
              "      <td>0</td>\n",
              "      <td>0</td>\n",
              "      <td>1</td>\n",
              "      <td>0</td>\n",
              "      <td>0</td>\n",
              "      <td>0</td>\n",
              "      <td>0</td>\n",
              "      <td>0</td>\n",
              "      <td>0</td>\n",
              "      <td>0</td>\n",
              "      <td>0</td>\n",
              "      <td>0</td>\n",
              "      <td>0</td>\n",
              "      <td>1</td>\n",
              "      <td>0</td>\n",
              "      <td>0</td>\n",
              "      <td>0</td>\n",
              "      <td>0</td>\n",
              "      <td>1</td>\n",
              "      <td>0</td>\n",
              "    </tr>\n",
              "  </tbody>\n",
              "</table>\n",
              "<p>3 rows × 295 columns</p>\n",
              "</div>"
            ],
            "text/plain": [
              "        Id  MSSubClass  ...  SaleCondition_Normal  SaleCondition_Partial\n",
              "285    286         160  ...                     0                      1\n",
              "1359  1360          20  ...                     1                      0\n",
              "304    305          75  ...                     1                      0\n",
              "\n",
              "[3 rows x 295 columns]"
            ]
          },
          "metadata": {
            "tags": []
          },
          "execution_count": 12
        }
      ]
    },
    {
      "cell_type": "markdown",
      "metadata": {
        "id": "rSl6WM--9TCK"
      },
      "source": [
        "<font color=red size=7>!</font> <font color=red>  Линейная модель является самой примитивной и не умеет сама искать сочетания признаков, умеет лишь оценивать влияние отдельного признака на значение целевой переменной, игнорируя возможные эффекты от сочетания признаков. Поможем ей, сгенерировав кросс-признаки. Игрушечный пример: пусть есть два бинарных признака \"В доме есть отопление\" (Да/Нет), \"В доме есть электричество\" (Да/Нет). Данные переменные имеют смысл, если только встречаются \"вместе\", т.к. дом без отопления, но с электричеством также бесполезен, как дом с электричеством, но без отопления, поэтому имеет смысл сделать переменную \"В доме есть все коммуникации - и электричество и отопление\", перемножив две переменные выше.\n",
        "\n",
        "Вы можете попробовать сами создать такие атрибуты и проверить их полезность для модели. Удобно использовать `sklearn.preprocessing.PolynomialFeatures` для этого"
      ]
    },
    {
      "cell_type": "markdown",
      "metadata": {
        "id": "gVsxO5NVA4KU"
      },
      "source": [
        "### <font color=green> Задание линейной модели и обучение"
      ]
    },
    {
      "cell_type": "markdown",
      "metadata": {
        "id": "QIrMoIWjBFf6"
      },
      "source": [
        "Существует большое количество реализованных моделей линейной регрессии, например `scipy.stats.linregress` или `sklearn.linear_model.LinearRegression`, которые внутри себя уже имплементировали всё: от определения линейной модели, до процессов обучения, но мы в педагогических целях, чтобы закрепить понимание того, как модели обучаются шаг-за-шагом, напишем простую реализацию на `PyTorch` (хотя этот фреймворк обычно и не используется для подобного рода простейших моделей). Код ниже представляет собой типичную реализацию модели средствами `PyTorch`, предоставляя возможность описать компоненты модели, то, что она будет делать, как она будет учиться, какой функционал ошибки минимизировать и т.д."
      ]
    },
    {
      "cell_type": "markdown",
      "metadata": {
        "id": "1RT7GaVoHGRL"
      },
      "source": [
        "Модель линейной регрессии в частном случае, когда мы пытаемся найти зависимость одной переменной от другой выглядит как $\\hat{y} = b + kx$ или ещё проще: $\\hat{y} = kx$.\n",
        "\n",
        "В нашем же случае мы пытаемся предсказать цену дома, в зависимости от большого числа признаков, поэтому $x$ будет не один, а их будет много:\n",
        "\n",
        "$$\\hat{y} = b + a^{(1)}x^{(1)}+a^{(2)}x^{(2)}+...+a^{(m)}x^{(m)}$$"
      ]
    },
    {
      "cell_type": "code",
      "metadata": {
        "id": "NZG_WATTAk_e"
      },
      "source": [
        "# Описываем класс модели\n",
        "class Regression(torch.nn.Module):\n",
        "  def __init__(self, num_features):\n",
        "    super().__init__()\n",
        "    # задаем нашу самую простую модель\n",
        "    self.linear=nn.Linear(num_features, 1) # nn.Linear хранит в себе функцию линейной регрессии \n",
        "\n",
        "  def forward(self, x):\n",
        "    # когда мы будем прогонять модель, она нам будет выдавать какой-то прогноз\n",
        "    y_pred = self.linear(x)\n",
        "    return y_pred\n",
        "\n",
        "# создает \"пустой\" (необученный) экземпляр модельки\n",
        "model=Regression(X_train.shape[1])"
      ],
      "execution_count": null,
      "outputs": []
    },
    {
      "cell_type": "markdown",
      "metadata": {
        "id": "BSyBvXTzGCDD"
      },
      "source": [
        "Напомню как выглядит функция потерь для нашей задачи: $MSE = \\frac{1}{n}\\sum(y_i-\\hat{y_i})^2$. Напомню, что она является усредненной квадратичной ошибкой прогноза нашей модели"
      ]
    },
    {
      "cell_type": "code",
      "metadata": {
        "id": "ke4sUFEjDk_P"
      },
      "source": [
        "# определяем функцию ошибки\n",
        "criterion = torch.nn.MSELoss()"
      ],
      "execution_count": null,
      "outputs": []
    },
    {
      "cell_type": "markdown",
      "metadata": {
        "id": "c1GId161GDN_"
      },
      "source": [
        "Напомню, что после выбора функции потерь (ошибки), нужно указать правило обновления параметров функции, которые модель \"выучивает\", значение производной \\frac{dMSE}{dk} функции ошибки MSE на объектах выборки и шагая с отрицательным знаком и скоростью $L$:\n",
        "\n",
        "$$a_{new} = a-L\\frac{dMSE}{dk}$$"
      ]
    },
    {
      "cell_type": "code",
      "metadata": {
        "id": "x2xo18zkAlB6"
      },
      "source": [
        "# создаем оптимизатор, который будет вычислять производную функции потерь и \"шагать\" в сторону её наименьшего значения изменяяя k\n",
        "# здесь параметр `lr` отвечает за \"размер шага\" (упомянут как L в лекции)\n",
        "optimizer = torch.optim.Adam(model.parameters(), lr=0.8)"
      ],
      "execution_count": null,
      "outputs": []
    },
    {
      "cell_type": "markdown",
      "metadata": {
        "id": "mgTIEJf_E9Ib"
      },
      "source": [
        "Напомню как выглядит функция потерь для нашей задачи: $MSE = \\frac{1}{n}\\sum(y_i-\\hat{y_i})^2$ - она является усредненной квадратичной ошибкой прогноза нашей модели"
      ]
    },
    {
      "cell_type": "code",
      "metadata": {
        "colab": {
          "base_uri": "https://localhost:8080/",
          "height": 324
        },
        "id": "y-A0MQBbAlFX",
        "outputId": "e76acb64-848e-4728-828b-168e1e9cc9e2"
      },
      "source": [
        "%%time\n",
        "\n",
        "NUM_OF_STEPS = 100000\n",
        "\n",
        "loss_list = []\n",
        "\n",
        "model.train() # перевожу можель в режим обучения\n",
        "\n",
        "# обучаем модель\n",
        "for step in range(NUM_OF_STEPS):\n",
        "    X_features = torch.from_numpy(X_train.values).type(torch.float)\n",
        "    y_true = torch.from_numpy(y_train.values).type(torch.float).view(X_features.size(0), -1)\n",
        "\n",
        "    # технический шаг, требуемый исключительно фреймворком PyTorch\n",
        "    optimizer.zero_grad()\n",
        "\n",
        "    # вычисляем предсказание модели на заданных признаках\n",
        "    y_pred_ = model(X_features)\n",
        "\n",
        "    # считаем значение функции потерь\n",
        "    loss = criterion(y_pred_, y_true)\n",
        "    #print('Значение функции потерь на данном шаге', loss)\n",
        "    loss_list.append(loss)\n",
        "    # заставляем оптимизатор вычислить все градиенты (производные)\n",
        "    loss.backward()\n",
        "\n",
        "    # ...и сделать шаг в сторону параметров, дающих хорошее значение функции ошибки\n",
        "    optimizer.step()\n",
        "\n",
        "plt.plot(loss_list)\n",
        "plt.xlabel('Номер итерации')\n",
        "plt.ylabel('Значение функции потерь на трейне (MSE)')\n",
        "plt.grid()"
      ],
      "execution_count": null,
      "outputs": [
        {
          "output_type": "stream",
          "text": [
            "CPU times: user 2min 37s, sys: 5.52 s, total: 2min 42s\n",
            "Wall time: 2min 42s\n"
          ],
          "name": "stdout"
        },
        {
          "output_type": "display_data",
          "data": {
            "image/png": "[encoded data removed]",
            "text/plain": [
              "<Figure size 432x288 with 1 Axes>"
            ]
          },
          "metadata": {
            "tags": [],
            "needs_background": "light"
          }
        }
      ]
    },
    {
      "cell_type": "code",
      "metadata": {
        "colab": {
          "base_uri": "https://localhost:8080/"
        },
        "id": "of9xKE19Mrho",
        "outputId": "f273ef48-3633-44c6-c85d-a65115b18cfb"
      },
      "source": [
        "# беру корень из значения ошибки, чтобы \"убить\" квадрат ошибки, фигурирующий в функции потерь MSE\n",
        "print('Значение корня из ошибки модели после обучения', np.round(loss_list[-1].item()**0.5), 'долларов')"
      ],
      "execution_count": null,
      "outputs": [
        {
          "output_type": "stream",
          "text": [
            "Значение корня из ошибки модели после обучения 19968.0 долларов\n"
          ],
          "name": "stdout"
        }
      ]
    },
    {
      "cell_type": "code",
      "metadata": {
        "id": "YUzqr66GAlIb",
        "colab": {
          "base_uri": "https://localhost:8080/"
        },
        "outputId": "0c5ced4c-67e3-4b28-f95c-366986ef2a1e"
      },
      "source": [
        "print('Средняя цена дома в трейн выборке', np.mean(y_train), 'долларов' )"
      ],
      "execution_count": null,
      "outputs": [
        {
          "output_type": "stream",
          "text": [
            "Средняя цена дома в трейн выборке 181665.98532289627 долларов\n"
          ],
          "name": "stdout"
        }
      ]
    },
    {
      "cell_type": "markdown",
      "metadata": {
        "id": "hjZ-KCGYULUJ"
      },
      "source": [
        "<font color=red size=6>! </font> <font color=red> На тренировочном наборе данных большая ошибка: порядка 11% от средней цены дома. Есть куда расти!\n",
        "\n",
        "Как можно улучшить:\n",
        "\n",
        "* Подобрать темп обучения (+ выводить не только график ошибки на обучении, но и на некоем дополнительном валидационном датасете, который модель также не видела, и добиться ситуации, когда ошибка на валидации будет минимальна)\n",
        "\n",
        "* Сгенерировать кросс-признаки, логарифмические, квадратичные (и другие полиномиальные признаки)\n",
        "\n",
        "* Нормировать данные, чтобы улучшить сходимость градиентного спуска\n",
        "\n",
        "* и т.д."
      ]
    },
    {
      "cell_type": "markdown",
      "metadata": {
        "id": "UoumKYRcVFUc"
      },
      "source": [
        "### <font color=green> Тестирование"
      ]
    },
    {
      "cell_type": "markdown",
      "metadata": {
        "id": "IMRmQ5TgTf2e"
      },
      "source": [
        "Все оценки модели нужно проводить на тестовой выборке, которую модель не видела. Посчитаем корень из средне-квадратичной ошибки для предсказаний модели на тестовой выборке"
      ]
    },
    {
      "cell_type": "code",
      "metadata": {
        "colab": {
          "base_uri": "https://localhost:8080/"
        },
        "id": "fj1UeVM9TpYw",
        "outputId": "c8db9ebd-ec27-4397-a79c-eb1ddc78d4ec"
      },
      "source": [
        "with torch.no_grad():\n",
        "  model.eval() # перевожу модель в режим предсказания\n",
        "  X_features_test = torch.from_numpy(X_test.values).type(torch.float)\n",
        "  y_pred_test = model(X_features_test)\n",
        "\n",
        "mse_test = round((np.sum((np.ravel(y_test.values) - np.ravel(y_pred_test.numpy()))**2) / len(y_test.values) )**0.5)\n",
        "\n",
        "print('Корень из MSE на тестовой выборке (которую модель не видела): ', mse_test, 'квадратных долларов')"
      ],
      "execution_count": null,
      "outputs": [
        {
          "output_type": "stream",
          "text": [
            "Корень из MSE на тестовой выборке (которую модель не видела):  28210 квадратных долларов\n"
          ],
          "name": "stdout"
        }
      ]
    },
    {
      "cell_type": "markdown",
      "metadata": {
        "id": "x-UclWybUpjA"
      },
      "source": [
        "Есть куда расти! Ситуация, когда ошибка модели на тестовой выборке больше, чем на тренировочной называется переобученностью. Нужно стремиться добиться такой обобщающей способности модели, чтобы ошибки на тренировочной и тестовой выборках совпадали. На [kaggle.com](https://www.kaggle.com/c/house-prices-advanced-regression-techniques/leaderboard) на этих данных лучший результат составляет почти нулевую ошибку на тестовой выборке "
      ]
    },
    {
      "cell_type": "code",
      "metadata": {
        "id": "zSn_fmoBUSZe"
      },
      "source": [
        ""
      ],
      "execution_count": null,
      "outputs": []
    }
  ]
}